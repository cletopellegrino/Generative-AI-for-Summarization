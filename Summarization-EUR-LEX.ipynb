{
 "cells": [
  {
   "cell_type": "code",
   "execution_count": 1,
   "id": "343ea15e-e8f9-4c17-a9b8-339f8c9d5ce2",
   "metadata": {},
   "outputs": [],
   "source": [
    "import torch\n",
    "import pandas as pd\n",
    "import numpy as np\n",
    "from transformers import T5Tokenizer, T5ForConditionalGeneration\n",
    "\n",
    "test_df = pd.read_csv(\"dataset/test_processed.csv\")"
   ]
  },
  {
   "cell_type": "code",
   "execution_count": 2,
   "id": "bd86cedd-db9d-44e9-ae8e-36ef22295689",
   "metadata": {},
   "outputs": [
    {
     "name": "stderr",
     "output_type": "stream",
     "text": [
      "You are using the default legacy behaviour of the <class 'transformers.models.t5.tokenization_t5.T5Tokenizer'>. This is expected, and simply means that the `legacy` (previous) behavior will be used so nothing changes for you. If you want to use the new behaviour, set `legacy=False`. This should only be set if you understand what it means, and thoroughly read the reason why this was added as explained in https://github.com/huggingface/transformers/pull/24565\n",
      "Special tokens have been added in the vocabulary, make sure the associated word embeddings are fine-tuned or trained.\n"
     ]
    },
    {
     "data": {
      "text/plain": [
       "(1000000000000000019884624838656,\n",
       " T5ForConditionalGeneration(\n",
       "   (shared): Embedding(32128, 1024)\n",
       "   (encoder): T5Stack(\n",
       "     (embed_tokens): Embedding(32128, 1024)\n",
       "     (block): ModuleList(\n",
       "       (0): T5Block(\n",
       "         (layer): ModuleList(\n",
       "           (0): T5LayerSelfAttention(\n",
       "             (SelfAttention): T5Attention(\n",
       "               (q): Linear(in_features=1024, out_features=1024, bias=False)\n",
       "               (k): Linear(in_features=1024, out_features=1024, bias=False)\n",
       "               (v): Linear(in_features=1024, out_features=1024, bias=False)\n",
       "               (o): Linear(in_features=1024, out_features=1024, bias=False)\n",
       "               (relative_attention_bias): Embedding(32, 16)\n",
       "             )\n",
       "             (layer_norm): T5LayerNorm()\n",
       "             (dropout): Dropout(p=0.1, inplace=False)\n",
       "           )\n",
       "           (1): T5LayerFF(\n",
       "             (DenseReluDense): T5DenseActDense(\n",
       "               (wi): Linear(in_features=1024, out_features=4096, bias=False)\n",
       "               (wo): Linear(in_features=4096, out_features=1024, bias=False)\n",
       "               (dropout): Dropout(p=0.1, inplace=False)\n",
       "               (act): ReLU()\n",
       "             )\n",
       "             (layer_norm): T5LayerNorm()\n",
       "             (dropout): Dropout(p=0.1, inplace=False)\n",
       "           )\n",
       "         )\n",
       "       )\n",
       "       (1-23): 23 x T5Block(\n",
       "         (layer): ModuleList(\n",
       "           (0): T5LayerSelfAttention(\n",
       "             (SelfAttention): T5Attention(\n",
       "               (q): Linear(in_features=1024, out_features=1024, bias=False)\n",
       "               (k): Linear(in_features=1024, out_features=1024, bias=False)\n",
       "               (v): Linear(in_features=1024, out_features=1024, bias=False)\n",
       "               (o): Linear(in_features=1024, out_features=1024, bias=False)\n",
       "             )\n",
       "             (layer_norm): T5LayerNorm()\n",
       "             (dropout): Dropout(p=0.1, inplace=False)\n",
       "           )\n",
       "           (1): T5LayerFF(\n",
       "             (DenseReluDense): T5DenseActDense(\n",
       "               (wi): Linear(in_features=1024, out_features=4096, bias=False)\n",
       "               (wo): Linear(in_features=4096, out_features=1024, bias=False)\n",
       "               (dropout): Dropout(p=0.1, inplace=False)\n",
       "               (act): ReLU()\n",
       "             )\n",
       "             (layer_norm): T5LayerNorm()\n",
       "             (dropout): Dropout(p=0.1, inplace=False)\n",
       "           )\n",
       "         )\n",
       "       )\n",
       "     )\n",
       "     (final_layer_norm): T5LayerNorm()\n",
       "     (dropout): Dropout(p=0.1, inplace=False)\n",
       "   )\n",
       "   (decoder): T5Stack(\n",
       "     (embed_tokens): Embedding(32128, 1024)\n",
       "     (block): ModuleList(\n",
       "       (0): T5Block(\n",
       "         (layer): ModuleList(\n",
       "           (0): T5LayerSelfAttention(\n",
       "             (SelfAttention): T5Attention(\n",
       "               (q): Linear(in_features=1024, out_features=1024, bias=False)\n",
       "               (k): Linear(in_features=1024, out_features=1024, bias=False)\n",
       "               (v): Linear(in_features=1024, out_features=1024, bias=False)\n",
       "               (o): Linear(in_features=1024, out_features=1024, bias=False)\n",
       "               (relative_attention_bias): Embedding(32, 16)\n",
       "             )\n",
       "             (layer_norm): T5LayerNorm()\n",
       "             (dropout): Dropout(p=0.1, inplace=False)\n",
       "           )\n",
       "           (1): T5LayerCrossAttention(\n",
       "             (EncDecAttention): T5Attention(\n",
       "               (q): Linear(in_features=1024, out_features=1024, bias=False)\n",
       "               (k): Linear(in_features=1024, out_features=1024, bias=False)\n",
       "               (v): Linear(in_features=1024, out_features=1024, bias=False)\n",
       "               (o): Linear(in_features=1024, out_features=1024, bias=False)\n",
       "             )\n",
       "             (layer_norm): T5LayerNorm()\n",
       "             (dropout): Dropout(p=0.1, inplace=False)\n",
       "           )\n",
       "           (2): T5LayerFF(\n",
       "             (DenseReluDense): T5DenseActDense(\n",
       "               (wi): Linear(in_features=1024, out_features=4096, bias=False)\n",
       "               (wo): Linear(in_features=4096, out_features=1024, bias=False)\n",
       "               (dropout): Dropout(p=0.1, inplace=False)\n",
       "               (act): ReLU()\n",
       "             )\n",
       "             (layer_norm): T5LayerNorm()\n",
       "             (dropout): Dropout(p=0.1, inplace=False)\n",
       "           )\n",
       "         )\n",
       "       )\n",
       "       (1-23): 23 x T5Block(\n",
       "         (layer): ModuleList(\n",
       "           (0): T5LayerSelfAttention(\n",
       "             (SelfAttention): T5Attention(\n",
       "               (q): Linear(in_features=1024, out_features=1024, bias=False)\n",
       "               (k): Linear(in_features=1024, out_features=1024, bias=False)\n",
       "               (v): Linear(in_features=1024, out_features=1024, bias=False)\n",
       "               (o): Linear(in_features=1024, out_features=1024, bias=False)\n",
       "             )\n",
       "             (layer_norm): T5LayerNorm()\n",
       "             (dropout): Dropout(p=0.1, inplace=False)\n",
       "           )\n",
       "           (1): T5LayerCrossAttention(\n",
       "             (EncDecAttention): T5Attention(\n",
       "               (q): Linear(in_features=1024, out_features=1024, bias=False)\n",
       "               (k): Linear(in_features=1024, out_features=1024, bias=False)\n",
       "               (v): Linear(in_features=1024, out_features=1024, bias=False)\n",
       "               (o): Linear(in_features=1024, out_features=1024, bias=False)\n",
       "             )\n",
       "             (layer_norm): T5LayerNorm()\n",
       "             (dropout): Dropout(p=0.1, inplace=False)\n",
       "           )\n",
       "           (2): T5LayerFF(\n",
       "             (DenseReluDense): T5DenseActDense(\n",
       "               (wi): Linear(in_features=1024, out_features=4096, bias=False)\n",
       "               (wo): Linear(in_features=4096, out_features=1024, bias=False)\n",
       "               (dropout): Dropout(p=0.1, inplace=False)\n",
       "               (act): ReLU()\n",
       "             )\n",
       "             (layer_norm): T5LayerNorm()\n",
       "             (dropout): Dropout(p=0.1, inplace=False)\n",
       "           )\n",
       "         )\n",
       "       )\n",
       "     )\n",
       "     (final_layer_norm): T5LayerNorm()\n",
       "     (dropout): Dropout(p=0.1, inplace=False)\n",
       "   )\n",
       "   (lm_head): Linear(in_features=1024, out_features=32128, bias=False)\n",
       " ))"
      ]
     },
     "execution_count": 2,
     "metadata": {},
     "output_type": "execute_result"
    }
   ],
   "source": [
    "tokenizer_t5 = T5Tokenizer.from_pretrained(\"google-t5/t5-large\")\n",
    "\n",
    "device = torch.device(\"cuda\") # GPU usage\n",
    "model_t5 = T5ForConditionalGeneration.from_pretrained(\"google-t5/t5-large\")\n",
    "model_t5.to(device)\n",
    "\n",
    "tokenizer_t5.model_max_length, model_t5"
   ]
  },
  {
   "cell_type": "code",
   "execution_count": 3,
   "id": "3dd3ae5d-b058-4801-b104-7e85a1a3bd60",
   "metadata": {},
   "outputs": [],
   "source": [
    "tokenizer_t5.model_max_length = 4096 "
   ]
  },
  {
   "cell_type": "code",
   "execution_count": 4,
   "id": "1dd76f09-78f6-4deb-a50b-2cc362f10fd7",
   "metadata": {},
   "outputs": [],
   "source": [
    "def GoBackReadingWindow(model, tokenizer, text):\n",
    "    torch.cuda.empty_cache()\n",
    "    if len(text.split()) < tokenizer.model_max_length:\n",
    "        inputs = tokenizer(\"summarize: \" + text,\\\n",
    "                           return_tensors=\"pt\",\\\n",
    "                           max_length=tokenizer.model_max_length,\\\n",
    "                           truncation=True).to(device)\n",
    "        outputs = model.generate(**inputs, min_length=0, max_new_tokens=tokenizer.model_max_length)\n",
    "        return tokenizer.decode(outputs[0], skip_special_tokens=True)\n",
    "    \n",
    "    OVERLAP = int(tokenizer.model_max_length * 0.2)\n",
    "    words = text.split()\n",
    "    chunks = []\n",
    "    start = 0\n",
    "\n",
    "    while start < len(words):\n",
    "        end = min(start + tokenizer.model_max_length, len(words))\n",
    "        chunks.append(' '.join(words[start:end]))\n",
    "        start += tokenizer.model_max_length - OVERLAP\n",
    "\n",
    "    print(len(chunks))\n",
    "    \n",
    "    summarized_chunks = []\n",
    "    for chunk in chunks:\n",
    "        inputs = tokenizer(\"summarize: \" + chunk,\\\n",
    "                           return_tensors=\"pt\",\\\n",
    "                           max_length=tokenizer.model_max_length,\\\n",
    "                           truncation=True).to(device)\n",
    "        outputs = model.generate(**inputs, min_length=0, max_new_tokens=tokenizer.model_max_length)\n",
    "        summarized_chunks.append(tokenizer.decode(outputs[0], skip_special_tokens=True))\n",
    "        torch.cuda.empty_cache()\n",
    "    \n",
    "    summarized_text = ' '.join(summarized_chunks)\n",
    "    \n",
    "    if len(summarized_text.split()) > tokenizer.model_max_length:\n",
    "        return GoBackReadingWindow(model, tokenizer, summarized_text)\n",
    "    else:\n",
    "        inputs = tokenizer(\"summarize: \" + summarized_text,\\\n",
    "                           return_tensors=\"pt\",\\\n",
    "                           max_length=tokenizer.model_max_length,\\\n",
    "                           truncation=True).to(device)\n",
    "        outputs = model.generate(**inputs, min_length=0, max_new_tokens=tokenizer.model_max_length)\n",
    "        return tokenizer.decode(outputs[0], skip_special_tokens=True)"
   ]
  },
  {
   "cell_type": "code",
   "execution_count": 5,
   "id": "f8a14966-abf4-428e-a4b3-bae56e660010",
   "metadata": {},
   "outputs": [],
   "source": [
    "def ReadingAfterwardsWindow(model, tokenizer, text):\n",
    "    torch.cuda.empty_cache()\n",
    "    if len(text.split()) < tokenizer.model_max_length:\n",
    "        inputs = tokenizer(\"summarize: \" + text,\\\n",
    "                           return_tensors=\"pt\",\\\n",
    "                           max_length=tokenizer.model_max_length,\\\n",
    "                           truncation=True).to(device)\n",
    "        outputs = model.generate(**inputs, min_length=0, max_new_tokens=tokenizer.model_max_length)\n",
    "        return tokenizer.decode(outputs[0], skip_special_tokens=True)\n",
    "    \n",
    "    OVERLAP = int(tokenizer.model_max_length * 0.2)\n",
    "    words = text.split()\n",
    "    chunks = []\n",
    "    start = 0\n",
    "\n",
    "    isfirts = True\n",
    "    while start < len(words):\n",
    "        end = min(start + tokenizer.model_max_length, len(words))\n",
    "        if isfirts:\n",
    "            chunks.append(' '.join(words[start:end]))\n",
    "            isfirts = False\n",
    "        else:\n",
    "            chunks.append(' '.join(words[start + OVERLAP:end]) + \" \" + ' '.join(words[start:start + OVERLAP]))\n",
    "        start += tokenizer.model_max_length - OVERLAP\n",
    "\n",
    "    print(len(chunks))\n",
    "    \n",
    "    summarized_chunks = []\n",
    "    for chunk in chunks:\n",
    "        inputs = tokenizer(\"summarize: \" + chunk,\\\n",
    "                           return_tensors=\"pt\",\\\n",
    "                           max_length=tokenizer.model_max_length,\\\n",
    "                           truncation=True).to(device)\n",
    "        outputs = model.generate(**inputs, min_length=0, max_new_tokens=tokenizer.model_max_length)\n",
    "        summarized_chunks.append(tokenizer.decode(outputs[0], skip_special_tokens=True))\n",
    "        torch.cuda.empty_cache()\n",
    "    \n",
    "    summarized_text = ' '.join(summarized_chunks)\n",
    "    \n",
    "    if len(summarized_text.split()) > tokenizer.model_max_length:\n",
    "        return ReadingAfterwardsWindow(model, tokenizer, summarized_text)\n",
    "    else:\n",
    "        inputs = tokenizer(\"summarize: \" + summarized_text,\\\n",
    "                           return_tensors=\"pt\",\\\n",
    "                           max_length=tokenizer.model_max_length,\\\n",
    "                           truncation=True).to(device)\n",
    "        outputs = model.generate(**inputs, min_length=0, max_new_tokens=tokenizer.model_max_length)\n",
    "        return tokenizer.decode(outputs[0], skip_special_tokens=True)"
   ]
  },
  {
   "cell_type": "code",
   "execution_count": 6,
   "id": "c528da8b-e79c-49c5-a75d-3892ccdc685d",
   "metadata": {},
   "outputs": [],
   "source": [
    "def ReadingWithJumpingWindow(model, tokenizer, text):\n",
    "    torch.cuda.empty_cache()\n",
    "    if len(text.split()) < tokenizer.model_max_length:\n",
    "        inputs = tokenizer(\"summarize: \" + text,\\\n",
    "                           return_tensors=\"pt\",\\\n",
    "                           max_length=tokenizer.model_max_length,\\\n",
    "                           truncation=True).to(device)\n",
    "        outputs = model.generate(**inputs, min_length=0, max_new_tokens=tokenizer.model_max_length)\n",
    "        return tokenizer.decode(outputs[0], skip_special_tokens=True)\n",
    "    \n",
    "    JUMP = 100\n",
    "    words = text.split()\n",
    "    chunks = []\n",
    "    start = 0\n",
    "\n",
    "    while start < len(words):\n",
    "        end = min(int(start + tokenizer.model_max_length + JUMP), len(words))\n",
    "        chunks.append(' '.join(words[int(start):int(start + tokenizer.model_max_length/2)]) \\\n",
    "                        + \" \" + ' '.join(words[int(start + tokenizer.model_max_length/2) + JUMP:end]))\n",
    "        start += tokenizer.model_max_length/2\n",
    "\n",
    "    print(len(chunks))\n",
    "    \n",
    "    summarized_chunks = []\n",
    "    for chunk in chunks:\n",
    "        inputs = tokenizer(\"summarize: \" + chunk,\\\n",
    "                           return_tensors=\"pt\",\\\n",
    "                           max_length=tokenizer.model_max_length,\\\n",
    "                           truncation=True).to(device)\n",
    "        outputs = model.generate(**inputs, min_length=0, max_new_tokens=tokenizer.model_max_length)\n",
    "        summarized_chunks.append(tokenizer.decode(outputs[0], skip_special_tokens=True))\n",
    "        torch.cuda.empty_cache()\n",
    "    \n",
    "    summarized_text = ' '.join(summarized_chunks)\n",
    "    \n",
    "    if len(summarized_text.split()) > tokenizer.model_max_length:\n",
    "        return ReadingWithJumpingWindow(model, tokenizer, summarized_text)\n",
    "    else:\n",
    "        inputs = tokenizer(\"summarize: \" + summarized_text,\\\n",
    "                           return_tensors=\"pt\",\\\n",
    "                           max_length=tokenizer.model_max_length,\\\n",
    "                           truncation=True).to(device)\n",
    "        outputs = model.generate(**inputs, min_length=0, max_new_tokens=tokenizer.model_max_length)\n",
    "        return tokenizer.decode(outputs[0], skip_special_tokens=True)"
   ]
  },
  {
   "cell_type": "markdown",
   "id": "76f02611-6044-4e5e-a70a-2dbf4e32b6cc",
   "metadata": {},
   "source": [
    "All the tests were performed by using just 30 texts for the following reasons:\n",
    "- Using all the dataset would take days to elaborate\n",
    "- The statistical method adopted (kruskal) have as an assumption to have at least 5 observations (https://docs.scipy.org/doc/scipy/reference/generated/scipy.stats.kruskal.html)"
   ]
  },
  {
   "cell_type": "code",
   "execution_count": 7,
   "id": "0c6e468e-fe32-49d5-bf5a-e1079f86d77b",
   "metadata": {},
   "outputs": [
    {
     "name": "stdout",
     "output_type": "stream",
     "text": [
      "4996\n",
      "2\n",
      "eu regulation establishes uniform rule on publication of national provision concerning marketing requirement for collective investment undertaking. it also provides for the establishment of a central database on the cross-border marketing of collective investment undertaking.\n"
     ]
    },
    {
     "name": "stderr",
     "output_type": "stream",
     "text": [
      "Some weights of RobertaModel were not initialized from the model checkpoint at roberta-large and are newly initialized: ['roberta.pooler.dense.bias', 'roberta.pooler.dense.weight']\n",
      "You should probably TRAIN this model on a down-stream task to be able to use it for predictions and inference.\n"
     ]
    },
    {
     "name": "stdout",
     "output_type": "stream",
     "text": [
      "T5 BertScore F1: 0.82\n",
      "14373\n",
      "5\n",
      "eu regulation aims to improve functioning of internal market by strengthening market surveillance of product covered by union harmonisation legislation. each member state shall designate one or more market surveillance authority in its territory.\n"
     ]
    },
    {
     "name": "stderr",
     "output_type": "stream",
     "text": [
      "Some weights of RobertaModel were not initialized from the model checkpoint at roberta-large and are newly initialized: ['roberta.pooler.dense.bias', 'roberta.pooler.dense.weight']\n",
      "You should probably TRAIN this model on a down-stream task to be able to use it for predictions and inference.\n"
     ]
    },
    {
     "name": "stdout",
     "output_type": "stream",
     "text": [
      "T5 BertScore F1: 0.81\n",
      "2073\n",
      "eu directive aims to enhance cross-border access to a greater number of television and radio programme. it lay down rule for the transmission of television and radio programme through the process of direct injection. member state shall ensure that rightholders may exercise their right to grant or refuse the authorisation for a retransmission.\n"
     ]
    },
    {
     "name": "stderr",
     "output_type": "stream",
     "text": [
      "Some weights of RobertaModel were not initialized from the model checkpoint at roberta-large and are newly initialized: ['roberta.pooler.dense.bias', 'roberta.pooler.dense.weight']\n",
      "You should probably TRAIN this model on a down-stream task to be able to use it for predictions and inference.\n"
     ]
    },
    {
     "name": "stdout",
     "output_type": "stream",
     "text": [
      "T5 BertScore F1: 0.83\n",
      "5690\n",
      "2\n",
      "eu rules on mutual recognition apply to goods lawfully marketed in another member state. they apply to goods that are lawfully marketed in the member state of destination. the regulation is intended to strengthen the functioning of the internal market.\n"
     ]
    },
    {
     "name": "stderr",
     "output_type": "stream",
     "text": [
      "Some weights of RobertaModel were not initialized from the model checkpoint at roberta-large and are newly initialized: ['roberta.pooler.dense.bias', 'roberta.pooler.dense.weight']\n",
      "You should probably TRAIN this model on a down-stream task to be able to use it for predictions and inference.\n"
     ]
    },
    {
     "name": "stdout",
     "output_type": "stream",
     "text": [
      "T5 BertScore F1: 0.82\n",
      "3990\n",
      ".eu country code top-level domain ( cctld ) is a. european union country code top-level domain ( cctld ) it is intended to support the digital single market. it also lay down the condition for its implementation, including the designation and characteristic of the registry.\n"
     ]
    },
    {
     "name": "stderr",
     "output_type": "stream",
     "text": [
      "Some weights of RobertaModel were not initialized from the model checkpoint at roberta-large and are newly initialized: ['roberta.pooler.dense.bias', 'roberta.pooler.dense.weight']\n",
      "You should probably TRAIN this model on a down-stream task to be able to use it for predictions and inference.\n"
     ]
    },
    {
     "name": "stdout",
     "output_type": "stream",
     "text": [
      "T5 BertScore F1: 0.81\n",
      "11101\n",
      "4\n",
      "the cef is a new eu instrument to support the development of trans-european network. it is open to the participation of third country in the eu free trade association. only action which contribute to the achievement of one or more objective of at least two sector shall be eligible.\n"
     ]
    },
    {
     "name": "stderr",
     "output_type": "stream",
     "text": [
      "Some weights of RobertaModel were not initialized from the model checkpoint at roberta-large and are newly initialized: ['roberta.pooler.dense.bias', 'roberta.pooler.dense.weight']\n",
      "You should probably TRAIN this model on a down-stream task to be able to use it for predictions and inference.\n"
     ]
    },
    {
     "name": "stdout",
     "output_type": "stream",
     "text": [
      "T5 BertScore F1: 0.79\n",
      "7399\n",
      "3\n",
      "terrorist content and related data shall be preserved for six month. the right to challenge a removal order shall be extended to six weeks. terrorist content and related data shall be preserved for six month.\n"
     ]
    },
    {
     "name": "stderr",
     "output_type": "stream",
     "text": [
      "Some weights of RobertaModel were not initialized from the model checkpoint at roberta-large and are newly initialized: ['roberta.pooler.dense.bias', 'roberta.pooler.dense.weight']\n",
      "You should probably TRAIN this model on a down-stream task to be able to use it for predictions and inference.\n"
     ]
    },
    {
     "name": "stdout",
     "output_type": "stream",
     "text": [
      "T5 BertScore F1: 0.78\n",
      "21083\n",
      "7\n",
      "horizon europe is a four-year programme to support research and innovation in europe. it is intended to deliver scientific, technological, economic and societal impact. pillar i 'excellent science' shall be the main focus of the programme. pillar ii 'innovative europe' shall be the main focus of the eit.\n"
     ]
    },
    {
     "name": "stderr",
     "output_type": "stream",
     "text": [
      "Some weights of RobertaModel were not initialized from the model checkpoint at roberta-large and are newly initialized: ['roberta.pooler.dense.bias', 'roberta.pooler.dense.weight']\n",
      "You should probably TRAIN this model on a down-stream task to be able to use it for predictions and inference.\n"
     ]
    },
    {
     "name": "stdout",
     "output_type": "stream",
     "text": [
      "T5 BertScore F1: 0.81\n",
      "31669\n",
      "10\n",
      "eu rules on procurement and financial management are amended. they apply to the eu's telecommunications programme. esa shall ensure a high degree of security with regard to the programme.\n"
     ]
    },
    {
     "name": "stderr",
     "output_type": "stream",
     "text": [
      "Some weights of RobertaModel were not initialized from the model checkpoint at roberta-large and are newly initialized: ['roberta.pooler.dense.bias', 'roberta.pooler.dense.weight']\n",
      "You should probably TRAIN this model on a down-stream task to be able to use it for predictions and inference.\n"
     ]
    },
    {
     "name": "stdout",
     "output_type": "stream",
     "text": [
      "T5 BertScore F1: 0.80\n",
      "8289\n",
      "3\n",
      "programme aims to support and accelerate the digital transformation of the european economy, industry and society. it will foster greater professionalism, especially with regard to high performance computing, big data analytics, cybersecurity and blockchain. funding for action which do not comply with ethical requirement may be suspended, terminated or reduced at any time.\n"
     ]
    },
    {
     "name": "stderr",
     "output_type": "stream",
     "text": [
      "Some weights of RobertaModel were not initialized from the model checkpoint at roberta-large and are newly initialized: ['roberta.pooler.dense.bias', 'roberta.pooler.dense.weight']\n",
      "You should probably TRAIN this model on a down-stream task to be able to use it for predictions and inference.\n"
     ]
    },
    {
     "name": "stdout",
     "output_type": "stream",
     "text": [
      "T5 BertScore F1: 0.81\n",
      "9686\n",
      "3\n",
      "programme aims to protect and empower consumer and business, especially smes. it will also promote a high level of consumer protection and product safety. programme may finance up to 100 % of eligible cost for financial support to third party.\n"
     ]
    },
    {
     "name": "stderr",
     "output_type": "stream",
     "text": [
      "Some weights of RobertaModel were not initialized from the model checkpoint at roberta-large and are newly initialized: ['roberta.pooler.dense.bias', 'roberta.pooler.dense.weight']\n",
      "You should probably TRAIN this model on a down-stream task to be able to use it for predictions and inference.\n"
     ]
    },
    {
     "name": "stdout",
     "output_type": "stream",
     "text": [
      "T5 BertScore F1: 0.81\n",
      "7910\n",
      "3\n",
      "firearm means portable barrelled weapon designed to expel shot, bullet or projectile by the action of a combustible propellant. a 'european firearm pas' shall be issued on request by the competent authority of a member state to a person lawfully entering into possession of and using firearm. firearm may be transferred from one member state to another without authorisation.\n"
     ]
    },
    {
     "name": "stderr",
     "output_type": "stream",
     "text": [
      "Some weights of RobertaModel were not initialized from the model checkpoint at roberta-large and are newly initialized: ['roberta.pooler.dense.bias', 'roberta.pooler.dense.weight']\n",
      "You should probably TRAIN this model on a down-stream task to be able to use it for predictions and inference.\n"
     ]
    },
    {
     "name": "stdout",
     "output_type": "stream",
     "text": [
      "T5 BertScore F1: 0.79\n",
      "5847\n",
      "2\n",
      "emswe is a harmonised interface for the electronic transmission of information. it is intended to facilitate the electronic transmission of information. member states shall establish a maritime national single window. it shall accept submission of information on a voluntary basis.\n"
     ]
    },
    {
     "name": "stderr",
     "output_type": "stream",
     "text": [
      "Some weights of RobertaModel were not initialized from the model checkpoint at roberta-large and are newly initialized: ['roberta.pooler.dense.bias', 'roberta.pooler.dense.weight']\n",
      "You should probably TRAIN this model on a down-stream task to be able to use it for predictions and inference.\n"
     ]
    },
    {
     "name": "stdout",
     "output_type": "stream",
     "text": [
      "T5 BertScore F1: 0.82\n",
      "10969\n",
      "4\n",
      "eets provider must provide a service to a road user in the eets domain. they must also provide the information necessary to identify suspected offender. member state must ensure eets provider maintain coverage of all eets domain on their territory.\n"
     ]
    },
    {
     "name": "stderr",
     "output_type": "stream",
     "text": [
      "Some weights of RobertaModel were not initialized from the model checkpoint at roberta-large and are newly initialized: ['roberta.pooler.dense.bias', 'roberta.pooler.dense.weight']\n",
      "You should probably TRAIN this model on a down-stream task to be able to use it for predictions and inference.\n"
     ]
    },
    {
     "name": "stdout",
     "output_type": "stream",
     "text": [
      "T5 BertScore F1: 0.80\n",
      "3579\n",
      "a european network of immigration liaison officer is established. it aims to enhance cooperation and coordination among immigration liaison officer deployed to third country by member state, the commission and union agency. information shall be exchanged via a secure web-based information exchange platform. the information shall not contain personal data or any link through which such personal data is directly or indirectly available.\n"
     ]
    },
    {
     "name": "stderr",
     "output_type": "stream",
     "text": [
      "Some weights of RobertaModel were not initialized from the model checkpoint at roberta-large and are newly initialized: ['roberta.pooler.dense.bias', 'roberta.pooler.dense.weight']\n",
      "You should probably TRAIN this model on a down-stream task to be able to use it for predictions and inference.\n"
     ]
    },
    {
     "name": "stdout",
     "output_type": "stream",
     "text": [
      "T5 BertScore F1: 0.82\n",
      "3503\n",
      "eu has adopted a regulation to strengthen security standard for identity card issued by member state to their own national and residence document. the regulation applies to. identity card issued to union citizen and their family member when exercising their right to free movement.\n"
     ]
    },
    {
     "name": "stderr",
     "output_type": "stream",
     "text": [
      "Some weights of RobertaModel were not initialized from the model checkpoint at roberta-large and are newly initialized: ['roberta.pooler.dense.bias', 'roberta.pooler.dense.weight']\n",
      "You should probably TRAIN this model on a down-stream task to be able to use it for predictions and inference.\n"
     ]
    },
    {
     "name": "stdout",
     "output_type": "stream",
     "text": [
      "T5 BertScore F1: 0.82\n",
      "11563\n",
      "4\n",
      "ecris-tcn is a system to identify member state holding previous conviction. it is intended to be used to obtain information on previous conviction. each member state shall ensure that the data are processed lawfully.\n"
     ]
    },
    {
     "name": "stderr",
     "output_type": "stream",
     "text": [
      "Some weights of RobertaModel were not initialized from the model checkpoint at roberta-large and are newly initialized: ['roberta.pooler.dense.bias', 'roberta.pooler.dense.weight']\n",
      "You should probably TRAIN this model on a down-stream task to be able to use it for predictions and inference.\n"
     ]
    },
    {
     "name": "stdout",
     "output_type": "stream",
     "text": [
      "T5 BertScore F1: 0.81\n",
      "31622\n",
      "10\n",
      "eu-lisa shall develop and manage the european search portal ( esp ) it shall query the ee, vi, etias, eurodac, si and interpol database. it shall provide reply to the user a soon a data are available. data shall be stored in the shared bm for a minimum of one year.\n"
     ]
    },
    {
     "name": "stderr",
     "output_type": "stream",
     "text": [
      "Some weights of RobertaModel were not initialized from the model checkpoint at roberta-large and are newly initialized: ['roberta.pooler.dense.bias', 'roberta.pooler.dense.weight']\n",
      "You should probably TRAIN this model on a down-stream task to be able to use it for predictions and inference.\n"
     ]
    },
    {
     "name": "stdout",
     "output_type": "stream",
     "text": [
      "T5 BertScore F1: 0.79\n",
      "27198\n",
      "9\n",
      "eu directive establishes a common framework for the promotion of energy from renewable source. it also lay down rule on financial support for electricity from renewable source. it also establishes sustainability and greenhouse gas emission saving criterion for biofuels.\n"
     ]
    },
    {
     "name": "stderr",
     "output_type": "stream",
     "text": [
      "Some weights of RobertaModel were not initialized from the model checkpoint at roberta-large and are newly initialized: ['roberta.pooler.dense.bias', 'roberta.pooler.dense.weight']\n",
      "You should probably TRAIN this model on a down-stream task to be able to use it for predictions and inference.\n"
     ]
    },
    {
     "name": "stdout",
     "output_type": "stream",
     "text": [
      "T5 BertScore F1: 0.84\n",
      "51813\n",
      "16\n",
      "eu directive aims to ensure harmonised regulation of electronic communication network, associated facility and associated service. member states shall ensure that national regulatory authority take all reasonable measure. national regulatory authority shall ensure that they act impartially, transparently and in a timely manner.\n"
     ]
    },
    {
     "name": "stderr",
     "output_type": "stream",
     "text": [
      "Some weights of RobertaModel were not initialized from the model checkpoint at roberta-large and are newly initialized: ['roberta.pooler.dense.bias', 'roberta.pooler.dense.weight']\n",
      "You should probably TRAIN this model on a down-stream task to be able to use it for predictions and inference.\n"
     ]
    },
    {
     "name": "stdout",
     "output_type": "stream",
     "text": [
      "T5 BertScore F1: 0.81\n",
      "2208\n",
      "the regulation applies to the monitoring and reporting by member state and manufacturer of heavy-duty vehicle. it applies with regard to the following vehicle category. data relating to new heavy-duty vehicle registered in the union shall be monitored and reported by 28 february each year.\n"
     ]
    },
    {
     "name": "stderr",
     "output_type": "stream",
     "text": [
      "Some weights of RobertaModel were not initialized from the model checkpoint at roberta-large and are newly initialized: ['roberta.pooler.dense.bias', 'roberta.pooler.dense.weight']\n",
      "You should probably TRAIN this model on a down-stream task to be able to use it for predictions and inference.\n"
     ]
    },
    {
     "name": "stdout",
     "output_type": "stream",
     "text": [
      "T5 BertScore F1: 0.83\n",
      "15661\n",
      "5\n",
      "luxembourg, slovenia and sweden shall inform the commission of the number of gas installations in their territory. slovenia shall not be bound by the obligation set out in paragraph 1 of this article. the preventive action plan shall be updated every four year after 1 march 2019.\n"
     ]
    },
    {
     "name": "stderr",
     "output_type": "stream",
     "text": [
      "Some weights of RobertaModel were not initialized from the model checkpoint at roberta-large and are newly initialized: ['roberta.pooler.dense.bias', 'roberta.pooler.dense.weight']\n",
      "You should probably TRAIN this model on a down-stream task to be able to use it for predictions and inference.\n"
     ]
    },
    {
     "name": "stdout",
     "output_type": "stream",
     "text": [
      "T5 BertScore F1: 0.79\n",
      "8895\n",
      "3\n",
      "a to g rescaled label shall be introduced by 2 august 2023. commission shall ensure that the label is homogenous.\n"
     ]
    },
    {
     "name": "stderr",
     "output_type": "stream",
     "text": [
      "Some weights of RobertaModel were not initialized from the model checkpoint at roberta-large and are newly initialized: ['roberta.pooler.dense.bias', 'roberta.pooler.dense.weight']\n",
      "You should probably TRAIN this model on a down-stream task to be able to use it for predictions and inference.\n"
     ]
    },
    {
     "name": "stdout",
     "output_type": "stream",
     "text": [
      "T5 BertScore F1: 0.79\n",
      "34094\n",
      "11\n",
      "eu regulations apply to the processing of personal data in the uk and u.s. they apply to the processing of personal data by controllers established in the uk and u.s. the data subject has the right to access, rectify, delete or limit the data processed.\n"
     ]
    },
    {
     "name": "stderr",
     "output_type": "stream",
     "text": [
      "Some weights of RobertaModel were not initialized from the model checkpoint at roberta-large and are newly initialized: ['roberta.pooler.dense.bias', 'roberta.pooler.dense.weight']\n",
      "You should probably TRAIN this model on a down-stream task to be able to use it for predictions and inference.\n"
     ]
    },
    {
     "name": "stdout",
     "output_type": "stream",
     "text": [
      "T5 BertScore F1: 0.82\n",
      "4713\n",
      "2\n",
      "harmonised index of consumer price (hicp, hicp-ct, ooh price index) and of the house price index ( hpi) shall be produced at union and national level. member state shall provide the commission with the harmonised index and all sub-indices at monthly interval.\n"
     ]
    },
    {
     "name": "stderr",
     "output_type": "stream",
     "text": [
      "Some weights of RobertaModel were not initialized from the model checkpoint at roberta-large and are newly initialized: ['roberta.pooler.dense.bias', 'roberta.pooler.dense.weight']\n",
      "You should probably TRAIN this model on a down-stream task to be able to use it for predictions and inference.\n"
     ]
    },
    {
     "name": "stdout",
     "output_type": "stream",
     "text": [
      "T5 BertScore F1: 0.83\n",
      "17067\n",
      "6\n",
      "investigation shall cover both dumping and injury. investigation shall be concluded within 15 month of the initiation.\n"
     ]
    },
    {
     "name": "stderr",
     "output_type": "stream",
     "text": [
      "Some weights of RobertaModel were not initialized from the model checkpoint at roberta-large and are newly initialized: ['roberta.pooler.dense.bias', 'roberta.pooler.dense.weight']\n",
      "You should probably TRAIN this model on a down-stream task to be able to use it for predictions and inference.\n"
     ]
    },
    {
     "name": "stdout",
     "output_type": "stream",
     "text": [
      "T5 BertScore F1: 0.80\n",
      "15049\n",
      "5\n",
      "subsidy shall be subject to countervailing measure if it is specific. investigation shall cover both subsidy and injury to union industry. commission shall take into account any'special circumstances'.\n"
     ]
    },
    {
     "name": "stderr",
     "output_type": "stream",
     "text": [
      "Some weights of RobertaModel were not initialized from the model checkpoint at roberta-large and are newly initialized: ['roberta.pooler.dense.bias', 'roberta.pooler.dense.weight']\n",
      "You should probably TRAIN this model on a down-stream task to be able to use it for predictions and inference.\n"
     ]
    },
    {
     "name": "stdout",
     "output_type": "stream",
     "text": [
      "T5 BertScore F1: 0.79\n",
      "18771\n",
      "6\n",
      "eu guarantee shall be provided for financing and investment operation. it shall be provided by the union budget for the period 2021 to 2027. unused amount of provisioning attributable to amount allocated by member state shall be paid back to the member state.\n"
     ]
    },
    {
     "name": "stderr",
     "output_type": "stream",
     "text": [
      "Some weights of RobertaModel were not initialized from the model checkpoint at roberta-large and are newly initialized: ['roberta.pooler.dense.bias', 'roberta.pooler.dense.weight']\n",
      "You should probably TRAIN this model on a down-stream task to be able to use it for predictions and inference.\n"
     ]
    },
    {
     "name": "stdout",
     "output_type": "stream",
     "text": [
      "T5 BertScore F1: 0.79\n",
      "12982\n",
      "4\n",
      "the recovery and resilience facility is a new eu instrument. it aims to support member states in achieving milestones and targets. the maximum amount of the loan support for each member state shall not exceed 6,8 % of it 2019 gni.\n"
     ]
    },
    {
     "name": "stderr",
     "output_type": "stream",
     "text": [
      "Some weights of RobertaModel were not initialized from the model checkpoint at roberta-large and are newly initialized: ['roberta.pooler.dense.bias', 'roberta.pooler.dense.weight']\n",
      "You should probably TRAIN this model on a down-stream task to be able to use it for predictions and inference.\n"
     ]
    },
    {
     "name": "stdout",
     "output_type": "stream",
     "text": [
      "T5 BertScore F1: 0.81\n",
      "4734\n",
      "2\n",
      "instrument is to be used to support member state in implementing reform. it is necessary to encourage investment and to increase competitiveness. limited part of the work programme, not exceeding 30 % of the yearly allocation, shall be reserved for special measure.\n"
     ]
    },
    {
     "name": "stderr",
     "output_type": "stream",
     "text": [
      "Some weights of RobertaModel were not initialized from the model checkpoint at roberta-large and are newly initialized: ['roberta.pooler.dense.bias', 'roberta.pooler.dense.weight']\n",
      "You should probably TRAIN this model on a down-stream task to be able to use it for predictions and inference.\n"
     ]
    },
    {
     "name": "stdout",
     "output_type": "stream",
     "text": [
      "T5 BertScore F1: 0.80\n",
      "0.8080353379249573\n"
     ]
    }
   ],
   "source": [
    "from bert_score import score\n",
    "\n",
    "F1_t51 = []\n",
    "\n",
    "for index, row in test_df[:30].iterrows():\n",
    "    reference_text = row[\"reference\"]\n",
    "    reference_summary = row[\"summary\"]\n",
    "    print(row[\"reference_tokens\"])\n",
    "\n",
    "    result_summary = GoBackReadingWindow(model_t5, tokenizer_t5, reference_text)\n",
    "    print(result_summary)\n",
    "    P, R, F1 = score([result_summary], [reference_summary], lang='en', verbose=False)\n",
    "    print(f\"T5 BertScore F1: {F1.item():.2f}\")\n",
    "    F1_t51.append(F1.item())\n",
    "    torch.cuda.empty_cache()\n",
    "\n",
    "np.save('F1_t51.npy', F1_t51)\n",
    "\n",
    "sum1 = 0\n",
    "for _ in F1_t51:\n",
    "    sum1 += _\n",
    "print(sum1 / len(F1_t51))"
   ]
  },
  {
   "cell_type": "code",
   "execution_count": 8,
   "id": "c02508b5-db32-43a3-96a7-f7689f1832a4",
   "metadata": {},
   "outputs": [
    {
     "name": "stdout",
     "output_type": "stream",
     "text": [
      "4996\n",
      "2\n",
      "eu regulation establishes uniform rule on publication of national provision concerning marketing requirement for collective investment undertaking. it also provides for the establishment of a central database on the cross-border marketing of collective investment undertaking.\n"
     ]
    },
    {
     "name": "stderr",
     "output_type": "stream",
     "text": [
      "Some weights of RobertaModel were not initialized from the model checkpoint at roberta-large and are newly initialized: ['roberta.pooler.dense.bias', 'roberta.pooler.dense.weight']\n",
      "You should probably TRAIN this model on a down-stream task to be able to use it for predictions and inference.\n"
     ]
    },
    {
     "name": "stdout",
     "output_type": "stream",
     "text": [
      "T5 BertScore F1: 0.82\n",
      "14373\n",
      "5\n",
      "eu regulation aims to improve functioning of internal market by strengthening market surveillance of product covered by union harmonisation legislation. each member state shall designate one or more market surveillance authority in its territory.\n"
     ]
    },
    {
     "name": "stderr",
     "output_type": "stream",
     "text": [
      "Some weights of RobertaModel were not initialized from the model checkpoint at roberta-large and are newly initialized: ['roberta.pooler.dense.bias', 'roberta.pooler.dense.weight']\n",
      "You should probably TRAIN this model on a down-stream task to be able to use it for predictions and inference.\n"
     ]
    },
    {
     "name": "stdout",
     "output_type": "stream",
     "text": [
      "T5 BertScore F1: 0.81\n",
      "2073\n",
      "eu directive aims to enhance cross-border access to a greater number of television and radio programme. it lay down rule for the transmission of television and radio programme through the process of direct injection. member state shall ensure that rightholders may exercise their right to grant or refuse the authorisation for a retransmission.\n"
     ]
    },
    {
     "name": "stderr",
     "output_type": "stream",
     "text": [
      "Some weights of RobertaModel were not initialized from the model checkpoint at roberta-large and are newly initialized: ['roberta.pooler.dense.bias', 'roberta.pooler.dense.weight']\n",
      "You should probably TRAIN this model on a down-stream task to be able to use it for predictions and inference.\n"
     ]
    },
    {
     "name": "stdout",
     "output_type": "stream",
     "text": [
      "T5 BertScore F1: 0.83\n",
      "5690\n",
      "2\n",
      "eu rules on mutual recognition apply to goods lawfully marketed in another member state. they apply to goods that are lawfully marketed in the member state of destination.\n"
     ]
    },
    {
     "name": "stderr",
     "output_type": "stream",
     "text": [
      "Some weights of RobertaModel were not initialized from the model checkpoint at roberta-large and are newly initialized: ['roberta.pooler.dense.bias', 'roberta.pooler.dense.weight']\n",
      "You should probably TRAIN this model on a down-stream task to be able to use it for predictions and inference.\n"
     ]
    },
    {
     "name": "stdout",
     "output_type": "stream",
     "text": [
      "T5 BertScore F1: 0.81\n",
      "3990\n",
      ".eu country code top-level domain ( cctld ) is a. european union country code top-level domain ( cctld ) it is intended to support the digital single market. it also lay down the condition for its implementation, including the designation and characteristic of the registry.\n"
     ]
    },
    {
     "name": "stderr",
     "output_type": "stream",
     "text": [
      "Some weights of RobertaModel were not initialized from the model checkpoint at roberta-large and are newly initialized: ['roberta.pooler.dense.bias', 'roberta.pooler.dense.weight']\n",
      "You should probably TRAIN this model on a down-stream task to be able to use it for predictions and inference.\n"
     ]
    },
    {
     "name": "stdout",
     "output_type": "stream",
     "text": [
      "T5 BertScore F1: 0.81\n",
      "11101\n",
      "4\n",
      "cef is a new eu instrument to support the development of trans-european network. it is open to the participation of third country in the eu free trade association.\n"
     ]
    },
    {
     "name": "stderr",
     "output_type": "stream",
     "text": [
      "Some weights of RobertaModel were not initialized from the model checkpoint at roberta-large and are newly initialized: ['roberta.pooler.dense.bias', 'roberta.pooler.dense.weight']\n",
      "You should probably TRAIN this model on a down-stream task to be able to use it for predictions and inference.\n"
     ]
    },
    {
     "name": "stdout",
     "output_type": "stream",
     "text": [
      "T5 BertScore F1: 0.80\n",
      "7399\n",
      "3\n",
      "hosting service provider is exposed to terrorist content if it makes available information to the public for educational, journalistic, artistic or research purpose. decision on the specific measure shall be made by the competent authority of the member state where the hosting service provider is exposed.\n"
     ]
    },
    {
     "name": "stderr",
     "output_type": "stream",
     "text": [
      "Some weights of RobertaModel were not initialized from the model checkpoint at roberta-large and are newly initialized: ['roberta.pooler.dense.bias', 'roberta.pooler.dense.weight']\n",
      "You should probably TRAIN this model on a down-stream task to be able to use it for predictions and inference.\n"
     ]
    },
    {
     "name": "stdout",
     "output_type": "stream",
     "text": [
      "T5 BertScore F1: 0.82\n",
      "21083\n",
      "7\n",
      "pillar i of the programme aims to tackle climate change. pillar ii of the programme aims to tackle 'global challenge and european industrial competitiveness' priority shall be given to innovative smes and attention to their integration in collaborative project under pillar ii.\n"
     ]
    },
    {
     "name": "stderr",
     "output_type": "stream",
     "text": [
      "Some weights of RobertaModel were not initialized from the model checkpoint at roberta-large and are newly initialized: ['roberta.pooler.dense.bias', 'roberta.pooler.dense.weight']\n",
      "You should probably TRAIN this model on a down-stream task to be able to use it for predictions and inference.\n"
     ]
    },
    {
     "name": "stdout",
     "output_type": "stream",
     "text": [
      "T5 BertScore F1: 0.80\n",
      "31669\n",
      "10\n",
      "eu space programme aims to provide high-quality and up-to-date space data and information. eumetsat is the entrusted operator of the eu space agency. the agency shall ensure the security of the programme.\n"
     ]
    },
    {
     "name": "stderr",
     "output_type": "stream",
     "text": [
      "Some weights of RobertaModel were not initialized from the model checkpoint at roberta-large and are newly initialized: ['roberta.pooler.dense.bias', 'roberta.pooler.dense.weight']\n",
      "You should probably TRAIN this model on a down-stream task to be able to use it for predictions and inference.\n"
     ]
    },
    {
     "name": "stdout",
     "output_type": "stream",
     "text": [
      "T5 BertScore F1: 0.82\n",
      "8289\n",
      "3\n",
      "programme aims to support and accelerate the digital transformation of the european economy, industry and society. it will foster greater professionalism, especially with regard to high performance computing, big data analytics, cybersecurity and blockchain. programme shall be implemented under direct management, in accordance with the financial regulation.\n"
     ]
    },
    {
     "name": "stderr",
     "output_type": "stream",
     "text": [
      "Some weights of RobertaModel were not initialized from the model checkpoint at roberta-large and are newly initialized: ['roberta.pooler.dense.bias', 'roberta.pooler.dense.weight']\n",
      "You should probably TRAIN this model on a down-stream task to be able to use it for predictions and inference.\n"
     ]
    },
    {
     "name": "stdout",
     "output_type": "stream",
     "text": [
      "T5 BertScore F1: 0.82\n",
      "9686\n",
      "3\n",
      "programme aims to protect and empower consumer and business, especially smes. it will also promote a high level of consumer protection and product safety. programme may finance up to 100 % of eligible cost of an action.\n"
     ]
    },
    {
     "name": "stderr",
     "output_type": "stream",
     "text": [
      "Some weights of RobertaModel were not initialized from the model checkpoint at roberta-large and are newly initialized: ['roberta.pooler.dense.bias', 'roberta.pooler.dense.weight']\n",
      "You should probably TRAIN this model on a down-stream task to be able to use it for predictions and inference.\n"
     ]
    },
    {
     "name": "stdout",
     "output_type": "stream",
     "text": [
      "T5 BertScore F1: 0.81\n",
      "7910\n",
      "3\n",
      "firearm means portable barrelled weapon designed to expel shot, bullet or projectile by the action of a combustible propellant. a 'european firearm pas' shall be issued on request by the competent authority of a member state to a person lawfully entering into possession of and using firearm.\n"
     ]
    },
    {
     "name": "stderr",
     "output_type": "stream",
     "text": [
      "Some weights of RobertaModel were not initialized from the model checkpoint at roberta-large and are newly initialized: ['roberta.pooler.dense.bias', 'roberta.pooler.dense.weight']\n",
      "You should probably TRAIN this model on a down-stream task to be able to use it for predictions and inference.\n"
     ]
    },
    {
     "name": "stdout",
     "output_type": "stream",
     "text": [
      "T5 BertScore F1: 0.79\n",
      "5847\n",
      "2\n",
      "emswe is a harmonised interface for the electronic transmission of information. it is intended to facilitate the electronic transmission of information. member states shall establish a maritime national single window.\n"
     ]
    },
    {
     "name": "stderr",
     "output_type": "stream",
     "text": [
      "Some weights of RobertaModel were not initialized from the model checkpoint at roberta-large and are newly initialized: ['roberta.pooler.dense.bias', 'roberta.pooler.dense.weight']\n",
      "You should probably TRAIN this model on a down-stream task to be able to use it for predictions and inference.\n"
     ]
    },
    {
     "name": "stdout",
     "output_type": "stream",
     "text": [
      "T5 BertScore F1: 0.82\n",
      "10969\n",
      "4\n",
      "eets provider must provide a service to a road user in the eets domain. they must also provide the information necessary to identify suspected offender. eets provider shall be entitled to be remunerated by the toll charger. member state shall adopt and publish by 19 october 2021 the law, regulation and administrative provision necessary to comply with article 1 to 27.\n"
     ]
    },
    {
     "name": "stderr",
     "output_type": "stream",
     "text": [
      "Some weights of RobertaModel were not initialized from the model checkpoint at roberta-large and are newly initialized: ['roberta.pooler.dense.bias', 'roberta.pooler.dense.weight']\n",
      "You should probably TRAIN this model on a down-stream task to be able to use it for predictions and inference.\n"
     ]
    },
    {
     "name": "stdout",
     "output_type": "stream",
     "text": [
      "T5 BertScore F1: 0.80\n",
      "3579\n",
      "a european network of immigration liaison officer is established. it aims to enhance cooperation and coordination among immigration liaison officer deployed to third country by member state, the commission and union agency. information shall be exchanged via a secure web-based information exchange platform. the information shall not contain personal data or any link through which such personal data is directly or indirectly available.\n"
     ]
    },
    {
     "name": "stderr",
     "output_type": "stream",
     "text": [
      "Some weights of RobertaModel were not initialized from the model checkpoint at roberta-large and are newly initialized: ['roberta.pooler.dense.bias', 'roberta.pooler.dense.weight']\n",
      "You should probably TRAIN this model on a down-stream task to be able to use it for predictions and inference.\n"
     ]
    },
    {
     "name": "stdout",
     "output_type": "stream",
     "text": [
      "T5 BertScore F1: 0.82\n",
      "3503\n",
      "eu has adopted a regulation to strengthen security standard for identity card issued by member state to their own national and residence document. the regulation applies to. identity card issued to union citizen and their family member when exercising their right to free movement.\n"
     ]
    },
    {
     "name": "stderr",
     "output_type": "stream",
     "text": [
      "Some weights of RobertaModel were not initialized from the model checkpoint at roberta-large and are newly initialized: ['roberta.pooler.dense.bias', 'roberta.pooler.dense.weight']\n",
      "You should probably TRAIN this model on a down-stream task to be able to use it for predictions and inference.\n"
     ]
    },
    {
     "name": "stdout",
     "output_type": "stream",
     "text": [
      "T5 BertScore F1: 0.82\n",
      "11563\n",
      "4\n",
      "ecris-tcn is a system to identify member state holding previous conviction. it was established in april 2012 and is used by the european commission. ecris-tcn is intended to be used to obtain information on previous conviction.\n"
     ]
    },
    {
     "name": "stderr",
     "output_type": "stream",
     "text": [
      "Some weights of RobertaModel were not initialized from the model checkpoint at roberta-large and are newly initialized: ['roberta.pooler.dense.bias', 'roberta.pooler.dense.weight']\n",
      "You should probably TRAIN this model on a down-stream task to be able to use it for predictions and inference.\n"
     ]
    },
    {
     "name": "stdout",
     "output_type": "stream",
     "text": [
      "T5 BertScore F1: 0.81\n",
      "31622\n",
      "10\n",
      "eu-lisa shall develop and manage the european search portal ( esp ) it shall query the ee, vi, etias, eurodac, si and interpol database. it shall provide reply to the user a soon a data are available from one of the eu.\n"
     ]
    },
    {
     "name": "stderr",
     "output_type": "stream",
     "text": [
      "Some weights of RobertaModel were not initialized from the model checkpoint at roberta-large and are newly initialized: ['roberta.pooler.dense.bias', 'roberta.pooler.dense.weight']\n",
      "You should probably TRAIN this model on a down-stream task to be able to use it for predictions and inference.\n"
     ]
    },
    {
     "name": "stdout",
     "output_type": "stream",
     "text": [
      "T5 BertScore F1: 0.79\n",
      "27198\n",
      "9\n",
      "eu directive aims to encourage the use of renewable energy sources in the uk. it also establishes sustainability and greenhouse gas emission saving criterion for biofuels. directive repealed with effect from 1 july 2021.\n"
     ]
    },
    {
     "name": "stderr",
     "output_type": "stream",
     "text": [
      "Some weights of RobertaModel were not initialized from the model checkpoint at roberta-large and are newly initialized: ['roberta.pooler.dense.bias', 'roberta.pooler.dense.weight']\n",
      "You should probably TRAIN this model on a down-stream task to be able to use it for predictions and inference.\n"
     ]
    },
    {
     "name": "stdout",
     "output_type": "stream",
     "text": [
      "T5 BertScore F1: 0.82\n",
      "51813\n",
      "16\n",
      "eu directive aims to ensure harmonised regulation of electronic communication network, associated facility and associated service. member states shall ensure that in carrying out the regulatory task specified in this directive, the national regulatory authority shall be entitled to collect necessary data and information. member state shall ensure that the use of radio spectrum is organised on their territory in a way that no other member state is prevented from using it.\n"
     ]
    },
    {
     "name": "stderr",
     "output_type": "stream",
     "text": [
      "Some weights of RobertaModel were not initialized from the model checkpoint at roberta-large and are newly initialized: ['roberta.pooler.dense.bias', 'roberta.pooler.dense.weight']\n",
      "You should probably TRAIN this model on a down-stream task to be able to use it for predictions and inference.\n"
     ]
    },
    {
     "name": "stdout",
     "output_type": "stream",
     "text": [
      "T5 BertScore F1: 0.81\n",
      "2208\n",
      "the regulation applies to the monitoring and reporting by member state and manufacturer of heavy-duty vehicle. it applies with regard to the following vehicle category. data relating to new heavy-duty vehicle registered in the union shall be monitored and reported by 28 february each year.\n"
     ]
    },
    {
     "name": "stderr",
     "output_type": "stream",
     "text": [
      "Some weights of RobertaModel were not initialized from the model checkpoint at roberta-large and are newly initialized: ['roberta.pooler.dense.bias', 'roberta.pooler.dense.weight']\n",
      "You should probably TRAIN this model on a down-stream task to be able to use it for predictions and inference.\n"
     ]
    },
    {
     "name": "stdout",
     "output_type": "stream",
     "text": [
      "T5 BertScore F1: 0.83\n",
      "15661\n",
      "5\n",
      "entsog shall carry out a union-wide simulation of gas supply and infrastructure disruption scenario. each member state shall make a national risk assessment of all relevant risk affecting the security of gas supply.\n"
     ]
    },
    {
     "name": "stderr",
     "output_type": "stream",
     "text": [
      "Some weights of RobertaModel were not initialized from the model checkpoint at roberta-large and are newly initialized: ['roberta.pooler.dense.bias', 'roberta.pooler.dense.weight']\n",
      "You should probably TRAIN this model on a down-stream task to be able to use it for predictions and inference.\n"
     ]
    },
    {
     "name": "stdout",
     "output_type": "stream",
     "text": [
      "T5 BertScore F1: 0.82\n",
      "8895\n",
      "3\n",
      "directive provides for the labelling of those product placed on market. it provides for the provision of standard product information regarding energy efficiency. it also provides supplementary information concerning product.\n"
     ]
    },
    {
     "name": "stderr",
     "output_type": "stream",
     "text": [
      "Some weights of RobertaModel were not initialized from the model checkpoint at roberta-large and are newly initialized: ['roberta.pooler.dense.bias', 'roberta.pooler.dense.weight']\n",
      "You should probably TRAIN this model on a down-stream task to be able to use it for predictions and inference.\n"
     ]
    },
    {
     "name": "stdout",
     "output_type": "stream",
     "text": [
      "T5 BertScore F1: 0.82\n",
      "34094\n",
      "11\n",
      "eu regulations apply to the processing of personal data in the uk and u.s. they apply to the processing of personal data by controllers established in the uk and u.s. the data subject has the right to withdraw his or her consent at any time. the data subject has the right to access, rectify, delete or limit the data processed. the data subject has the right to be informed of any data breach.\n"
     ]
    },
    {
     "name": "stderr",
     "output_type": "stream",
     "text": [
      "Some weights of RobertaModel were not initialized from the model checkpoint at roberta-large and are newly initialized: ['roberta.pooler.dense.bias', 'roberta.pooler.dense.weight']\n",
      "You should probably TRAIN this model on a down-stream task to be able to use it for predictions and inference.\n"
     ]
    },
    {
     "name": "stdout",
     "output_type": "stream",
     "text": [
      "T5 BertScore F1: 0.81\n",
      "4713\n",
      "2\n",
      "harmonised index of consumer price (hicp, hicp-ct, ooh price index) and of the house price index ( hpi) shall be produced at union and national level. member state shall provide the commission with the harmonised index and all sub-indices at monthly interval.\n"
     ]
    },
    {
     "name": "stderr",
     "output_type": "stream",
     "text": [
      "Some weights of RobertaModel were not initialized from the model checkpoint at roberta-large and are newly initialized: ['roberta.pooler.dense.bias', 'roberta.pooler.dense.weight']\n",
      "You should probably TRAIN this model on a down-stream task to be able to use it for predictions and inference.\n"
     ]
    },
    {
     "name": "stdout",
     "output_type": "stream",
     "text": [
      "T5 BertScore F1: 0.83\n",
      "17067\n",
      "6\n",
      "investigation shall cover both dumping and injury. provisional anti-dumping duty shall not exceed the margin of dumping. measure shall be imposed by regulation and collected by member state.\n"
     ]
    },
    {
     "name": "stderr",
     "output_type": "stream",
     "text": [
      "Some weights of RobertaModel were not initialized from the model checkpoint at roberta-large and are newly initialized: ['roberta.pooler.dense.bias', 'roberta.pooler.dense.weight']\n",
      "You should probably TRAIN this model on a down-stream task to be able to use it for predictions and inference.\n"
     ]
    },
    {
     "name": "stdout",
     "output_type": "stream",
     "text": [
      "T5 BertScore F1: 0.80\n",
      "15049\n",
      "5\n",
      "subsidy shall be subject to countervailing measure if it is specific. investigation shall cover both subsidy and injury. definitive countervailing duty shall be imposed on all imports.\n"
     ]
    },
    {
     "name": "stderr",
     "output_type": "stream",
     "text": [
      "Some weights of RobertaModel were not initialized from the model checkpoint at roberta-large and are newly initialized: ['roberta.pooler.dense.bias', 'roberta.pooler.dense.weight']\n",
      "You should probably TRAIN this model on a down-stream task to be able to use it for predictions and inference.\n"
     ]
    },
    {
     "name": "stdout",
     "output_type": "stream",
     "text": [
      "T5 BertScore F1: 0.81\n",
      "18771\n",
      "6\n",
      "eu guarantee shall be provided for financing and investment operation. it shall be provided in the form of cash or guarantee by member state. unused amount of provisioning attributable to amount allocated by member state shall be paid back to member state.\n"
     ]
    },
    {
     "name": "stderr",
     "output_type": "stream",
     "text": [
      "Some weights of RobertaModel were not initialized from the model checkpoint at roberta-large and are newly initialized: ['roberta.pooler.dense.bias', 'roberta.pooler.dense.weight']\n",
      "You should probably TRAIN this model on a down-stream task to be able to use it for predictions and inference.\n"
     ]
    },
    {
     "name": "stdout",
     "output_type": "stream",
     "text": [
      "T5 BertScore F1: 0.78\n",
      "12982\n",
      "4\n",
      "the recovery and resilience facility is a new eu instrument. it aims to support member states in achieving milestones and targets. the facility is to be used exclusively for the benefit of the member state concerned.\n"
     ]
    },
    {
     "name": "stderr",
     "output_type": "stream",
     "text": [
      "Some weights of RobertaModel were not initialized from the model checkpoint at roberta-large and are newly initialized: ['roberta.pooler.dense.bias', 'roberta.pooler.dense.weight']\n",
      "You should probably TRAIN this model on a down-stream task to be able to use it for predictions and inference.\n"
     ]
    },
    {
     "name": "stdout",
     "output_type": "stream",
     "text": [
      "T5 BertScore F1: 0.81\n",
      "4734\n",
      "2\n",
      "instrument is to be used to support member state in implementing reform. it is necessary to encourage investment and to increase competitiveness. by 31 december 2030, the commission shall provide a global assessment of the implementation.\n"
     ]
    },
    {
     "name": "stderr",
     "output_type": "stream",
     "text": [
      "Some weights of RobertaModel were not initialized from the model checkpoint at roberta-large and are newly initialized: ['roberta.pooler.dense.bias', 'roberta.pooler.dense.weight']\n",
      "You should probably TRAIN this model on a down-stream task to be able to use it for predictions and inference.\n"
     ]
    },
    {
     "name": "stdout",
     "output_type": "stream",
     "text": [
      "T5 BertScore F1: 0.81\n",
      "0.811858578523\n"
     ]
    }
   ],
   "source": [
    "F1_t52 = []\n",
    "\n",
    "for index, row in test_df[:30].iterrows():\n",
    "    reference_text = row[\"reference\"]\n",
    "    reference_summary = row[\"summary\"]\n",
    "    print(row[\"reference_tokens\"])\n",
    "\n",
    "    result_summary = ReadingAfterwardsWindow(model_t5, tokenizer_t5, reference_text)\n",
    "    print(result_summary)\n",
    "    P, R, F1 = score([result_summary], [reference_summary], lang='en', verbose=False)\n",
    "    print(f\"T5 BertScore F1: {F1.item():.2f}\")\n",
    "    F1_t52.append(F1.item())\n",
    "    torch.cuda.empty_cache()\n",
    "\n",
    "np.save('F1_t52.npy', F1_t52)\n",
    "\n",
    "sum2 = 0\n",
    "for _ in F1_t52:\n",
    "    sum2 += _\n",
    "print(sum2 / len(F1_t52))"
   ]
  },
  {
   "cell_type": "code",
   "execution_count": 9,
   "id": "bccf0a27-2cd5-47e7-b0b7-117ff10bb292",
   "metadata": {},
   "outputs": [
    {
     "name": "stdout",
     "output_type": "stream",
     "text": [
      "4996\n",
      "3\n",
      "eu regulation establishes uniform rule on publication of national provision concerning marketing requirement for collective investment undertaking. it also provides for the establishment of a central database on the cross-border marketing of collective investment undertaking.\n"
     ]
    },
    {
     "name": "stderr",
     "output_type": "stream",
     "text": [
      "Some weights of RobertaModel were not initialized from the model checkpoint at roberta-large and are newly initialized: ['roberta.pooler.dense.bias', 'roberta.pooler.dense.weight']\n",
      "You should probably TRAIN this model on a down-stream task to be able to use it for predictions and inference.\n"
     ]
    },
    {
     "name": "stdout",
     "output_type": "stream",
     "text": [
      "T5 BertScore F1: 0.82\n",
      "14373\n",
      "8\n",
      "eu regulation aims to improve functioning of internal market by strengthening market surveillance of product covered by union harmonisation legislation. a product subject to legislation referred to in paragraph 5 may be placed on the market only if there is an economic operator established in the union. market surveillance authority shall carry out appropriate check on the characteristic of product on an adequate scale. they shall require economic operator to remove content referring to product from online interface or to require explicit display of warning.\n"
     ]
    },
    {
     "name": "stderr",
     "output_type": "stream",
     "text": [
      "Some weights of RobertaModel were not initialized from the model checkpoint at roberta-large and are newly initialized: ['roberta.pooler.dense.bias', 'roberta.pooler.dense.weight']\n",
      "You should probably TRAIN this model on a down-stream task to be able to use it for predictions and inference.\n"
     ]
    },
    {
     "name": "stdout",
     "output_type": "stream",
     "text": [
      "T5 BertScore F1: 0.82\n",
      "2073\n",
      "eu directive aims to enhance cross-border access to a greater number of television and radio programme. it lay down rule for the transmission of television and radio programme through the process of direct injection. member state shall ensure that rightholders may exercise their right to grant or refuse the authorisation for a retransmission.\n"
     ]
    },
    {
     "name": "stderr",
     "output_type": "stream",
     "text": [
      "Some weights of RobertaModel were not initialized from the model checkpoint at roberta-large and are newly initialized: ['roberta.pooler.dense.bias', 'roberta.pooler.dense.weight']\n",
      "You should probably TRAIN this model on a down-stream task to be able to use it for predictions and inference.\n"
     ]
    },
    {
     "name": "stdout",
     "output_type": "stream",
     "text": [
      "T5 BertScore F1: 0.83\n",
      "5690\n",
      "3\n",
      "eu rules on mutual recognition apply to goods lawfully marketed in another member state. they apply to goods that are lawfully marketed in the member state of destination. the regulation is intended to strengthen the functioning of the internal market.\n"
     ]
    },
    {
     "name": "stderr",
     "output_type": "stream",
     "text": [
      "Some weights of RobertaModel were not initialized from the model checkpoint at roberta-large and are newly initialized: ['roberta.pooler.dense.bias', 'roberta.pooler.dense.weight']\n",
      "You should probably TRAIN this model on a down-stream task to be able to use it for predictions and inference.\n"
     ]
    },
    {
     "name": "stdout",
     "output_type": "stream",
     "text": [
      "T5 BertScore F1: 0.82\n",
      "3990\n",
      ".eu country code top-level domain ( cctld ) is a. european union country code top-level domain ( cctld ) it is intended to support the digital single market. it also lay down the condition for its implementation, including the designation and characteristic of the registry.\n"
     ]
    },
    {
     "name": "stderr",
     "output_type": "stream",
     "text": [
      "Some weights of RobertaModel were not initialized from the model checkpoint at roberta-large and are newly initialized: ['roberta.pooler.dense.bias', 'roberta.pooler.dense.weight']\n",
      "You should probably TRAIN this model on a down-stream task to be able to use it for predictions and inference.\n"
     ]
    },
    {
     "name": "stdout",
     "output_type": "stream",
     "text": [
      "T5 BertScore F1: 0.81\n",
      "11101\n",
      "6\n",
      "the cef is a new eu instrument to support the development of trans-european network. it is open to participation of third country in accordance with eea agreement. only action which contribute to achievement of objective referred to in article 3 ( 2 ) shall be eligible for funding.\n"
     ]
    },
    {
     "name": "stderr",
     "output_type": "stream",
     "text": [
      "Some weights of RobertaModel were not initialized from the model checkpoint at roberta-large and are newly initialized: ['roberta.pooler.dense.bias', 'roberta.pooler.dense.weight']\n",
      "You should probably TRAIN this model on a down-stream task to be able to use it for predictions and inference.\n"
     ]
    },
    {
     "name": "stdout",
     "output_type": "stream",
     "text": [
      "T5 BertScore F1: 0.80\n",
      "7399\n",
      "4\n",
      "hosting service provider exposed to terrorist content shall take specific measure. terrorist content and related data shall be preserved for six month. right to an effective remedy shall include the right to challenge a removal order issued pursuant to article 3.\n"
     ]
    },
    {
     "name": "stderr",
     "output_type": "stream",
     "text": [
      "Some weights of RobertaModel were not initialized from the model checkpoint at roberta-large and are newly initialized: ['roberta.pooler.dense.bias', 'roberta.pooler.dense.weight']\n",
      "You should probably TRAIN this model on a down-stream task to be able to use it for predictions and inference.\n"
     ]
    },
    {
     "name": "stdout",
     "output_type": "stream",
     "text": [
      "T5 BertScore F1: 0.81\n",
      "21083\n",
      "11\n",
      "horizon europe is a four-year programme to support research and innovation in europe. funding under the programme shall be provided by means of grant. priority shall be given to innovative smes and special attention to their integration in collaborative project under pillar ii.\n"
     ]
    },
    {
     "name": "stderr",
     "output_type": "stream",
     "text": [
      "Some weights of RobertaModel were not initialized from the model checkpoint at roberta-large and are newly initialized: ['roberta.pooler.dense.bias', 'roberta.pooler.dense.weight']\n",
      "You should probably TRAIN this model on a down-stream task to be able to use it for predictions and inference.\n"
     ]
    },
    {
     "name": "stdout",
     "output_type": "stream",
     "text": [
      "T5 BertScore F1: 0.80\n",
      "31669\n",
      "16\n",
      "eu space programme is a ten-year programme covering the period 2021-2027. it is aimed at providing high-quality and up-to-date space data and information. the programme is open to the participation of third country and international organisation.\n"
     ]
    },
    {
     "name": "stderr",
     "output_type": "stream",
     "text": [
      "Some weights of RobertaModel were not initialized from the model checkpoint at roberta-large and are newly initialized: ['roberta.pooler.dense.bias', 'roberta.pooler.dense.weight']\n",
      "You should probably TRAIN this model on a down-stream task to be able to use it for predictions and inference.\n"
     ]
    },
    {
     "name": "stdout",
     "output_type": "stream",
     "text": [
      "T5 BertScore F1: 0.82\n",
      "8289\n",
      "5\n",
      "programme aims to support and accelerate the digital transformation of the european economy, industry and society. it shall be implemented in close coordination with other union programme. funding for action which do not comply with ethical requirement may be suspended, terminated or reduced at any time.\n"
     ]
    },
    {
     "name": "stderr",
     "output_type": "stream",
     "text": [
      "Some weights of RobertaModel were not initialized from the model checkpoint at roberta-large and are newly initialized: ['roberta.pooler.dense.bias', 'roberta.pooler.dense.weight']\n",
      "You should probably TRAIN this model on a down-stream task to be able to use it for predictions and inference.\n"
     ]
    },
    {
     "name": "stdout",
     "output_type": "stream",
     "text": [
      "T5 BertScore F1: 0.80\n",
      "9686\n",
      "5\n",
      "programme aims to improve the functioning of the internal market, the competitiveness and sustainability of enterprise. third country may be eligible for funding if they have no conflict of interest and represent the interest of union consumer. programme may finance up to 100 % of eligible cost of an action.\n"
     ]
    },
    {
     "name": "stderr",
     "output_type": "stream",
     "text": [
      "Some weights of RobertaModel were not initialized from the model checkpoint at roberta-large and are newly initialized: ['roberta.pooler.dense.bias', 'roberta.pooler.dense.weight']\n",
      "You should probably TRAIN this model on a down-stream task to be able to use it for predictions and inference.\n"
     ]
    },
    {
     "name": "stdout",
     "output_type": "stream",
     "text": [
      "T5 BertScore F1: 0.80\n",
      "7910\n",
      "4\n",
      "firearm means portable barrelled weapon designed to expel shot, bullet or projectile by the action of a combustible propellant. a 'european firearm pas' shall be issued on request by the competent authority of a member state to a person lawfully entering into possession of and using firearm. member state shall ensure that each firearm and each essential component subject to this directive is recorded.\n"
     ]
    },
    {
     "name": "stderr",
     "output_type": "stream",
     "text": [
      "Some weights of RobertaModel were not initialized from the model checkpoint at roberta-large and are newly initialized: ['roberta.pooler.dense.bias', 'roberta.pooler.dense.weight']\n",
      "You should probably TRAIN this model on a down-stream task to be able to use it for predictions and inference.\n"
     ]
    },
    {
     "name": "stdout",
     "output_type": "stream",
     "text": [
      "T5 BertScore F1: 0.80\n",
      "5847\n",
      "3\n",
      "emswe is a harmonised system for the electronic transmission of information. it is intended to facilitate the electronic transmission of information. member states shall establish a maritime national single window. it shall accept submission of information on a voluntary basis.\n"
     ]
    },
    {
     "name": "stderr",
     "output_type": "stream",
     "text": [
      "Some weights of RobertaModel were not initialized from the model checkpoint at roberta-large and are newly initialized: ['roberta.pooler.dense.bias', 'roberta.pooler.dense.weight']\n",
      "You should probably TRAIN this model on a down-stream task to be able to use it for predictions and inference.\n"
     ]
    },
    {
     "name": "stdout",
     "output_type": "stream",
     "text": [
      "T5 BertScore F1: 0.82\n",
      "10969\n",
      "6\n",
      "eets provider must provide data to the toll charger to ensure compliance with the directive. member state must ensure that eets provider are entitled to be remunerated by the toll charger. member state shall inform owner, holder of vehicle or other person suspected of failing to pay road fee due.\n"
     ]
    },
    {
     "name": "stderr",
     "output_type": "stream",
     "text": [
      "Some weights of RobertaModel were not initialized from the model checkpoint at roberta-large and are newly initialized: ['roberta.pooler.dense.bias', 'roberta.pooler.dense.weight']\n",
      "You should probably TRAIN this model on a down-stream task to be able to use it for predictions and inference.\n"
     ]
    },
    {
     "name": "stdout",
     "output_type": "stream",
     "text": [
      "T5 BertScore F1: 0.81\n",
      "3579\n",
      "a european network of immigration liaison officer is established. it aims to enhance cooperation and coordination among immigration liaison officer deployed to third country by member state, the commission and union agency. information shall be exchanged via a secure web-based information exchange platform. the information shall not contain personal data or any link through which such personal data is directly or indirectly available.\n"
     ]
    },
    {
     "name": "stderr",
     "output_type": "stream",
     "text": [
      "Some weights of RobertaModel were not initialized from the model checkpoint at roberta-large and are newly initialized: ['roberta.pooler.dense.bias', 'roberta.pooler.dense.weight']\n",
      "You should probably TRAIN this model on a down-stream task to be able to use it for predictions and inference.\n"
     ]
    },
    {
     "name": "stdout",
     "output_type": "stream",
     "text": [
      "T5 BertScore F1: 0.82\n",
      "3503\n",
      "eu has adopted a regulation to strengthen security standard for identity card issued by member state to their own national and residence document. the regulation applies to. identity card issued to union citizen and their family member when exercising their right to free movement.\n"
     ]
    },
    {
     "name": "stderr",
     "output_type": "stream",
     "text": [
      "Some weights of RobertaModel were not initialized from the model checkpoint at roberta-large and are newly initialized: ['roberta.pooler.dense.bias', 'roberta.pooler.dense.weight']\n",
      "You should probably TRAIN this model on a down-stream task to be able to use it for predictions and inference.\n"
     ]
    },
    {
     "name": "stdout",
     "output_type": "stream",
     "text": [
      "T5 BertScore F1: 0.82\n",
      "11563\n",
      "6\n",
      "ecris-tcn is a system to identify member state holding previous conviction. it was established to provide information on criminal record of third-country national. cost of ecris-tcn shall be borne by the general budget of the union.\n"
     ]
    },
    {
     "name": "stderr",
     "output_type": "stream",
     "text": [
      "Some weights of RobertaModel were not initialized from the model checkpoint at roberta-large and are newly initialized: ['roberta.pooler.dense.bias', 'roberta.pooler.dense.weight']\n",
      "You should probably TRAIN this model on a down-stream task to be able to use it for predictions and inference.\n"
     ]
    },
    {
     "name": "stdout",
     "output_type": "stream",
     "text": [
      "T5 BertScore F1: 0.81\n",
      "31622\n",
      "16\n",
      "eu-lisa shall develop and manage a european search portal ( esp ) it shall be used to search data related to person or their travel document. data shall be stored in a shared bm and a cir. the cir shall store data relating to each person registered in the ee, vi, etias, eurodac and ecris-tcn.\n"
     ]
    },
    {
     "name": "stderr",
     "output_type": "stream",
     "text": [
      "Some weights of RobertaModel were not initialized from the model checkpoint at roberta-large and are newly initialized: ['roberta.pooler.dense.bias', 'roberta.pooler.dense.weight']\n",
      "You should probably TRAIN this model on a down-stream task to be able to use it for predictions and inference.\n"
     ]
    },
    {
     "name": "stdout",
     "output_type": "stream",
     "text": [
      "T5 BertScore F1: 0.80\n",
      "27198\n",
      "14\n",
      "eu directive aims to increase the share of energy from renewable source in the union's gross final consumption of energy by 2030. it also establishes sustainability and greenhouse gas emission saving criterion for biofuels. member state shall ensure that support for electricity from renewable source is granted in an open, transparent, competitive and cost-effective manner.\n"
     ]
    },
    {
     "name": "stderr",
     "output_type": "stream",
     "text": [
      "Some weights of RobertaModel were not initialized from the model checkpoint at roberta-large and are newly initialized: ['roberta.pooler.dense.bias', 'roberta.pooler.dense.weight']\n",
      "You should probably TRAIN this model on a down-stream task to be able to use it for predictions and inference.\n"
     ]
    },
    {
     "name": "stdout",
     "output_type": "stream",
     "text": [
      "T5 BertScore F1: 0.83\n",
      "51813\n",
      "26\n",
      "eu directive aims to ensure harmonised regulation of electronic communication network, associated facility and associated service. member state shall ensure that national regulatory and other competent authority are impartial, transparent and proportionate. member state may restrict or withdraw right to use radio spectrum.\n"
     ]
    },
    {
     "name": "stderr",
     "output_type": "stream",
     "text": [
      "Some weights of RobertaModel were not initialized from the model checkpoint at roberta-large and are newly initialized: ['roberta.pooler.dense.bias', 'roberta.pooler.dense.weight']\n",
      "You should probably TRAIN this model on a down-stream task to be able to use it for predictions and inference.\n"
     ]
    },
    {
     "name": "stdout",
     "output_type": "stream",
     "text": [
      "T5 BertScore F1: 0.81\n",
      "2208\n",
      "the regulation applies to the monitoring and reporting by member state and manufacturer of heavy-duty vehicle. it applies with regard to the following vehicle category. data relating to new heavy-duty vehicle registered in the union shall be monitored and reported by 28 february each year.\n"
     ]
    },
    {
     "name": "stderr",
     "output_type": "stream",
     "text": [
      "Some weights of RobertaModel were not initialized from the model checkpoint at roberta-large and are newly initialized: ['roberta.pooler.dense.bias', 'roberta.pooler.dense.weight']\n",
      "You should probably TRAIN this model on a down-stream task to be able to use it for predictions and inference.\n"
     ]
    },
    {
     "name": "stdout",
     "output_type": "stream",
     "text": [
      "T5 BertScore F1: 0.83\n",
      "15661\n",
      "8\n",
      "luxembourg, slovenia and sweden shall inform the commission of any change in the situation. slovenia and sweden shall not be bound by the obligation laid down in paragraph 1 of this article. but they shall endeavour to meet it in accordance with article 6 of the directive.\n"
     ]
    },
    {
     "name": "stderr",
     "output_type": "stream",
     "text": [
      "Some weights of RobertaModel were not initialized from the model checkpoint at roberta-large and are newly initialized: ['roberta.pooler.dense.bias', 'roberta.pooler.dense.weight']\n",
      "You should probably TRAIN this model on a down-stream task to be able to use it for predictions and inference.\n"
     ]
    },
    {
     "name": "stdout",
     "output_type": "stream",
     "text": [
      "T5 BertScore F1: 0.78\n",
      "8895\n",
      "5\n",
      "eu directive provides for the labelling of those product placed on market. it provides for the provision of standard product information regarding energy efficiency. directive 2010/30/eu is repealed with effect from 1 august 2017.\n"
     ]
    },
    {
     "name": "stderr",
     "output_type": "stream",
     "text": [
      "Some weights of RobertaModel were not initialized from the model checkpoint at roberta-large and are newly initialized: ['roberta.pooler.dense.bias', 'roberta.pooler.dense.weight']\n",
      "You should probably TRAIN this model on a down-stream task to be able to use it for predictions and inference.\n"
     ]
    },
    {
     "name": "stdout",
     "output_type": "stream",
     "text": [
      "T5 BertScore F1: 0.82\n",
      "34094\n",
      "17\n",
      "eu directive aims to ensure that personal data are processed lawfully. the regulation applies to the processing of personal data of data subject who are in the union. a data subject has the right to withdraw consent at any time. the data subject has the right to have inaccurate personal data rectified, erased or blocked.\n"
     ]
    },
    {
     "name": "stderr",
     "output_type": "stream",
     "text": [
      "Some weights of RobertaModel were not initialized from the model checkpoint at roberta-large and are newly initialized: ['roberta.pooler.dense.bias', 'roberta.pooler.dense.weight']\n",
      "You should probably TRAIN this model on a down-stream task to be able to use it for predictions and inference.\n"
     ]
    },
    {
     "name": "stdout",
     "output_type": "stream",
     "text": [
      "T5 BertScore F1: 0.82\n",
      "4713\n",
      "3\n",
      "harmonised index of consumer price ( hicp, hicp-ct, ooh price index ) and of the house price index ( hpi ) at union and national level. member state shall provide the commission with the harmonised index and all sub-indices by no later than february.\n"
     ]
    },
    {
     "name": "stderr",
     "output_type": "stream",
     "text": [
      "Some weights of RobertaModel were not initialized from the model checkpoint at roberta-large and are newly initialized: ['roberta.pooler.dense.bias', 'roberta.pooler.dense.weight']\n",
      "You should probably TRAIN this model on a down-stream task to be able to use it for predictions and inference.\n"
     ]
    },
    {
     "name": "stdout",
     "output_type": "stream",
     "text": [
      "T5 BertScore F1: 0.82\n",
      "17067\n",
      "9\n",
      "dumping shall be investigated by the commission or to a member state. investigation shall cover both dumping and injury. member state may request a review of the anti-dumping duty.\n"
     ]
    },
    {
     "name": "stderr",
     "output_type": "stream",
     "text": [
      "Some weights of RobertaModel were not initialized from the model checkpoint at roberta-large and are newly initialized: ['roberta.pooler.dense.bias', 'roberta.pooler.dense.weight']\n",
      "You should probably TRAIN this model on a down-stream task to be able to use it for predictions and inference.\n"
     ]
    },
    {
     "name": "stdout",
     "output_type": "stream",
     "text": [
      "T5 BertScore F1: 0.81\n",
      "15049\n",
      "8\n",
      "investigation shall cover both subsidy and injury. commission shall inform member state of the investigation. investigation shall be concluded within nine month.\n"
     ]
    },
    {
     "name": "stderr",
     "output_type": "stream",
     "text": [
      "Some weights of RobertaModel were not initialized from the model checkpoint at roberta-large and are newly initialized: ['roberta.pooler.dense.bias', 'roberta.pooler.dense.weight']\n",
      "You should probably TRAIN this model on a down-stream task to be able to use it for predictions and inference.\n"
     ]
    },
    {
     "name": "stdout",
     "output_type": "stream",
     "text": [
      "T5 BertScore F1: 0.80\n",
      "18771\n",
      "10\n",
      "eu guarantee shall be provided for financing and investment operation. it shall be provided by the implementing partner to the extent that it is available. it is intended to be used to support the policy objective of the union.\n"
     ]
    },
    {
     "name": "stderr",
     "output_type": "stream",
     "text": [
      "Some weights of RobertaModel were not initialized from the model checkpoint at roberta-large and are newly initialized: ['roberta.pooler.dense.bias', 'roberta.pooler.dense.weight']\n",
      "You should probably TRAIN this model on a down-stream task to be able to use it for predictions and inference.\n"
     ]
    },
    {
     "name": "stdout",
     "output_type": "stream",
     "text": [
      "T5 BertScore F1: 0.79\n",
      "12982\n",
      "7\n",
      "the recovery and resilience facility is a new eu instrument. it aims to support member states in achieving milestones and targets. the maximum financial contribution shall be calculated for each member state.\n"
     ]
    },
    {
     "name": "stderr",
     "output_type": "stream",
     "text": [
      "Some weights of RobertaModel were not initialized from the model checkpoint at roberta-large and are newly initialized: ['roberta.pooler.dense.bias', 'roberta.pooler.dense.weight']\n",
      "You should probably TRAIN this model on a down-stream task to be able to use it for predictions and inference.\n"
     ]
    },
    {
     "name": "stdout",
     "output_type": "stream",
     "text": [
      "T5 BertScore F1: 0.81\n",
      "4734\n",
      "3\n",
      "the instrument is to be used to support member state in implementing reform. it is necessary to encourage investment and to increase competitiveness. by 2025, the commission shall provide to the european parliament and the council a mid-term evaluation report.\n"
     ]
    },
    {
     "name": "stderr",
     "output_type": "stream",
     "text": [
      "Some weights of RobertaModel were not initialized from the model checkpoint at roberta-large and are newly initialized: ['roberta.pooler.dense.bias', 'roberta.pooler.dense.weight']\n",
      "You should probably TRAIN this model on a down-stream task to be able to use it for predictions and inference.\n"
     ]
    },
    {
     "name": "stdout",
     "output_type": "stream",
     "text": [
      "T5 BertScore F1: 0.81\n",
      "0.8115833659966787\n"
     ]
    }
   ],
   "source": [
    "F1_t53 = []\n",
    "\n",
    "for index, row in test_df[:30].iterrows():\n",
    "    reference_text = row[\"reference\"]\n",
    "    reference_summary = row[\"summary\"]\n",
    "    print(row[\"reference_tokens\"])\n",
    "\n",
    "    result_summary = ReadingWithJumpingWindow(model_t5, tokenizer_t5, reference_text)\n",
    "    print(result_summary)\n",
    "    P, R, F1 = score([result_summary], [reference_summary], lang='en', verbose=False)\n",
    "    print(f\"T5 BertScore F1: {F1.item():.2f}\")\n",
    "    F1_t53.append(F1.item())\n",
    "    torch.cuda.empty_cache()\n",
    "\n",
    "np.save('F1_t53.npy', F1_t53)\n",
    "\n",
    "sum3 = 0\n",
    "for _ in F1_t53:\n",
    "    sum3 += _\n",
    "print(sum3 / len(F1_t53))"
   ]
  },
  {
   "cell_type": "code",
   "execution_count": 12,
   "id": "bb4f90c5-1abf-41eb-b740-d267e6167f35",
   "metadata": {},
   "outputs": [
    {
     "data": {
      "image/png": "[encoded data removed]",
      "text/plain": [
       "<Figure size 640x480 with 1 Axes>"
      ]
     },
     "metadata": {},
     "output_type": "display_data"
    }
   ],
   "source": [
    "import matplotlib.pyplot as plt\n",
    "\n",
    "scoresT5 = {\n",
    "    'T5 GoBack': np.load(\"F1_t51.npy\"),\n",
    "    'T5 ReadAfterward': np.load(\"F1_t52.npy\"),\n",
    "    'T5 Jump': np.load(\"F1_t53.npy\")\n",
    "}\n",
    "\n",
    "df_scoresT5 = pd.DataFrame(scoresT5)\n",
    "\n",
    "df_scoresT5.boxplot()\n",
    "plt.xticks(ticks=range(1, len(df_scoresT5.columns) + 1), labels=df_scoresT5.columns, rotation=90)\n",
    "plt.tight_layout()\n",
    "plt.savefig(\"T5 Test.png\")\n",
    "plt.show()"
   ]
  },
  {
   "cell_type": "code",
   "execution_count": 11,
   "id": "4d985375-c447-4277-b334-c03e0c37a372",
   "metadata": {},
   "outputs": [
    {
     "name": "stdout",
     "output_type": "stream",
     "text": [
      "Kruskal-Wallis statistic: 1.7675967549825746\n",
      "p value: 0.41321039799701353\n",
      "No statistically relevant difference between groups (T5).\n"
     ]
    }
   ],
   "source": [
    "from scipy.stats import kruskal\n",
    "\n",
    "kruskal_result = kruskal(scoresT5['T5 GoBack'], \\\n",
    "                         scoresT5['T5 ReadAfterward'], \\\n",
    "                         scoresT5['T5 Jump'])\n",
    "\n",
    "print(\"Kruskal-Wallis statistic:\", kruskal_result.statistic)\n",
    "print(\"p value:\", kruskal_result.pvalue)\n",
    "\n",
    "if kruskal_result.pvalue < 0.05:\n",
    "    print(\"There is a statistically relevant difference between at least 2 groups (T5).\")\n",
    "else:\n",
    "    print(\"No statistically relevant difference between groups (T5).\")"
   ]
  }
 ],
 "metadata": {
  "kernelspec": {
   "display_name": "Python 3 (ipykernel)",
   "language": "python",
   "name": "python3"
  },
  "language_info": {
   "codemirror_mode": {
    "name": "ipython",
    "version": 3
   },
   "file_extension": ".py",
   "mimetype": "text/x-python",
   "name": "python",
   "nbconvert_exporter": "python",
   "pygments_lexer": "ipython3",
   "version": "3.12.1"
  }
 },
 "nbformat": 4,
 "nbformat_minor": 5
}
