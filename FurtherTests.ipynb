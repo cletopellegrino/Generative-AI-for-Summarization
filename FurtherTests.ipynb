{
 "cells": [
  {
   "cell_type": "code",
   "execution_count": 1,
   "id": "e95c307b",
   "metadata": {
    "execution": {
     "iopub.execute_input": "2024-05-19T15:57:02.079938Z",
     "iopub.status.busy": "2024-05-19T15:57:02.079077Z",
     "iopub.status.idle": "2024-05-19T15:57:23.357745Z",
     "shell.execute_reply": "2024-05-19T15:57:23.356908Z",
     "shell.execute_reply.started": "2024-05-19T15:57:02.079901Z"
    }
   },
   "outputs": [
    {
     "name": "stdout",
     "output_type": "stream",
     "text": [
      "Collecting bert_score\n",
      "  Downloading bert_score-0.3.13-py3-none-any.whl.metadata (15 kB)\n",
      "Requirement already satisfied: torch>=1.0.0 in /opt/conda/lib/python3.10/site-packages (from bert_score) (2.1.2)\n",
      "Requirement already satisfied: pandas>=1.0.1 in /opt/conda/lib/python3.10/site-packages (from bert_score) (2.1.4)\n",
      "Requirement already satisfied: transformers>=3.0.0 in /opt/conda/lib/python3.10/site-packages (from bert_score) (4.39.3)\n",
      "Requirement already satisfied: numpy in /opt/conda/lib/python3.10/site-packages (from bert_score) (1.26.4)\n",
      "Requirement already satisfied: requests in /opt/conda/lib/python3.10/site-packages (from bert_score) (2.31.0)\n",
      "Requirement already satisfied: tqdm>=4.31.1 in /opt/conda/lib/python3.10/site-packages (from bert_score) (4.66.1)\n",
      "Requirement already satisfied: matplotlib in /opt/conda/lib/python3.10/site-packages (from bert_score) (3.7.5)\n",
      "Requirement already satisfied: packaging>=20.9 in /opt/conda/lib/python3.10/site-packages (from bert_score) (21.3)\n",
      "Requirement already satisfied: pyparsing!=3.0.5,>=2.0.2 in /opt/conda/lib/python3.10/site-packages (from packaging>=20.9->bert_score) (3.1.1)\n",
      "Requirement already satisfied: python-dateutil>=2.8.2 in /opt/conda/lib/python3.10/site-packages (from pandas>=1.0.1->bert_score) (2.9.0.post0)\n",
      "Requirement already satisfied: pytz>=2020.1 in /opt/conda/lib/python3.10/site-packages (from pandas>=1.0.1->bert_score) (2023.3.post1)\n",
      "Requirement already satisfied: tzdata>=2022.1 in /opt/conda/lib/python3.10/site-packages (from pandas>=1.0.1->bert_score) (2023.4)\n",
      "Requirement already satisfied: filelock in /opt/conda/lib/python3.10/site-packages (from torch>=1.0.0->bert_score) (3.13.1)\n",
      "Requirement already satisfied: typing-extensions in /opt/conda/lib/python3.10/site-packages (from torch>=1.0.0->bert_score) (4.9.0)\n",
      "Requirement already satisfied: sympy in /opt/conda/lib/python3.10/site-packages (from torch>=1.0.0->bert_score) (1.12)\n",
      "Requirement already satisfied: networkx in /opt/conda/lib/python3.10/site-packages (from torch>=1.0.0->bert_score) (3.2.1)\n",
      "Requirement already satisfied: jinja2 in /opt/conda/lib/python3.10/site-packages (from torch>=1.0.0->bert_score) (3.1.2)\n",
      "Requirement already satisfied: fsspec in /opt/conda/lib/python3.10/site-packages (from torch>=1.0.0->bert_score) (2024.2.0)\n",
      "Requirement already satisfied: huggingface-hub<1.0,>=0.19.3 in /opt/conda/lib/python3.10/site-packages (from transformers>=3.0.0->bert_score) (0.22.2)\n",
      "Requirement already satisfied: pyyaml>=5.1 in /opt/conda/lib/python3.10/site-packages (from transformers>=3.0.0->bert_score) (6.0.1)\n",
      "Requirement already satisfied: regex!=2019.12.17 in /opt/conda/lib/python3.10/site-packages (from transformers>=3.0.0->bert_score) (2023.12.25)\n",
      "Requirement already satisfied: tokenizers<0.19,>=0.14 in /opt/conda/lib/python3.10/site-packages (from transformers>=3.0.0->bert_score) (0.15.2)\n",
      "Requirement already satisfied: safetensors>=0.4.1 in /opt/conda/lib/python3.10/site-packages (from transformers>=3.0.0->bert_score) (0.4.3)\n",
      "Requirement already satisfied: contourpy>=1.0.1 in /opt/conda/lib/python3.10/site-packages (from matplotlib->bert_score) (1.2.0)\n",
      "Requirement already satisfied: cycler>=0.10 in /opt/conda/lib/python3.10/site-packages (from matplotlib->bert_score) (0.12.1)\n",
      "Requirement already satisfied: fonttools>=4.22.0 in /opt/conda/lib/python3.10/site-packages (from matplotlib->bert_score) (4.47.0)\n",
      "Requirement already satisfied: kiwisolver>=1.0.1 in /opt/conda/lib/python3.10/site-packages (from matplotlib->bert_score) (1.4.5)\n",
      "Requirement already satisfied: pillow>=6.2.0 in /opt/conda/lib/python3.10/site-packages (from matplotlib->bert_score) (9.5.0)\n",
      "Requirement already satisfied: charset-normalizer<4,>=2 in /opt/conda/lib/python3.10/site-packages (from requests->bert_score) (3.3.2)\n",
      "Requirement already satisfied: idna<4,>=2.5 in /opt/conda/lib/python3.10/site-packages (from requests->bert_score) (3.6)\n",
      "Requirement already satisfied: urllib3<3,>=1.21.1 in /opt/conda/lib/python3.10/site-packages (from requests->bert_score) (1.26.18)\n",
      "Requirement already satisfied: certifi>=2017.4.17 in /opt/conda/lib/python3.10/site-packages (from requests->bert_score) (2024.2.2)\n",
      "Requirement already satisfied: six>=1.5 in /opt/conda/lib/python3.10/site-packages (from python-dateutil>=2.8.2->pandas>=1.0.1->bert_score) (1.16.0)\n",
      "Requirement already satisfied: MarkupSafe>=2.0 in /opt/conda/lib/python3.10/site-packages (from jinja2->torch>=1.0.0->bert_score) (2.1.3)\n",
      "Requirement already satisfied: mpmath>=0.19 in /opt/conda/lib/python3.10/site-packages (from sympy->torch>=1.0.0->bert_score) (1.3.0)\n",
      "Downloading bert_score-0.3.13-py3-none-any.whl (61 kB)\n",
      "\u001b[2K   \u001b[90m━━━━━━━━━━━━━━━━━━━━━━━━━━━━━━━━━━━━━━━━\u001b[0m \u001b[32m61.1/61.1 kB\u001b[0m \u001b[31m2.4 MB/s\u001b[0m eta \u001b[36m0:00:00\u001b[0m\n",
      "\u001b[?25hInstalling collected packages: bert_score\n",
      "Successfully installed bert_score-0.3.13\n"
     ]
    }
   ],
   "source": [
    "!pip install bert_score\n",
    "\n",
    "import torch\n",
    "import pandas as pd\n",
    "import numpy as np\n",
    "from transformers import T5Tokenizer, T5ForConditionalGeneration\n",
    "from bert_score import score\n",
    "\n",
    "test_df = pd.read_csv(\"test_processed.csv\")"
   ]
  },
  {
   "cell_type": "code",
   "execution_count": 2,
   "id": "c044cfa8",
   "metadata": {
    "execution": {
     "iopub.execute_input": "2024-05-19T15:57:23.359669Z",
     "iopub.status.busy": "2024-05-19T15:57:23.359366Z",
     "iopub.status.idle": "2024-05-19T15:57:38.124126Z",
     "shell.execute_reply": "2024-05-19T15:57:38.119893Z",
     "shell.execute_reply.started": "2024-05-19T15:57:23.359643Z"
    }
   },
   "outputs": [
    {
     "data": {
      "application/vnd.jupyter.widget-view+json": {
       "model_id": "3d83a205290345f393ec5fdea5eb6ddc",
       "version_major": 2,
       "version_minor": 0
      },
      "text/plain": [
       "spiece.model:   0%|          | 0.00/792k [00:00<?, ?B/s]"
      ]
     },
     "metadata": {},
     "output_type": "display_data"
    },
    {
     "data": {
      "application/vnd.jupyter.widget-view+json": {
       "model_id": "02420231acd2451cb5ab4ed7406777a1",
       "version_major": 2,
       "version_minor": 0
      },
      "text/plain": [
       "tokenizer.json:   0%|          | 0.00/1.39M [00:00<?, ?B/s]"
      ]
     },
     "metadata": {},
     "output_type": "display_data"
    },
    {
     "data": {
      "application/vnd.jupyter.widget-view+json": {
       "model_id": "076efd1941334a2abd481a3266aca710",
       "version_major": 2,
       "version_minor": 0
      },
      "text/plain": [
       "config.json:   0%|          | 0.00/1.21k [00:00<?, ?B/s]"
      ]
     },
     "metadata": {},
     "output_type": "display_data"
    },
    {
     "name": "stderr",
     "output_type": "stream",
     "text": [
      "/opt/conda/lib/python3.10/site-packages/transformers/models/t5/tokenization_t5.py:246: FutureWarning: This tokenizer was incorrectly instantiated with a model max length of 512 which will be corrected in Transformers v5.\n",
      "For now, this behavior is kept to avoid breaking backwards compatibility when padding/encoding with `truncation is True`.\n",
      "- Be aware that you SHOULD NOT rely on google-t5/t5-large automatically truncating your input to 512 when padding/encoding.\n",
      "- If you want to encode/pad to sequences longer than 512 you can either instantiate this tokenizer with `model_max_length` or pass `max_length` when encoding/padding.\n",
      "- To avoid this warning, please instantiate this tokenizer with `model_max_length` set to your preferred value.\n",
      "  warnings.warn(\n",
      "You are using the default legacy behaviour of the <class 'transformers.models.t5.tokenization_t5.T5Tokenizer'>. This is expected, and simply means that the `legacy` (previous) behavior will be used so nothing changes for you. If you want to use the new behaviour, set `legacy=False`. This should only be set if you understand what it means, and thoroughly read the reason why this was added as explained in https://github.com/huggingface/transformers/pull/24565\n",
      "Special tokens have been added in the vocabulary, make sure the associated word embeddings are fine-tuned or trained.\n"
     ]
    },
    {
     "data": {
      "application/vnd.jupyter.widget-view+json": {
       "model_id": "2100073991074453999302f449dfcd0e",
       "version_major": 2,
       "version_minor": 0
      },
      "text/plain": [
       "model.safetensors:   0%|          | 0.00/2.95G [00:00<?, ?B/s]"
      ]
     },
     "metadata": {},
     "output_type": "display_data"
    },
    {
     "data": {
      "application/vnd.jupyter.widget-view+json": {
       "model_id": "831ecc1d5e9b4dd9914844b936fd8ef5",
       "version_major": 2,
       "version_minor": 0
      },
      "text/plain": [
       "generation_config.json:   0%|          | 0.00/147 [00:00<?, ?B/s]"
      ]
     },
     "metadata": {},
     "output_type": "display_data"
    }
   ],
   "source": [
    "tokenizer_t5 = T5Tokenizer.from_pretrained(\"google-t5/t5-large\")\n",
    "\n",
    "device = torch.device(\"cuda\") # GPU usage\n",
    "model_t5 = T5ForConditionalGeneration.from_pretrained(\"google-t5/t5-large\")\n",
    "model_t5.to(device)\n",
    "\n",
    "MAX_ALLOWED_SEQUENCE = 8192 "
   ]
  },
  {
   "cell_type": "code",
   "execution_count": 3,
   "id": "b414a4ee",
   "metadata": {
    "execution": {
     "iopub.execute_input": "2024-05-19T15:57:38.125810Z",
     "iopub.status.busy": "2024-05-19T15:57:38.125510Z",
     "iopub.status.idle": "2024-05-19T15:57:38.140358Z",
     "shell.execute_reply": "2024-05-19T15:57:38.139334Z",
     "shell.execute_reply.started": "2024-05-19T15:57:38.125785Z"
    }
   },
   "outputs": [],
   "source": [
    "def ReadingWithJumpingWindow(model, tokenizer, text):\n",
    "    torch.cuda.empty_cache()\n",
    "    if len(text.split()) < MAX_ALLOWED_SEQUENCE:\n",
    "        inputs = tokenizer(\"summarize: \" + text,\\\n",
    "                           return_tensors=\"pt\",\\\n",
    "                           max_length=MAX_ALLOWED_SEQUENCE,\\\n",
    "                           truncation=True).to(device)\n",
    "        outputs = model.generate(**inputs, min_length=0, max_new_tokens=MAX_ALLOWED_SEQUENCE,\\\n",
    "                                num_beams=4, early_stopping=True)\n",
    "        return tokenizer.decode(outputs[0], skip_special_tokens=True)\n",
    "    \n",
    "    JUMP = 100\n",
    "    words = text.split()\n",
    "    chunks = []\n",
    "    start = 0\n",
    "\n",
    "    while start < len(words):\n",
    "        end = min(int(start + MAX_ALLOWED_SEQUENCE + JUMP), len(words))\n",
    "        chunks.append(' '.join(words[int(start):int(start + MAX_ALLOWED_SEQUENCE/2)]) \\\n",
    "                        + \" \" + ' '.join(words[int(start + MAX_ALLOWED_SEQUENCE/2) + JUMP:end]))\n",
    "        start += MAX_ALLOWED_SEQUENCE/2\n",
    "\n",
    "    print(len(chunks))\n",
    "    \n",
    "    summarized_chunks = []\n",
    "    for chunk in chunks:\n",
    "        inputs = tokenizer(\"summarize: \" + chunk,\\\n",
    "                           return_tensors=\"pt\",\\\n",
    "                           max_length=MAX_ALLOWED_SEQUENCE,\\\n",
    "                           truncation=True).to(device)\n",
    "        outputs = model.generate(**inputs, min_length=0, max_new_tokens=MAX_ALLOWED_SEQUENCE,\\\n",
    "                                num_beams=4, early_stopping=True)\n",
    "        summarized_chunks.append(tokenizer.decode(outputs[0], skip_special_tokens=True))\n",
    "        torch.cuda.empty_cache()\n",
    "    \n",
    "    summarized_text = ' '.join(summarized_chunks)\n",
    "    \n",
    "    if len(summarized_text.split()) > MAX_ALLOWED_SEQUENCE:\n",
    "        return ReadingWithJumpingWindow(model, tokenizer, summarized_text)\n",
    "    else:\n",
    "        inputs = tokenizer(\"summarize: \" + summarized_text,\\\n",
    "                           return_tensors=\"pt\",\\\n",
    "                           max_length=MAX_ALLOWED_SEQUENCE,\\\n",
    "                           truncation=True).to(device)\n",
    "        outputs = model.generate(**inputs, min_length=0, max_new_tokens=MAX_ALLOWED_SEQUENCE,\\\n",
    "                                num_beams=4, early_stopping=True)\n",
    "        return tokenizer.decode(outputs[0], skip_special_tokens=True)"
   ]
  },
  {
   "cell_type": "markdown",
   "id": "723cc84c",
   "metadata": {},
   "source": [
    "The following test was done to assess the performance on the model on texts that it can analyze without splitting it in chunks"
   ]
  },
  {
   "cell_type": "code",
   "execution_count": 4,
   "id": "6704415a",
   "metadata": {
    "execution": {
     "iopub.execute_input": "2024-05-19T15:57:38.142918Z",
     "iopub.status.busy": "2024-05-19T15:57:38.142549Z",
     "iopub.status.idle": "2024-05-19T16:11:58.271999Z",
     "shell.execute_reply": "2024-05-19T16:11:58.270988Z",
     "shell.execute_reply.started": "2024-05-19T15:57:38.142887Z"
    }
   },
   "outputs": [
    {
     "name": "stdout",
     "output_type": "stream",
     "text": [
      "4996\n",
      "eu regulation establishes uniform rule on marketing requirement for collective investment undertaking. it also provides for the establishment of a central database on cross-border marketing of aifs and ucits.\n"
     ]
    },
    {
     "data": {
      "application/vnd.jupyter.widget-view+json": {
       "model_id": "87b4c3f033804106be960ef3793a7d91",
       "version_major": 2,
       "version_minor": 0
      },
      "text/plain": [
       "tokenizer_config.json:   0%|          | 0.00/25.0 [00:00<?, ?B/s]"
      ]
     },
     "metadata": {},
     "output_type": "display_data"
    },
    {
     "data": {
      "application/vnd.jupyter.widget-view+json": {
       "model_id": "63a6c2ad73fb43b2af816320882db37f",
       "version_major": 2,
       "version_minor": 0
      },
      "text/plain": [
       "config.json:   0%|          | 0.00/482 [00:00<?, ?B/s]"
      ]
     },
     "metadata": {},
     "output_type": "display_data"
    },
    {
     "data": {
      "application/vnd.jupyter.widget-view+json": {
       "model_id": "a5230710620a4dc897c2238096e797a9",
       "version_major": 2,
       "version_minor": 0
      },
      "text/plain": [
       "vocab.json:   0%|          | 0.00/899k [00:00<?, ?B/s]"
      ]
     },
     "metadata": {},
     "output_type": "display_data"
    },
    {
     "data": {
      "application/vnd.jupyter.widget-view+json": {
       "model_id": "7202f6b44e3e4f7c8ccea898aa8ddd8d",
       "version_major": 2,
       "version_minor": 0
      },
      "text/plain": [
       "merges.txt:   0%|          | 0.00/456k [00:00<?, ?B/s]"
      ]
     },
     "metadata": {},
     "output_type": "display_data"
    },
    {
     "data": {
      "application/vnd.jupyter.widget-view+json": {
       "model_id": "59d36abb4a1f4c3791fa1412427ebd88",
       "version_major": 2,
       "version_minor": 0
      },
      "text/plain": [
       "tokenizer.json:   0%|          | 0.00/1.36M [00:00<?, ?B/s]"
      ]
     },
     "metadata": {},
     "output_type": "display_data"
    },
    {
     "data": {
      "application/vnd.jupyter.widget-view+json": {
       "model_id": "f955831f2d4343e2a56202f63c3aa2e1",
       "version_major": 2,
       "version_minor": 0
      },
      "text/plain": [
       "model.safetensors:   0%|          | 0.00/1.42G [00:00<?, ?B/s]"
      ]
     },
     "metadata": {},
     "output_type": "display_data"
    },
    {
     "name": "stderr",
     "output_type": "stream",
     "text": [
      "Some weights of RobertaModel were not initialized from the model checkpoint at roberta-large and are newly initialized: ['roberta.pooler.dense.bias', 'roberta.pooler.dense.weight']\n",
      "You should probably TRAIN this model on a down-stream task to be able to use it for predictions and inference.\n"
     ]
    },
    {
     "name": "stdout",
     "output_type": "stream",
     "text": [
      "T5 BertScore F1: 0.83\n",
      "2073\n",
      "directive aims to enhance cross-border access to a greater number of television and radio programme. lay down rule for the transmission of television and radio programme through the process of direct injection. rightholders may exercise their right to grant or refuse the authorisation for a retransmission only through a collective management organisation.\n"
     ]
    },
    {
     "name": "stderr",
     "output_type": "stream",
     "text": [
      "Some weights of RobertaModel were not initialized from the model checkpoint at roberta-large and are newly initialized: ['roberta.pooler.dense.bias', 'roberta.pooler.dense.weight']\n",
      "You should probably TRAIN this model on a down-stream task to be able to use it for predictions and inference.\n"
     ]
    },
    {
     "name": "stdout",
     "output_type": "stream",
     "text": [
      "T5 BertScore F1: 0.83\n",
      "5690\n",
      "the regulation aims to strengthen the functioning of the internal market by removing unjustified barrier to trade. it applies to good of any type, including agricultural product within the meaning of article 34 tfeu.\n"
     ]
    },
    {
     "name": "stderr",
     "output_type": "stream",
     "text": [
      "Some weights of RobertaModel were not initialized from the model checkpoint at roberta-large and are newly initialized: ['roberta.pooler.dense.bias', 'roberta.pooler.dense.weight']\n",
      "You should probably TRAIN this model on a down-stream task to be able to use it for predictions and inference.\n"
     ]
    },
    {
     "name": "stdout",
     "output_type": "stream",
     "text": [
      "T5 BertScore F1: 0.82\n",
      "3990\n",
      ".eu country code top-level domain (.eu tld ) aims to build an online union identity and encourage cross-border online activity. it also lay down the legal and general policy framework within which the designated registry is to function.\n"
     ]
    },
    {
     "name": "stderr",
     "output_type": "stream",
     "text": [
      "Some weights of RobertaModel were not initialized from the model checkpoint at roberta-large and are newly initialized: ['roberta.pooler.dense.bias', 'roberta.pooler.dense.weight']\n",
      "You should probably TRAIN this model on a down-stream task to be able to use it for predictions and inference.\n"
     ]
    },
    {
     "name": "stdout",
     "output_type": "stream",
     "text": [
      "T5 BertScore F1: 0.83\n",
      "7399\n",
      "the commission shall adopt delegated act in accordance with article 20. it aims to address misuse of hosting service for dissemination of terrorist content. member state shall ensure that their competent authority carry out their task under this regulation in an objective and non-discriminatory manner.\n"
     ]
    },
    {
     "name": "stderr",
     "output_type": "stream",
     "text": [
      "Some weights of RobertaModel were not initialized from the model checkpoint at roberta-large and are newly initialized: ['roberta.pooler.dense.bias', 'roberta.pooler.dense.weight']\n",
      "You should probably TRAIN this model on a down-stream task to be able to use it for predictions and inference.\n"
     ]
    },
    {
     "name": "stdout",
     "output_type": "stream",
     "text": [
      "T5 BertScore F1: 0.81\n",
      "7910\n",
      "the directive applies to all firearms manufactured or imported into the union on or after 14 september 2018. it is without prejudice to the provisions of the 1969 convention for the reciprocal recognition of proof mark on small arms. member state shall ensure that each firearm and each essential component is marked in accordance with this directive.\n"
     ]
    },
    {
     "name": "stderr",
     "output_type": "stream",
     "text": [
      "Some weights of RobertaModel were not initialized from the model checkpoint at roberta-large and are newly initialized: ['roberta.pooler.dense.bias', 'roberta.pooler.dense.weight']\n",
      "You should probably TRAIN this model on a down-stream task to be able to use it for predictions and inference.\n"
     ]
    },
    {
     "name": "stdout",
     "output_type": "stream",
     "text": [
      "T5 BertScore F1: 0.82\n",
      "5847\n",
      "emswe is a harmonised system for the electronic transmission of information. it is intended to facilitate the electronic transmission of information. the commission shall establish a common user registry and access management system for declarants and data service providers. it shall ensure the availability of the common hazmat database to the maritime national single window.\n"
     ]
    },
    {
     "name": "stderr",
     "output_type": "stream",
     "text": [
      "Some weights of RobertaModel were not initialized from the model checkpoint at roberta-large and are newly initialized: ['roberta.pooler.dense.bias', 'roberta.pooler.dense.weight']\n",
      "You should probably TRAIN this model on a down-stream task to be able to use it for predictions and inference.\n"
     ]
    },
    {
     "name": "stdout",
     "output_type": "stream",
     "text": [
      "T5 BertScore F1: 0.83\n",
      "3579\n",
      "the commission and union agency shall establish a european network of immigration liaison officer. information shall be exchanged via a secure web-based information exchange platform. the information shall not contain personal data or any link through which such personal data is directly or indirectly available.\n"
     ]
    },
    {
     "name": "stderr",
     "output_type": "stream",
     "text": [
      "Some weights of RobertaModel were not initialized from the model checkpoint at roberta-large and are newly initialized: ['roberta.pooler.dense.bias', 'roberta.pooler.dense.weight']\n",
      "You should probably TRAIN this model on a down-stream task to be able to use it for predictions and inference.\n"
     ]
    },
    {
     "name": "stdout",
     "output_type": "stream",
     "text": [
      "T5 BertScore F1: 0.81\n",
      "3503\n",
      "identity card issued by member state to their own national and residence document issued by member state to union citizen and their family member. biometric identifier shall be collected solely by qualified and duly authorised staff designated by the authority responsible for issuing card. biometric data stored in the storage medium of identity card and residence document shall only be used in accordance with union and national law.\n"
     ]
    },
    {
     "name": "stderr",
     "output_type": "stream",
     "text": [
      "Some weights of RobertaModel were not initialized from the model checkpoint at roberta-large and are newly initialized: ['roberta.pooler.dense.bias', 'roberta.pooler.dense.weight']\n",
      "You should probably TRAIN this model on a down-stream task to be able to use it for predictions and inference.\n"
     ]
    },
    {
     "name": "stdout",
     "output_type": "stream",
     "text": [
      "T5 BertScore F1: 0.81\n",
      "2208\n",
      "the regulation applies to the monitoring and reporting by member state and manufacturer of heavy-duty vehicle. it applies with regard to the following vehicle category:. vehicle of category m1, m2, n1 and n2 with a reference mass that exceeds 2 610 kg.\n"
     ]
    },
    {
     "name": "stderr",
     "output_type": "stream",
     "text": [
      "Some weights of RobertaModel were not initialized from the model checkpoint at roberta-large and are newly initialized: ['roberta.pooler.dense.bias', 'roberta.pooler.dense.weight']\n",
      "You should probably TRAIN this model on a down-stream task to be able to use it for predictions and inference.\n"
     ]
    },
    {
     "name": "stdout",
     "output_type": "stream",
     "text": [
      "T5 BertScore F1: 0.81\n",
      "4713\n",
      "harmonised index of consumer price (hicp, hicp-ct, ooh price index) and of the house price index (hpi) shall be produced at union and national level. member state shall provide the commission ( eurostat ) with the harmonised index and their sub-indices by no later than 13 february each year. commission shall ensure that the delegated act do not impose a significant additional burden on member state or on the respondent.\n"
     ]
    },
    {
     "name": "stderr",
     "output_type": "stream",
     "text": [
      "Some weights of RobertaModel were not initialized from the model checkpoint at roberta-large and are newly initialized: ['roberta.pooler.dense.bias', 'roberta.pooler.dense.weight']\n",
      "You should probably TRAIN this model on a down-stream task to be able to use it for predictions and inference.\n"
     ]
    },
    {
     "name": "stdout",
     "output_type": "stream",
     "text": [
      "T5 BertScore F1: 0.84\n",
      "4734\n",
      "general objective of the instrument is to promote the union's economic, social and territorial cohesion by supporting member states to implement reform. specific objective of the instrument is to support national authority to implement institutional, administrative and structural reform. financial envelope for the implementation of the instrument for the period from 1 january 2021 to 31 december 2027 shall be eur 864 000 000.\n"
     ]
    },
    {
     "name": "stderr",
     "output_type": "stream",
     "text": [
      "Some weights of RobertaModel were not initialized from the model checkpoint at roberta-large and are newly initialized: ['roberta.pooler.dense.bias', 'roberta.pooler.dense.weight']\n",
      "You should probably TRAIN this model on a down-stream task to be able to use it for predictions and inference.\n"
     ]
    },
    {
     "name": "stdout",
     "output_type": "stream",
     "text": [
      "T5 BertScore F1: 0.82\n",
      "6361\n",
      "ipa is an instrument for pre-adhésion assistance. it aims to support the rule of law, democracy and rule of law in the western balkans. it is based on a performance-based approach and the fair share principle. assistance under ipa shall be differentiated in scope and intensity according to the need and capacity of the beneficiary listed in annex i.\n"
     ]
    },
    {
     "name": "stderr",
     "output_type": "stream",
     "text": [
      "Some weights of RobertaModel were not initialized from the model checkpoint at roberta-large and are newly initialized: ['roberta.pooler.dense.bias', 'roberta.pooler.dense.weight']\n",
      "You should probably TRAIN this model on a down-stream task to be able to use it for predictions and inference.\n"
     ]
    },
    {
     "name": "stdout",
     "output_type": "stream",
     "text": [
      "T5 BertScore F1: 0.81\n",
      "7114\n",
      "eu directive lays down common minimum standard for protection of person reporting breach of union law. directive applies to legal entity in the private and public sector with 50 to 249 worker. member state shall ensure that legal entity in the private and public sector and competent authority keep record of every report.\n"
     ]
    },
    {
     "name": "stderr",
     "output_type": "stream",
     "text": [
      "Some weights of RobertaModel were not initialized from the model checkpoint at roberta-large and are newly initialized: ['roberta.pooler.dense.bias', 'roberta.pooler.dense.weight']\n",
      "You should probably TRAIN this model on a down-stream task to be able to use it for predictions and inference.\n"
     ]
    },
    {
     "name": "stdout",
     "output_type": "stream",
     "text": [
      "T5 BertScore F1: 0.81\n",
      "1804\n",
      "gross national income at market price ( gni ) and gross domestic product at market price ( gdp ) shall be defined in accordance with the european system of account 2010 ( esa 2010 ) established by regulation ( eu ) no 549/2013. member state shall calculate gni in the context of national accounting procedure.\n"
     ]
    },
    {
     "name": "stderr",
     "output_type": "stream",
     "text": [
      "Some weights of RobertaModel were not initialized from the model checkpoint at roberta-large and are newly initialized: ['roberta.pooler.dense.bias', 'roberta.pooler.dense.weight']\n",
      "You should probably TRAIN this model on a down-stream task to be able to use it for predictions and inference.\n"
     ]
    },
    {
     "name": "stdout",
     "output_type": "stream",
     "text": [
      "T5 BertScore F1: 0.85\n",
      "2284\n",
      "union type-approval authority shall exercise all the power and fulfil all the obligation of the uk type-approval authority. manufacturer shall also request the union type-approval authority to take over the obligation of the uk type-approval authority. a union type-approval shall be considered to be an ec type-approval or an eu type-approval.\n"
     ]
    },
    {
     "name": "stderr",
     "output_type": "stream",
     "text": [
      "Some weights of RobertaModel were not initialized from the model checkpoint at roberta-large and are newly initialized: ['roberta.pooler.dense.bias', 'roberta.pooler.dense.weight']\n",
      "You should probably TRAIN this model on a down-stream task to be able to use it for predictions and inference.\n"
     ]
    },
    {
     "name": "stdout",
     "output_type": "stream",
     "text": [
      "T5 BertScore F1: 0.81\n",
      "2135\n",
      "maximum amount of financial assistance shall not exceed eur 100 000 000 000 for all member state. member state may contribute to the instrument by counter-guaranteeing the risk borne by the union.\n"
     ]
    },
    {
     "name": "stderr",
     "output_type": "stream",
     "text": [
      "Some weights of RobertaModel were not initialized from the model checkpoint at roberta-large and are newly initialized: ['roberta.pooler.dense.bias', 'roberta.pooler.dense.weight']\n",
      "You should probably TRAIN this model on a down-stream task to be able to use it for predictions and inference.\n"
     ]
    },
    {
     "name": "stdout",
     "output_type": "stream",
     "text": [
      "T5 BertScore F1: 0.82\n",
      "1825\n",
      "the year 2021 shall be designated a the ‘ european year of rail’. the specific objective of the european year shall be to. encourage and support the effort of the union, member state, regional and local authority. to increase the share of passenger and freight moving by rail.\n"
     ]
    },
    {
     "name": "stderr",
     "output_type": "stream",
     "text": [
      "Some weights of RobertaModel were not initialized from the model checkpoint at roberta-large and are newly initialized: ['roberta.pooler.dense.bias', 'roberta.pooler.dense.weight']\n",
      "You should probably TRAIN this model on a down-stream task to be able to use it for predictions and inference.\n"
     ]
    },
    {
     "name": "stdout",
     "output_type": "stream",
     "text": [
      "T5 BertScore F1: 0.85\n",
      "4960\n",
      "esdc is established to provide training and education in the field of the union's common security and defence policy. each member state, union institution, union agency and institute shall bear the cost of participation in esdc training and education activity. a certificate signed by the head shall be awarded to a participant who has completed an esdc course.\n"
     ]
    },
    {
     "name": "stderr",
     "output_type": "stream",
     "text": [
      "Some weights of RobertaModel were not initialized from the model checkpoint at roberta-large and are newly initialized: ['roberta.pooler.dense.bias', 'roberta.pooler.dense.weight']\n",
      "You should probably TRAIN this model on a down-stream task to be able to use it for predictions and inference.\n"
     ]
    },
    {
     "name": "stdout",
     "output_type": "stream",
     "text": [
      "T5 BertScore F1: 0.82\n",
      "4326\n",
      "the commission shall lay down minimum requirement for water quality and monitoring and provision on risk management for the safe use of reclaimed water. it is intended to ensure a high level of protection of the environment and of human and animal health. member state shall ensure that adequate and up-to-date information is made available to the public, online or by other means.\n"
     ]
    },
    {
     "name": "stderr",
     "output_type": "stream",
     "text": [
      "Some weights of RobertaModel were not initialized from the model checkpoint at roberta-large and are newly initialized: ['roberta.pooler.dense.bias', 'roberta.pooler.dense.weight']\n",
      "You should probably TRAIN this model on a down-stream task to be able to use it for predictions and inference.\n"
     ]
    },
    {
     "name": "stdout",
     "output_type": "stream",
     "text": [
      "T5 BertScore F1: 0.82\n",
      "3656\n",
      "directive aims to achieve equality between men and women at work. it provides for individual right to paternity leave, parental leave and carers' leave. member state shall take necessary measure to ensure that each worker ha an individual right to parental leave.\n"
     ]
    },
    {
     "name": "stderr",
     "output_type": "stream",
     "text": [
      "Some weights of RobertaModel were not initialized from the model checkpoint at roberta-large and are newly initialized: ['roberta.pooler.dense.bias', 'roberta.pooler.dense.weight']\n",
      "You should probably TRAIN this model on a down-stream task to be able to use it for predictions and inference.\n"
     ]
    },
    {
     "name": "stdout",
     "output_type": "stream",
     "text": [
      "T5 BertScore F1: 0.83\n",
      "3979\n",
      "directive aims to improve working condition by ensuring labour market adaptability. lay down minimum right that apply to every worker in the union who ha an employment contract or employment relationship. member state shall ensure that a worker is informed of the essential aspect of the employment relationship.\n"
     ]
    },
    {
     "name": "stderr",
     "output_type": "stream",
     "text": [
      "Some weights of RobertaModel were not initialized from the model checkpoint at roberta-large and are newly initialized: ['roberta.pooler.dense.bias', 'roberta.pooler.dense.weight']\n",
      "You should probably TRAIN this model on a down-stream task to be able to use it for predictions and inference.\n"
     ]
    },
    {
     "name": "stdout",
     "output_type": "stream",
     "text": [
      "T5 BertScore F1: 0.83\n",
      "4252\n",
      "the directive aims to strengthen the protection of the union's financial interest. it establishes minimum rule concerning definition of criminal offence and sanction. 'passive corruption' means action of public official who request or receives advantage of any kind.\n"
     ]
    },
    {
     "name": "stderr",
     "output_type": "stream",
     "text": [
      "Some weights of RobertaModel were not initialized from the model checkpoint at roberta-large and are newly initialized: ['roberta.pooler.dense.bias', 'roberta.pooler.dense.weight']\n",
      "You should probably TRAIN this model on a down-stream task to be able to use it for predictions and inference.\n"
     ]
    },
    {
     "name": "stdout",
     "output_type": "stream",
     "text": [
      "T5 BertScore F1: 0.81\n",
      "5176\n",
      "payment card scheme and payment service provider shall not co-badge two or more different payment brand or payment application on a card-based payment instrument. each acquirer shall offer and charge it payee merchant service charge individually specified for different category and different brand of payment card. this fee may be combined with a maximum percentage rate of 0,2 % of the value of the transaction. member state may define a lower weighted average interchange fee applicable to all domestic debit card transaction.\n"
     ]
    },
    {
     "name": "stderr",
     "output_type": "stream",
     "text": [
      "Some weights of RobertaModel were not initialized from the model checkpoint at roberta-large and are newly initialized: ['roberta.pooler.dense.bias', 'roberta.pooler.dense.weight']\n",
      "You should probably TRAIN this model on a down-stream task to be able to use it for predictions and inference.\n"
     ]
    },
    {
     "name": "stdout",
     "output_type": "stream",
     "text": [
      "T5 BertScore F1: 0.81\n",
      "2510\n",
      "decision establishes a european framework to support the transparency and understanding of skill and qualification acquired in formal, non-formal and informal setting. europa shall consist of web-based tool and relevant available information. the use of europa shall be voluntary and shall not impose any obligation or confer any right other than those defined in this decision.\n"
     ]
    },
    {
     "name": "stderr",
     "output_type": "stream",
     "text": [
      "Some weights of RobertaModel were not initialized from the model checkpoint at roberta-large and are newly initialized: ['roberta.pooler.dense.bias', 'roberta.pooler.dense.weight']\n",
      "You should probably TRAIN this model on a down-stream task to be able to use it for predictions and inference.\n"
     ]
    },
    {
     "name": "stdout",
     "output_type": "stream",
     "text": [
      "T5 BertScore F1: 0.82\n",
      "2226\n",
      "the regulation establishes common rule for the production of european statistic concerning inland waterway transport. member state shall transmit data relating to inland waterway transport on their national territory to the commission ( eurostat. by 8 december 2018, the commission shall develop the appropriate methodology for compiling statistics on passenger transport by inland waterway.\n"
     ]
    },
    {
     "name": "stderr",
     "output_type": "stream",
     "text": [
      "Some weights of RobertaModel were not initialized from the model checkpoint at roberta-large and are newly initialized: ['roberta.pooler.dense.bias', 'roberta.pooler.dense.weight']\n",
      "You should probably TRAIN this model on a down-stream task to be able to use it for predictions and inference.\n"
     ]
    },
    {
     "name": "stdout",
     "output_type": "stream",
     "text": [
      "T5 BertScore F1: 0.85\n",
      "2972\n",
      "each member state shall report statistic which relate to rail transport on its national territory. member state may exclude undertakings which operate entirely or mainly within industrial and similar installation. the commission shall ensure that the delegated act do not impose a significant additional burden on the member state.\n"
     ]
    },
    {
     "name": "stderr",
     "output_type": "stream",
     "text": [
      "Some weights of RobertaModel were not initialized from the model checkpoint at roberta-large and are newly initialized: ['roberta.pooler.dense.bias', 'roberta.pooler.dense.weight']\n",
      "You should probably TRAIN this model on a down-stream task to be able to use it for predictions and inference.\n"
     ]
    },
    {
     "name": "stdout",
     "output_type": "stream",
     "text": [
      "T5 BertScore F1: 0.81\n",
      "4595\n",
      "eu-lisa shall produce daily, monthly and annual statistic on the number of alert on return entered into si. alert on return shall be deleted when the decision on the basis of which the alert was entered ha been withdrawn or annulled.\n"
     ]
    },
    {
     "name": "stderr",
     "output_type": "stream",
     "text": [
      "Some weights of RobertaModel were not initialized from the model checkpoint at roberta-large and are newly initialized: ['roberta.pooler.dense.bias', 'roberta.pooler.dense.weight']\n",
      "You should probably TRAIN this model on a down-stream task to be able to use it for predictions and inference.\n"
     ]
    },
    {
     "name": "stdout",
     "output_type": "stream",
     "text": [
      "T5 BertScore F1: 0.80\n",
      "5475\n",
      "commission shall adopt an implementing act temporarily suspending the exemption from the visa requirement. it shall apply to certain category of national of the third country concerned when crossing the external border of the member state. the commission shall inform the european parliament and the council of the result of the examination.\n"
     ]
    },
    {
     "name": "stderr",
     "output_type": "stream",
     "text": [
      "Some weights of RobertaModel were not initialized from the model checkpoint at roberta-large and are newly initialized: ['roberta.pooler.dense.bias', 'roberta.pooler.dense.weight']\n",
      "You should probably TRAIN this model on a down-stream task to be able to use it for predictions and inference.\n"
     ]
    },
    {
     "name": "stdout",
     "output_type": "stream",
     "text": [
      "T5 BertScore F1: 0.82\n",
      "2686\n",
      "the directive establishes minimum rule concerning the definition of criminal offence and sanction in the area of money laundering. it does not apply to property derived from criminal offence affecting the union’s financial interest. member state shall take necessary measure to ensure that the offence referred to in article 3 ( 1 ) and ( 5 ) is punishable by a maximum term of imprisonment of at least four year.\n"
     ]
    },
    {
     "name": "stderr",
     "output_type": "stream",
     "text": [
      "Some weights of RobertaModel were not initialized from the model checkpoint at roberta-large and are newly initialized: ['roberta.pooler.dense.bias', 'roberta.pooler.dense.weight']\n",
      "You should probably TRAIN this model on a down-stream task to be able to use it for predictions and inference.\n"
     ]
    },
    {
     "name": "stdout",
     "output_type": "stream",
     "text": [
      "T5 BertScore F1: 0.82\n",
      "6196\n",
      "union importer of mineral or metal shall comply with the supply chain due diligence obligation set out in this regulation. the commission shall adopt a delegated act in accordance with article 18 and 19. it shall amend the existing threshold set out in annex i to 95 % of the total annual volume of import into the union. by 1 january 2021, the commission shall review the functioning and effectiveness of this regulation.\n"
     ]
    },
    {
     "name": "stderr",
     "output_type": "stream",
     "text": [
      "Some weights of RobertaModel were not initialized from the model checkpoint at roberta-large and are newly initialized: ['roberta.pooler.dense.bias', 'roberta.pooler.dense.weight']\n",
      "You should probably TRAIN this model on a down-stream task to be able to use it for predictions and inference.\n"
     ]
    },
    {
     "name": "stdout",
     "output_type": "stream",
     "text": [
      "T5 BertScore F1: 0.80\n",
      "3839\n",
      "programme shall be implemented under direct management in accordance with the financial regulation. only action implementing the objective set out in article 3 shall be eligible for funding. an action may also receive a contribution from another union programme.\n"
     ]
    },
    {
     "name": "stderr",
     "output_type": "stream",
     "text": [
      "Some weights of RobertaModel were not initialized from the model checkpoint at roberta-large and are newly initialized: ['roberta.pooler.dense.bias', 'roberta.pooler.dense.weight']\n",
      "You should probably TRAIN this model on a down-stream task to be able to use it for predictions and inference.\n"
     ]
    },
    {
     "name": "stdout",
     "output_type": "stream",
     "text": [
      "T5 BertScore F1: 0.80\n",
      "7684\n",
      "programme shall be open to the participation of young people aged between 17 and 30 year or, in the case of european voluntary humanitarian aid corp, between 17 and 30 year olds. commission shall develop a framework of inclusion measure to increase participation rate among young people with fewer opportunity.\n"
     ]
    },
    {
     "name": "stderr",
     "output_type": "stream",
     "text": [
      "Some weights of RobertaModel were not initialized from the model checkpoint at roberta-large and are newly initialized: ['roberta.pooler.dense.bias', 'roberta.pooler.dense.weight']\n",
      "You should probably TRAIN this model on a down-stream task to be able to use it for predictions and inference.\n"
     ]
    },
    {
     "name": "stdout",
     "output_type": "stream",
     "text": [
      "T5 BertScore F1: 0.82\n",
      "7454\n",
      "the european globalisation adjustment fund (egf) is an emergency fund. it offers support to displaced worker and self-employed in case of major restructuring. it is intended to help the most disadvantaged to return to decent and sustainable employment. it is not intended to replace other financial support from the union budget.\n"
     ]
    },
    {
     "name": "stderr",
     "output_type": "stream",
     "text": [
      "Some weights of RobertaModel were not initialized from the model checkpoint at roberta-large and are newly initialized: ['roberta.pooler.dense.bias', 'roberta.pooler.dense.weight']\n",
      "You should probably TRAIN this model on a down-stream task to be able to use it for predictions and inference.\n"
     ]
    },
    {
     "name": "stdout",
     "output_type": "stream",
     "text": [
      "T5 BertScore F1: 0.83\n",
      "2766\n",
      "the agreement establishes a framework and operating principle for a coordinated approach on the part of the signatory institution. signatory institution shall implement the principle of conditionality. which they implement by means of individual decision taken on the basis of their power of internal organisation. agreement shall be subject to a review no later than 2 july 2025.\n"
     ]
    },
    {
     "name": "stderr",
     "output_type": "stream",
     "text": [
      "Some weights of RobertaModel were not initialized from the model checkpoint at roberta-large and are newly initialized: ['roberta.pooler.dense.bias', 'roberta.pooler.dense.weight']\n",
      "You should probably TRAIN this model on a down-stream task to be able to use it for predictions and inference.\n"
     ]
    },
    {
     "name": "stdout",
     "output_type": "stream",
     "text": [
      "T5 BertScore F1: 0.80\n",
      "4876\n",
      "the agreement is intended to improve the functioning of the annual budgetary procedure. it also aims to establish a roadmap towards the introduction of the multiannual financial framework 2021-2027. the agreement is binding on the institution for a long period of time. it is also intended to enhance the protection of the union budget against fraud and irregularity.\n"
     ]
    },
    {
     "name": "stderr",
     "output_type": "stream",
     "text": [
      "Some weights of RobertaModel were not initialized from the model checkpoint at roberta-large and are newly initialized: ['roberta.pooler.dense.bias', 'roberta.pooler.dense.weight']\n",
      "You should probably TRAIN this model on a down-stream task to be able to use it for predictions and inference.\n"
     ]
    },
    {
     "name": "stdout",
     "output_type": "stream",
     "text": [
      "T5 BertScore F1: 0.82\n",
      "1507\n",
      "support under the instrument shall in particular finance measures to tackle the adverse economic consequence of the covid-19 crisis. legal commitment of at least 60 % of the amount referred to in point ( a ) of article 2 ( 2 ) shall be entered into by 31 december 2022. decision on the granting of the loan referred to in point ( b ) of article 2 ( 2 ) shall be adopted by 31 december 2023.\n"
     ]
    },
    {
     "name": "stderr",
     "output_type": "stream",
     "text": [
      "Some weights of RobertaModel were not initialized from the model checkpoint at roberta-large and are newly initialized: ['roberta.pooler.dense.bias', 'roberta.pooler.dense.weight']\n",
      "You should probably TRAIN this model on a down-stream task to be able to use it for predictions and inference.\n"
     ]
    },
    {
     "name": "stdout",
     "output_type": "stream",
     "text": [
      "T5 BertScore F1: 0.79\n",
      "2663\n",
      "this regulation shall apply to member state whose currency is the euro. it is aimed at enhancing the enforcement of the preventive and corrective part of the stability and growth pact in the euro area. if a member state fails to take effective action to correct its excessive deficit, the commission shall recommend that the council reduce the amount of the interest-bearing deposit. the amount of the fine shall not exceed 0,2 % of the member state’s gdp in the preceding year.\n"
     ]
    },
    {
     "name": "stderr",
     "output_type": "stream",
     "text": [
      "Some weights of RobertaModel were not initialized from the model checkpoint at roberta-large and are newly initialized: ['roberta.pooler.dense.bias', 'roberta.pooler.dense.weight']\n",
      "You should probably TRAIN this model on a down-stream task to be able to use it for predictions and inference.\n"
     ]
    },
    {
     "name": "stdout",
     "output_type": "stream",
     "text": [
      "T5 BertScore F1: 0.84\n",
      "1777\n",
      "this regulation establishes common rule for the decennial provision of comprehensive data on population and housing. member state shall submit to the commission ( eurostat ) data on the population covering determined demographic, social and economic characteristic of person, family and household.\n"
     ]
    },
    {
     "name": "stderr",
     "output_type": "stream",
     "text": [
      "Some weights of RobertaModel were not initialized from the model checkpoint at roberta-large and are newly initialized: ['roberta.pooler.dense.bias', 'roberta.pooler.dense.weight']\n",
      "You should probably TRAIN this model on a down-stream task to be able to use it for predictions and inference.\n"
     ]
    },
    {
     "name": "stdout",
     "output_type": "stream",
     "text": [
      "T5 BertScore F1: 0.85\n",
      "4589\n",
      "the edp shall act in accordance with the provision of the regulation. it shall use state-of-the-art administrative and technical means. it shall also explain its work to the public in a clear language.\n"
     ]
    },
    {
     "name": "stderr",
     "output_type": "stream",
     "text": [
      "Some weights of RobertaModel were not initialized from the model checkpoint at roberta-large and are newly initialized: ['roberta.pooler.dense.bias', 'roberta.pooler.dense.weight']\n",
      "You should probably TRAIN this model on a down-stream task to be able to use it for predictions and inference.\n"
     ]
    },
    {
     "name": "stdout",
     "output_type": "stream",
     "text": [
      "T5 BertScore F1: 0.80\n",
      "3334\n",
      "the commission shall be empowered to borrow fund on capital market on behalf of the union up to eur 750 000 million in 2018 price. repayment of the principal of the fund shall start before the end of the mff 2021-2027 period. any surplus of the union’s revenue over total expenditure during a financial year shall be carried over to the following financial year.\n"
     ]
    },
    {
     "name": "stderr",
     "output_type": "stream",
     "text": [
      "Some weights of RobertaModel were not initialized from the model checkpoint at roberta-large and are newly initialized: ['roberta.pooler.dense.bias', 'roberta.pooler.dense.weight']\n",
      "You should probably TRAIN this model on a down-stream task to be able to use it for predictions and inference.\n"
     ]
    },
    {
     "name": "stdout",
     "output_type": "stream",
     "text": [
      "T5 BertScore F1: 0.81\n",
      "4214\n",
      "a tyre label is a graphic diagram indicating the information and class for each of the parameters set out in annex i. the information is to allow end-users to make an informed choice when purchasing a tyre. the commission is empowered to adopt delegated act in accordance with article 14 in order to amend this regulation.\n"
     ]
    },
    {
     "name": "stderr",
     "output_type": "stream",
     "text": [
      "Some weights of RobertaModel were not initialized from the model checkpoint at roberta-large and are newly initialized: ['roberta.pooler.dense.bias', 'roberta.pooler.dense.weight']\n",
      "You should probably TRAIN this model on a down-stream task to be able to use it for predictions and inference.\n"
     ]
    },
    {
     "name": "stdout",
     "output_type": "stream",
     "text": [
      "T5 BertScore F1: 0.81\n",
      "3228\n",
      "a part of the integrated border management fund has been established. this regulation establishes an instrument to provide financial support for the purchase, maintenance and upgrading of custom control equipment. the duration of the instrument shall be aligned to the duration of the multiannual financial framework.\n"
     ]
    },
    {
     "name": "stderr",
     "output_type": "stream",
     "text": [
      "Some weights of RobertaModel were not initialized from the model checkpoint at roberta-large and are newly initialized: ['roberta.pooler.dense.bias', 'roberta.pooler.dense.weight']\n",
      "You should probably TRAIN this model on a down-stream task to be able to use it for predictions and inference.\n"
     ]
    },
    {
     "name": "stdout",
     "output_type": "stream",
     "text": [
      "T5 BertScore F1: 0.83\n",
      "5530\n",
      "the regulation establishes a framework for the irreversible reduction of anthropogenic greenhouse gas emission by source and enhancement of removal by sink regulated in union law. by 30 september 2023, and every five year thereafter, the commission shall submit a report to the european parliament and to the council.\n"
     ]
    },
    {
     "name": "stderr",
     "output_type": "stream",
     "text": [
      "Some weights of RobertaModel were not initialized from the model checkpoint at roberta-large and are newly initialized: ['roberta.pooler.dense.bias', 'roberta.pooler.dense.weight']\n",
      "You should probably TRAIN this model on a down-stream task to be able to use it for predictions and inference.\n"
     ]
    },
    {
     "name": "stdout",
     "output_type": "stream",
     "text": [
      "T5 BertScore F1: 0.82\n",
      "6145\n",
      "eu4health programme aims to improve the health of people in the eu. it aims to reduce the burden of communicable and non-communicable disease. the programme is open to the participation of a third country.\n"
     ]
    },
    {
     "name": "stderr",
     "output_type": "stream",
     "text": [
      "Some weights of RobertaModel were not initialized from the model checkpoint at roberta-large and are newly initialized: ['roberta.pooler.dense.bias', 'roberta.pooler.dense.weight']\n",
      "You should probably TRAIN this model on a down-stream task to be able to use it for predictions and inference.\n"
     ]
    },
    {
     "name": "stdout",
     "output_type": "stream",
     "text": [
      "T5 BertScore F1: 0.81\n",
      "5757\n",
      "the creative europe programme will run from 1 january 2021 to 31 december 2027. it will be implemented through an annual work programme. funding will be provided in the form of grant, prize and procurement.\n"
     ]
    },
    {
     "name": "stderr",
     "output_type": "stream",
     "text": [
      "Some weights of RobertaModel were not initialized from the model checkpoint at roberta-large and are newly initialized: ['roberta.pooler.dense.bias', 'roberta.pooler.dense.weight']\n",
      "You should probably TRAIN this model on a down-stream task to be able to use it for predictions and inference.\n"
     ]
    },
    {
     "name": "stdout",
     "output_type": "stream",
     "text": [
      "T5 BertScore F1: 0.82\n",
      "100\n",
      "sia 2021-2027 shall be implemented in accordance with regulation ( eu ) 2021/819. decision no 1312/2013/eu is repealed with effect from 1 january 2021.\n"
     ]
    },
    {
     "name": "stderr",
     "output_type": "stream",
     "text": [
      "Some weights of RobertaModel were not initialized from the model checkpoint at roberta-large and are newly initialized: ['roberta.pooler.dense.bias', 'roberta.pooler.dense.weight']\n",
      "You should probably TRAIN this model on a down-stream task to be able to use it for predictions and inference.\n"
     ]
    },
    {
     "name": "stdout",
     "output_type": "stream",
     "text": [
      "T5 BertScore F1: 0.80\n",
      "7194\n",
      "a geographical indication protected under this regulation may be used by any operator marketing aromatised wine product. the commission shall be empowered to adopt delegated act in accordance with article 33 to lay down the information necessary for the application. a member state may decide to cancel the protection of an existing geographical designation.\n"
     ]
    },
    {
     "name": "stderr",
     "output_type": "stream",
     "text": [
      "Some weights of RobertaModel were not initialized from the model checkpoint at roberta-large and are newly initialized: ['roberta.pooler.dense.bias', 'roberta.pooler.dense.weight']\n",
      "You should probably TRAIN this model on a down-stream task to be able to use it for predictions and inference.\n"
     ]
    },
    {
     "name": "stdout",
     "output_type": "stream",
     "text": [
      "T5 BertScore F1: 0.81\n",
      "2086\n",
      "the full amount of the union’ s macro-financial assistance shall be provided to ukraine in the form of loan. the loan shall have a maximum average maturity of 15 year.\n"
     ]
    },
    {
     "name": "stderr",
     "output_type": "stream",
     "text": [
      "Some weights of RobertaModel were not initialized from the model checkpoint at roberta-large and are newly initialized: ['roberta.pooler.dense.bias', 'roberta.pooler.dense.weight']\n",
      "You should probably TRAIN this model on a down-stream task to be able to use it for predictions and inference.\n"
     ]
    },
    {
     "name": "stdout",
     "output_type": "stream",
     "text": [
      "T5 BertScore F1: 0.83\n",
      "6789\n",
      "mediterranean swordfish quotas set by eu and iccat are to expire in 2031. member states shall ensure that all dead mediterranean swordfish are deducted from their quotas. each member state shall make provision for by-catch of mediterranean swordfish within its national quota.\n"
     ]
    },
    {
     "name": "stderr",
     "output_type": "stream",
     "text": [
      "Some weights of RobertaModel were not initialized from the model checkpoint at roberta-large and are newly initialized: ['roberta.pooler.dense.bias', 'roberta.pooler.dense.weight']\n",
      "You should probably TRAIN this model on a down-stream task to be able to use it for predictions and inference.\n"
     ]
    },
    {
     "name": "stdout",
     "output_type": "stream",
     "text": [
      "T5 BertScore F1: 0.82\n",
      "3531\n",
      "the multiannual financial framework for the period 2014 to 2020 is set out in the annex. mid-term review/revision of the mff by the end of 2016 at the latest. the commission shall present a review of the functioning of the mff.\n"
     ]
    },
    {
     "name": "stderr",
     "output_type": "stream",
     "text": [
      "Some weights of RobertaModel were not initialized from the model checkpoint at roberta-large and are newly initialized: ['roberta.pooler.dense.bias', 'roberta.pooler.dense.weight']\n",
      "You should probably TRAIN this model on a down-stream task to be able to use it for predictions and inference.\n"
     ]
    },
    {
     "name": "stdout",
     "output_type": "stream",
     "text": [
      "T5 BertScore F1: 0.81\n",
      "7987\n",
      "iattc has adopted a series of regulations to protect marine life. they include a ban on the use of 'data buoys' and a ban on'sea turtles'. they also include a ban on the use of'sea turtle entanglement devices'.\n"
     ]
    },
    {
     "name": "stderr",
     "output_type": "stream",
     "text": [
      "Some weights of RobertaModel were not initialized from the model checkpoint at roberta-large and are newly initialized: ['roberta.pooler.dense.bias', 'roberta.pooler.dense.weight']\n",
      "You should probably TRAIN this model on a down-stream task to be able to use it for predictions and inference.\n"
     ]
    },
    {
     "name": "stdout",
     "output_type": "stream",
     "text": [
      "T5 BertScore F1: 0.79\n",
      "4532\n",
      "the three institution agree to pursue better law-making by means of a series of initiative and procedure. the agreement replaces the interinstitutional agreement on better law-making of 16 december 2003 and the interinstitutional agreement on delegated act of november 2005. impact assessment are a tool to help the three institution reach well-informed decision and improve quality of law-making.\n"
     ]
    },
    {
     "name": "stderr",
     "output_type": "stream",
     "text": [
      "Some weights of RobertaModel were not initialized from the model checkpoint at roberta-large and are newly initialized: ['roberta.pooler.dense.bias', 'roberta.pooler.dense.weight']\n",
      "You should probably TRAIN this model on a down-stream task to be able to use it for predictions and inference.\n"
     ]
    },
    {
     "name": "stdout",
     "output_type": "stream",
     "text": [
      "T5 BertScore F1: 0.83\n",
      "3994\n",
      "a citizen 'initiative' is an initiative submitted to the commission in accordance with this regulation. the commission shall register a proposed citizen 'initiative' under article 11 teu and article 24 tfeu. the organiser shall ensure that personal data collected for a given citizen 'initiative' are not used for any purpose other than their indicated support.\n"
     ]
    },
    {
     "name": "stderr",
     "output_type": "stream",
     "text": [
      "Some weights of RobertaModel were not initialized from the model checkpoint at roberta-large and are newly initialized: ['roberta.pooler.dense.bias', 'roberta.pooler.dense.weight']\n",
      "You should probably TRAIN this model on a down-stream task to be able to use it for predictions and inference.\n"
     ]
    },
    {
     "name": "stdout",
     "output_type": "stream",
     "text": [
      "T5 BertScore F1: 0.81\n",
      "1338\n",
      "this regulation establishes a common framework for the systematic production of community statistic on the placing on the market and use of those pesticide. statistic shall apply to : — the annual amount of pesticide placed on the market in accordance with annex i.\n"
     ]
    },
    {
     "name": "stderr",
     "output_type": "stream",
     "text": [
      "Some weights of RobertaModel were not initialized from the model checkpoint at roberta-large and are newly initialized: ['roberta.pooler.dense.bias', 'roberta.pooler.dense.weight']\n",
      "You should probably TRAIN this model on a down-stream task to be able to use it for predictions and inference.\n"
     ]
    },
    {
     "name": "stdout",
     "output_type": "stream",
     "text": [
      "T5 BertScore F1: 0.74\n",
      "4921\n",
      "personal data processed in imi shall be blocked a soon a they are no longer necessary for the purpose for which they were collected. personal data processed in imi shall be deleted at the end of the three-year period. the commission shall ensure that personal data are processed in accordance with this regulation.\n"
     ]
    },
    {
     "name": "stderr",
     "output_type": "stream",
     "text": [
      "Some weights of RobertaModel were not initialized from the model checkpoint at roberta-large and are newly initialized: ['roberta.pooler.dense.bias', 'roberta.pooler.dense.weight']\n",
      "You should probably TRAIN this model on a down-stream task to be able to use it for predictions and inference.\n"
     ]
    },
    {
     "name": "stdout",
     "output_type": "stream",
     "text": [
      "T5 BertScore F1: 0.79\n",
      "4651\n",
      "eu fishing vessel of more than 15 metre in overall length shall be authorised to fish in the gfcm agreement area. minimum mesh size for net used for trawling activity exploiting demersal stock in the black sea shall be 40 mm. member state shall ensure that their competent authority are called upon to protect the deep-sea sensitive habitat.\n"
     ]
    },
    {
     "name": "stderr",
     "output_type": "stream",
     "text": [
      "Some weights of RobertaModel were not initialized from the model checkpoint at roberta-large and are newly initialized: ['roberta.pooler.dense.bias', 'roberta.pooler.dense.weight']\n",
      "You should probably TRAIN this model on a down-stream task to be able to use it for predictions and inference.\n"
     ]
    },
    {
     "name": "stdout",
     "output_type": "stream",
     "text": [
      "T5 BertScore F1: 0.80\n",
      "3291\n",
      "a european patent with unitary effect shall have a unitary character. it shall provide uniform protection and have equal effect in all participating member state. the commission shall establish a working agreement with the epo. renewal fee and additional fee for late payment shall be paid to epo. the remaining amount shall be distributed to the participating member state.\n"
     ]
    },
    {
     "name": "stderr",
     "output_type": "stream",
     "text": [
      "Some weights of RobertaModel were not initialized from the model checkpoint at roberta-large and are newly initialized: ['roberta.pooler.dense.bias', 'roberta.pooler.dense.weight']\n",
      "You should probably TRAIN this model on a down-stream task to be able to use it for predictions and inference.\n"
     ]
    },
    {
     "name": "stdout",
     "output_type": "stream",
     "text": [
      "T5 BertScore F1: 0.82\n",
      "2162\n",
      "office for harmonization in the internal market ( trade mark and design) entrusted with task aimed at facilitating and supporting activity of national authority, the private sector and the union institution in the fight against infringement of intellectual property right. office shall organise, administer and support the gathering of expert, authority and stakeholder assembled under the name ‘ european observatory on infringement of intellectual property right.\n"
     ]
    },
    {
     "name": "stderr",
     "output_type": "stream",
     "text": [
      "Some weights of RobertaModel were not initialized from the model checkpoint at roberta-large and are newly initialized: ['roberta.pooler.dense.bias', 'roberta.pooler.dense.weight']\n",
      "You should probably TRAIN this model on a down-stream task to be able to use it for predictions and inference.\n"
     ]
    },
    {
     "name": "stdout",
     "output_type": "stream",
     "text": [
      "T5 BertScore F1: 0.84\n",
      "2982\n",
      "the commission shall adopt implementing act determining the appropriate commercial policy measure. the origin of a good or service shall be determined on the basis of the origin of the natural or legal person providing it. the commission shall undertake a review aimed at envisaging under this regulation additional commercial policy measure.\n"
     ]
    },
    {
     "name": "stderr",
     "output_type": "stream",
     "text": [
      "Some weights of RobertaModel were not initialized from the model checkpoint at roberta-large and are newly initialized: ['roberta.pooler.dense.bias', 'roberta.pooler.dense.weight']\n",
      "You should probably TRAIN this model on a down-stream task to be able to use it for predictions and inference.\n"
     ]
    },
    {
     "name": "stdout",
     "output_type": "stream",
     "text": [
      "T5 BertScore F1: 0.80\n",
      "4442\n",
      "a safeguard measure may be imposed where a product originating in a central american country has increased in import. it may be a suspension of a further reduction of the rate of customs duty. the total duration of a safeguard measure shall not exceed four year.\n"
     ]
    },
    {
     "name": "stderr",
     "output_type": "stream",
     "text": [
      "Some weights of RobertaModel were not initialized from the model checkpoint at roberta-large and are newly initialized: ['roberta.pooler.dense.bias', 'roberta.pooler.dense.weight']\n",
      "You should probably TRAIN this model on a down-stream task to be able to use it for predictions and inference.\n"
     ]
    },
    {
     "name": "stdout",
     "output_type": "stream",
     "text": [
      "T5 BertScore F1: 0.79\n",
      "5708\n",
      "the regulation shall apply to border surveillance operation carried out by member state in the context of operational cooperation at the external sea border. no person shall be disembarked in the territorial sea or the contiguous zone without the authorisation of the flag state.\n"
     ]
    },
    {
     "name": "stderr",
     "output_type": "stream",
     "text": [
      "Some weights of RobertaModel were not initialized from the model checkpoint at roberta-large and are newly initialized: ['roberta.pooler.dense.bias', 'roberta.pooler.dense.weight']\n",
      "You should probably TRAIN this model on a down-stream task to be able to use it for predictions and inference.\n"
     ]
    },
    {
     "name": "stdout",
     "output_type": "stream",
     "text": [
      "T5 BertScore F1: 0.82\n",
      "4649\n",
      "instrument for financial support for police cooperation, preventing and combating crime, and crisis management. it is a part of the internal security fund ('the fund ') and is to be used from 1 january 2014 to 31 december 2020. member state shall not use more than 8 % of their total allocation under national programme.\n"
     ]
    },
    {
     "name": "stderr",
     "output_type": "stream",
     "text": [
      "Some weights of RobertaModel were not initialized from the model checkpoint at roberta-large and are newly initialized: ['roberta.pooler.dense.bias', 'roberta.pooler.dense.weight']\n",
      "You should probably TRAIN this model on a down-stream task to be able to use it for predictions and inference.\n"
     ]
    },
    {
     "name": "stdout",
     "output_type": "stream",
     "text": [
      "T5 BertScore F1: 0.81\n",
      "1989\n",
      "a country may be identified as a country allowing non-sustainable fishing if it fails to cooperate in the management of a stock of common interest. the commission shall adopt implementing act determining whether the condition laid down in article 1 have been complied with. the measure referred to in article 4 shall cease to apply when the country allowing non-sustainable fishing adopts corrective measure.\n"
     ]
    },
    {
     "name": "stderr",
     "output_type": "stream",
     "text": [
      "Some weights of RobertaModel were not initialized from the model checkpoint at roberta-large and are newly initialized: ['roberta.pooler.dense.bias', 'roberta.pooler.dense.weight']\n",
      "You should probably TRAIN this model on a down-stream task to be able to use it for predictions and inference.\n"
     ]
    },
    {
     "name": "stdout",
     "output_type": "stream",
     "text": [
      "T5 BertScore F1: 0.83\n",
      "2610\n",
      "a member state shall notify the commission of any bilateral investment agreement with a third country. the notification shall include relevant documentation and an indication of the provision to be addressed in the negotiation or to be renegotiated. authorisation shall be granted in accordance with the advisory procedure referred to in article 16 ( 2 ) the regulation shall be binding in it entirety and directly applicable in all member state.\n"
     ]
    },
    {
     "name": "stderr",
     "output_type": "stream",
     "text": [
      "Some weights of RobertaModel were not initialized from the model checkpoint at roberta-large and are newly initialized: ['roberta.pooler.dense.bias', 'roberta.pooler.dense.weight']\n",
      "You should probably TRAIN this model on a down-stream task to be able to use it for predictions and inference.\n"
     ]
    },
    {
     "name": "stdout",
     "output_type": "stream",
     "text": [
      "T5 BertScore F1: 0.81\n",
      "5264\n",
      "a european firearm pas is required for all firearms exported from the uk. it must be provided by the exporter to the competent authority of the destination state. a single authorisation or licence is required for all firearms exported from the uk. the authorisation or licence may be revoked at any time by the european parliament or the council.\n"
     ]
    },
    {
     "name": "stderr",
     "output_type": "stream",
     "text": [
      "Some weights of RobertaModel were not initialized from the model checkpoint at roberta-large and are newly initialized: ['roberta.pooler.dense.bias', 'roberta.pooler.dense.weight']\n",
      "You should probably TRAIN this model on a down-stream task to be able to use it for predictions and inference.\n"
     ]
    },
    {
     "name": "stdout",
     "output_type": "stream",
     "text": [
      "T5 BertScore F1: 0.80\n",
      "6787\n",
      "agency shall establish and maintain a communication network for eurosur. national coordination centre shall be the single point of contact for the exchange of information with the agency. information shall be classified a restreint ue/eu.\n"
     ]
    },
    {
     "name": "stderr",
     "output_type": "stream",
     "text": [
      "Some weights of RobertaModel were not initialized from the model checkpoint at roberta-large and are newly initialized: ['roberta.pooler.dense.bias', 'roberta.pooler.dense.weight']\n",
      "You should probably TRAIN this model on a down-stream task to be able to use it for predictions and inference.\n"
     ]
    },
    {
     "name": "stdout",
     "output_type": "stream",
     "text": [
      "T5 BertScore F1: 0.80\n",
      "2202\n",
      "no oil tanker carrying heavy grade oil shall be allowed to fly the flag of a member state unless such tanker is a double-hull oil tanker. no oil tanker carrying heavy grade oil shall be allowed to enter or leave port or offshore terminal under the jurisdiction of a member state.\n"
     ]
    },
    {
     "name": "stderr",
     "output_type": "stream",
     "text": [
      "Some weights of RobertaModel were not initialized from the model checkpoint at roberta-large and are newly initialized: ['roberta.pooler.dense.bias', 'roberta.pooler.dense.weight']\n",
      "You should probably TRAIN this model on a down-stream task to be able to use it for predictions and inference.\n"
     ]
    },
    {
     "name": "stdout",
     "output_type": "stream",
     "text": [
      "T5 BertScore F1: 0.82\n",
      "4402\n",
      "any national of a member state shall have the right to take up an activity and pursue it within the territory of another member state. the child of a national of a member state who is employed in the territory of another member state shall be admitted to the same educational, vocational and training course.\n"
     ]
    },
    {
     "name": "stderr",
     "output_type": "stream",
     "text": [
      "Some weights of RobertaModel were not initialized from the model checkpoint at roberta-large and are newly initialized: ['roberta.pooler.dense.bias', 'roberta.pooler.dense.weight']\n",
      "You should probably TRAIN this model on a down-stream task to be able to use it for predictions and inference.\n"
     ]
    },
    {
     "name": "stdout",
     "output_type": "stream",
     "text": [
      "T5 BertScore F1: 0.81\n",
      "4058\n",
      "the european environment agency aims at setting up a european environment information and observation network. the agency shall have a management board consisting of one representative of each member state and two representative of the commission. the court of justice shall have jurisdiction in dispute relating to any damage caused by the agency or it servant in the performance of their duty.\n"
     ]
    },
    {
     "name": "stderr",
     "output_type": "stream",
     "text": [
      "Some weights of RobertaModel were not initialized from the model checkpoint at roberta-large and are newly initialized: ['roberta.pooler.dense.bias', 'roberta.pooler.dense.weight']\n",
      "You should probably TRAIN this model on a down-stream task to be able to use it for predictions and inference.\n"
     ]
    },
    {
     "name": "stdout",
     "output_type": "stream",
     "text": [
      "T5 BertScore F1: 0.82\n",
      "5232\n",
      "a geographical indication is an indication identifying a spirit drink originating in the territory of a country, or a region or place in that country. it shall be registered in annex iii. a geographical indication is registered in annex iii. a spirit drink not meeting the requirement of this regulation may continue to be produced in accordance with regulation no 1576/89.\n"
     ]
    },
    {
     "name": "stderr",
     "output_type": "stream",
     "text": [
      "Some weights of RobertaModel were not initialized from the model checkpoint at roberta-large and are newly initialized: ['roberta.pooler.dense.bias', 'roberta.pooler.dense.weight']\n",
      "You should probably TRAIN this model on a down-stream task to be able to use it for predictions and inference.\n"
     ]
    },
    {
     "name": "stdout",
     "output_type": "stream",
     "text": [
      "T5 BertScore F1: 0.82\n",
      "4375\n",
      "every member state shall draw up, apply and maintain a national civil aviation security programme. the programme shall describe the method and procedure which are to be followed by the air carrier in order to comply with this regulation. it shall include internal quality control provision describing how compliance with these method and procedure is to be monitored.\n"
     ]
    },
    {
     "name": "stderr",
     "output_type": "stream",
     "text": [
      "Some weights of RobertaModel were not initialized from the model checkpoint at roberta-large and are newly initialized: ['roberta.pooler.dense.bias', 'roberta.pooler.dense.weight']\n",
      "You should probably TRAIN this model on a down-stream task to be able to use it for predictions and inference.\n"
     ]
    },
    {
     "name": "stdout",
     "output_type": "stream",
     "text": [
      "T5 BertScore F1: 0.80\n",
      "3992\n",
      "member state shall inform the other of any authorisation granted under paragraph 1 within two week of the authorisation. no fund or economic resource shall be made available. to or for the benefit of natural or legal person, entity or body listed in annex i.\n"
     ]
    },
    {
     "name": "stderr",
     "output_type": "stream",
     "text": [
      "Some weights of RobertaModel were not initialized from the model checkpoint at roberta-large and are newly initialized: ['roberta.pooler.dense.bias', 'roberta.pooler.dense.weight']\n",
      "You should probably TRAIN this model on a down-stream task to be able to use it for predictions and inference.\n"
     ]
    },
    {
     "name": "stdout",
     "output_type": "stream",
     "text": [
      "T5 BertScore F1: 0.78\n",
      "3309\n",
      "eunavfor med irini shall contribute to preventing arm trafficking. the operation shall be named eunavfor med irini. the operation shall be carried out on the high sea off the coast of libya.\n"
     ]
    },
    {
     "name": "stderr",
     "output_type": "stream",
     "text": [
      "Some weights of RobertaModel were not initialized from the model checkpoint at roberta-large and are newly initialized: ['roberta.pooler.dense.bias', 'roberta.pooler.dense.weight']\n",
      "You should probably TRAIN this model on a down-stream task to be able to use it for predictions and inference.\n"
     ]
    },
    {
     "name": "stdout",
     "output_type": "stream",
     "text": [
      "T5 BertScore F1: 0.81\n",
      "1941\n",
      "the purpose of the fado system is to contribute to the fight against document and identity fraud by sharing information. member state and the union shall transmit without delay to the european border and coast guard agency. agency shall ensure the proper and reliable functioning of the fado system.\n"
     ]
    },
    {
     "name": "stderr",
     "output_type": "stream",
     "text": [
      "Some weights of RobertaModel were not initialized from the model checkpoint at roberta-large and are newly initialized: ['roberta.pooler.dense.bias', 'roberta.pooler.dense.weight']\n",
      "You should probably TRAIN this model on a down-stream task to be able to use it for predictions and inference.\n"
     ]
    },
    {
     "name": "stdout",
     "output_type": "stream",
     "text": [
      "T5 BertScore F1: 0.83\n",
      "2619\n",
      "directive aims to ensure proper functioning of the internal market while guaranteeing a high level of consumer protection. member state shall ensure that the legislative, regulatory or administrative provision restricting access to a regulated profession. member state shall ensure that the amendment that they make to existing provision are suitable for securing the attainment of the objective pursued.\n"
     ]
    },
    {
     "name": "stderr",
     "output_type": "stream",
     "text": [
      "Some weights of RobertaModel were not initialized from the model checkpoint at roberta-large and are newly initialized: ['roberta.pooler.dense.bias', 'roberta.pooler.dense.weight']\n",
      "You should probably TRAIN this model on a down-stream task to be able to use it for predictions and inference.\n"
     ]
    },
    {
     "name": "stdout",
     "output_type": "stream",
     "text": [
      "T5 BertScore F1: 0.81\n",
      "4431\n",
      "a delegated act is conferred on the commission subject to the condition laid down in this regulation. it shall establish a multiannual plan for the demersal stock in union water of the north sea, including the fishery exploiting those stock. it shall aim to ensure that exploitation of living marine biological resource restores and maintains population of harvested specie.\n"
     ]
    },
    {
     "name": "stderr",
     "output_type": "stream",
     "text": [
      "Some weights of RobertaModel were not initialized from the model checkpoint at roberta-large and are newly initialized: ['roberta.pooler.dense.bias', 'roberta.pooler.dense.weight']\n",
      "You should probably TRAIN this model on a down-stream task to be able to use it for predictions and inference.\n"
     ]
    },
    {
     "name": "stdout",
     "output_type": "stream",
     "text": [
      "T5 BertScore F1: 0.83\n",
      "4683\n",
      "eu has adopted a system of control with respect to cash entering or leaving the union. it aims to complement the legal framework laid down in directive ( eu ) 2015/849. the regulation shall be binding in it entirety and directly applicable in all member state. it shall enter into force on the twentieth day following that of its publication in the official journal of the european union.\n"
     ]
    },
    {
     "name": "stderr",
     "output_type": "stream",
     "text": [
      "Some weights of RobertaModel were not initialized from the model checkpoint at roberta-large and are newly initialized: ['roberta.pooler.dense.bias', 'roberta.pooler.dense.weight']\n",
      "You should probably TRAIN this model on a down-stream task to be able to use it for predictions and inference.\n"
     ]
    },
    {
     "name": "stdout",
     "output_type": "stream",
     "text": [
      "T5 BertScore F1: 0.82\n",
      "5760\n",
      "a member state shall inform the commission of the existence of a stockpile. the holder of a stockpile shall manage the waste in a safe, efficient and environmentally sound manner. a member state shall inform the agency of the existence of a stockpile. the agency shall compile and publish a report on the basis of the information.\n"
     ]
    },
    {
     "name": "stderr",
     "output_type": "stream",
     "text": [
      "Some weights of RobertaModel were not initialized from the model checkpoint at roberta-large and are newly initialized: ['roberta.pooler.dense.bias', 'roberta.pooler.dense.weight']\n",
      "You should probably TRAIN this model on a down-stream task to be able to use it for predictions and inference.\n"
     ]
    },
    {
     "name": "stdout",
     "output_type": "stream",
     "text": [
      "T5 BertScore F1: 0.81\n",
      "5753\n",
      "member state shall ensure that single-use plastic product listed in part a of the annex are placed on the market. member state shall take measure to inform consumer and to incentivise responsible consumer behaviour. member state shall ensure that each single-use plastic product listed in part a of the annex is marked.\n"
     ]
    },
    {
     "name": "stderr",
     "output_type": "stream",
     "text": [
      "Some weights of RobertaModel were not initialized from the model checkpoint at roberta-large and are newly initialized: ['roberta.pooler.dense.bias', 'roberta.pooler.dense.weight']\n",
      "You should probably TRAIN this model on a down-stream task to be able to use it for predictions and inference.\n"
     ]
    },
    {
     "name": "stdout",
     "output_type": "stream",
     "text": [
      "T5 BertScore F1: 0.81\n",
      "1104\n",
      "authorised entity established in a member state shall establish and follow its own practice to ensure it distributes, communicates and make available accessible format copy. an authorised entity established in a member state shall provide the following information in an accessible way. an authorised entity established in a member state carrying out the act referred to in article 3 and 4 shall provide the following information.\n"
     ]
    },
    {
     "name": "stderr",
     "output_type": "stream",
     "text": [
      "Some weights of RobertaModel were not initialized from the model checkpoint at roberta-large and are newly initialized: ['roberta.pooler.dense.bias', 'roberta.pooler.dense.weight']\n",
      "You should probably TRAIN this model on a down-stream task to be able to use it for predictions and inference.\n"
     ]
    },
    {
     "name": "stdout",
     "output_type": "stream",
     "text": [
      "T5 BertScore F1: 0.80\n",
      "6465\n",
      "cit security staff shall comply with the law of the member state of origin. they shall be able to show a relevant entry in a criminal record. they must also have a medical certificate certifying their physical and mental health is adequate for the task to be performed.\n"
     ]
    },
    {
     "name": "stderr",
     "output_type": "stream",
     "text": [
      "Some weights of RobertaModel were not initialized from the model checkpoint at roberta-large and are newly initialized: ['roberta.pooler.dense.bias', 'roberta.pooler.dense.weight']\n",
      "You should probably TRAIN this model on a down-stream task to be able to use it for predictions and inference.\n"
     ]
    },
    {
     "name": "stdout",
     "output_type": "stream",
     "text": [
      "T5 BertScore F1: 0.79\n",
      "973\n",
      "circulation coin means euro coin intended for circulation. commemorative coin means circulation coin intended to commemorate a specific subject. collector coin means euro coin intended for collection that are not issued with a view to their entry into circulation. member state may issue two commemorative coin per year.\n"
     ]
    },
    {
     "name": "stderr",
     "output_type": "stream",
     "text": [
      "Some weights of RobertaModel were not initialized from the model checkpoint at roberta-large and are newly initialized: ['roberta.pooler.dense.bias', 'roberta.pooler.dense.weight']\n",
      "You should probably TRAIN this model on a down-stream task to be able to use it for predictions and inference.\n"
     ]
    },
    {
     "name": "stdout",
     "output_type": "stream",
     "text": [
      "T5 BertScore F1: 0.81\n",
      "6783\n",
      "esf shall promote high level of employment and job quality. it shall also support the geographical and occupational mobility of worker. member state and the commission shall also support specific action.\n"
     ]
    },
    {
     "name": "stderr",
     "output_type": "stream",
     "text": [
      "Some weights of RobertaModel were not initialized from the model checkpoint at roberta-large and are newly initialized: ['roberta.pooler.dense.bias', 'roberta.pooler.dense.weight']\n",
      "You should probably TRAIN this model on a down-stream task to be able to use it for predictions and inference.\n"
     ]
    },
    {
     "name": "stdout",
     "output_type": "stream",
     "text": [
      "T5 BertScore F1: 0.80\n",
      "1740\n",
      "the regulation establishes a common legal framework for the development, production and dissemination of european statistic on population and vital event. member state shall provide the commission ( eurostat ) with data on their usually resident population at the reference time. data shall cover population by age, sex and region of residence.\n"
     ]
    },
    {
     "name": "stderr",
     "output_type": "stream",
     "text": [
      "Some weights of RobertaModel were not initialized from the model checkpoint at roberta-large and are newly initialized: ['roberta.pooler.dense.bias', 'roberta.pooler.dense.weight']\n",
      "You should probably TRAIN this model on a down-stream task to be able to use it for predictions and inference.\n"
     ]
    },
    {
     "name": "stdout",
     "output_type": "stream",
     "text": [
      "T5 BertScore F1: 0.82\n",
      "4677\n",
      "a textile product containing at least 80 % by weight of textile fibre may be labelled or marked. term'silk' shall not be used to indicate the shape or particular presentation of textile product. the presence of non-textile part of animal origin in textile product may be indicated by using the phrase'contains non-textile part of animal origin'.\n"
     ]
    },
    {
     "name": "stderr",
     "output_type": "stream",
     "text": [
      "Some weights of RobertaModel were not initialized from the model checkpoint at roberta-large and are newly initialized: ['roberta.pooler.dense.bias', 'roberta.pooler.dense.weight']\n",
      "You should probably TRAIN this model on a down-stream task to be able to use it for predictions and inference.\n"
     ]
    },
    {
     "name": "stdout",
     "output_type": "stream",
     "text": [
      "T5 BertScore F1: 0.84\n",
      "3625\n",
      "a noise problem has been identified at an airport and a regulation has been adopted to help improve the noise climate. it lays down the process to be followed for the introduction of noise-related operating restriction in a consistent manner on an airport-by-airport basis. a member state may exempt marginally compliant aircraft registered in a developing country from noise operating restriction.\n"
     ]
    },
    {
     "name": "stderr",
     "output_type": "stream",
     "text": [
      "Some weights of RobertaModel were not initialized from the model checkpoint at roberta-large and are newly initialized: ['roberta.pooler.dense.bias', 'roberta.pooler.dense.weight']\n",
      "You should probably TRAIN this model on a down-stream task to be able to use it for predictions and inference.\n"
     ]
    },
    {
     "name": "stdout",
     "output_type": "stream",
     "text": [
      "T5 BertScore F1: 0.82\n",
      "1621\n",
      "this regulation shall apply to carriage of passenger by sea within a single member state on board ship of class a and b under article 4 of directive 98/18/ec. it shall apply from the date of entry into force of the athens convention for the community, and in any case from no later than 31 december 2012. it shall be binding in it entirety and directly applicable in all member state.\n"
     ]
    },
    {
     "name": "stderr",
     "output_type": "stream",
     "text": [
      "Some weights of RobertaModel were not initialized from the model checkpoint at roberta-large and are newly initialized: ['roberta.pooler.dense.bias', 'roberta.pooler.dense.weight']\n",
      "You should probably TRAIN this model on a down-stream task to be able to use it for predictions and inference.\n"
     ]
    },
    {
     "name": "stdout",
     "output_type": "stream",
     "text": [
      "T5 BertScore F1: 0.81\n",
      "4932\n",
      "the regulation shall apply to the establishment and organisation of international rail corridor for competitive rail freight. it shall be binding in it entirety and directly applicable in all member state. it shall not apply to the republic of cyprus and malta for a long time a no railway system is established within their territory.\n"
     ]
    },
    {
     "name": "stderr",
     "output_type": "stream",
     "text": [
      "Some weights of RobertaModel were not initialized from the model checkpoint at roberta-large and are newly initialized: ['roberta.pooler.dense.bias', 'roberta.pooler.dense.weight']\n",
      "You should probably TRAIN this model on a down-stream task to be able to use it for predictions and inference.\n"
     ]
    },
    {
     "name": "stdout",
     "output_type": "stream",
     "text": [
      "T5 BertScore F1: 0.81\n",
      "8004\n",
      "the regulation shall apply to all undertaking established in the community. it shall also apply to undertaking intending to engage in the occupation of road transport operator. member state shall designate a national contact point responsible for the exchange of information with other member state.\n"
     ]
    },
    {
     "name": "stderr",
     "output_type": "stream",
     "text": [
      "Some weights of RobertaModel were not initialized from the model checkpoint at roberta-large and are newly initialized: ['roberta.pooler.dense.bias', 'roberta.pooler.dense.weight']\n",
      "You should probably TRAIN this model on a down-stream task to be able to use it for predictions and inference.\n"
     ]
    },
    {
     "name": "stdout",
     "output_type": "stream",
     "text": [
      "T5 BertScore F1: 0.81\n",
      "1913\n",
      "this regulation establishes a common framework for the systematic production of community statistic on public health and health and safety at work. statistic shall be produced in compliance with standard on impartiality, reliability, objectivity, cost-effectiveness and statistical confidentiality.\n"
     ]
    },
    {
     "name": "stderr",
     "output_type": "stream",
     "text": [
      "Some weights of RobertaModel were not initialized from the model checkpoint at roberta-large and are newly initialized: ['roberta.pooler.dense.bias', 'roberta.pooler.dense.weight']\n",
      "You should probably TRAIN this model on a down-stream task to be able to use it for predictions and inference.\n"
     ]
    },
    {
     "name": "stdout",
     "output_type": "stream",
     "text": [
      "T5 BertScore F1: 0.80\n",
      "1891\n",
      "each member state shall submit to the commission ( eurostat ) data on job vacancy at least for business unit with one employee or more. data shall cover all economic activity defined by the common classification system for economic activity in the community.\n"
     ]
    },
    {
     "name": "stderr",
     "output_type": "stream",
     "text": [
      "Some weights of RobertaModel were not initialized from the model checkpoint at roberta-large and are newly initialized: ['roberta.pooler.dense.bias', 'roberta.pooler.dense.weight']\n",
      "You should probably TRAIN this model on a down-stream task to be able to use it for predictions and inference.\n"
     ]
    },
    {
     "name": "stdout",
     "output_type": "stream",
     "text": [
      "T5 BertScore F1: 0.85\n",
      "2165\n",
      "this regulation establishes requirement for the type-approval of motor vehicle with regard to hydrogen propulsion. it also establishes requirement for the installation of such component and system. member state shall lay down the provision on penalty applicable for infringement by manufacturer.\n"
     ]
    },
    {
     "name": "stderr",
     "output_type": "stream",
     "text": [
      "Some weights of RobertaModel were not initialized from the model checkpoint at roberta-large and are newly initialized: ['roberta.pooler.dense.bias', 'roberta.pooler.dense.weight']\n",
      "You should probably TRAIN this model on a down-stream task to be able to use it for predictions and inference.\n"
     ]
    },
    {
     "name": "stdout",
     "output_type": "stream",
     "text": [
      "T5 BertScore F1: 0.82\n",
      "2244\n",
      "the regulation establishes a procedure to authorise a member state to amend an existing agreement or to negotiate and conclude a new agreement with a third country. this procedure is without prejudice to the respective competency of the community and of the member state. the regulation shall expire three year after the submission by the commission of the report referred to in article 13.\n"
     ]
    },
    {
     "name": "stderr",
     "output_type": "stream",
     "text": [
      "Some weights of RobertaModel were not initialized from the model checkpoint at roberta-large and are newly initialized: ['roberta.pooler.dense.bias', 'roberta.pooler.dense.weight']\n",
      "You should probably TRAIN this model on a down-stream task to be able to use it for predictions and inference.\n"
     ]
    },
    {
     "name": "stdout",
     "output_type": "stream",
     "text": [
      "T5 BertScore F1: 0.83\n",
      "4025\n",
      "member state shall supply to the commission ( eurostat ) statistic on the number of third-country national found to be illegally present in the member state's territory. statistic shall be disaggregated by age and sex, and by the citizenship of the person concerned.\n"
     ]
    },
    {
     "name": "stderr",
     "output_type": "stream",
     "text": [
      "Some weights of RobertaModel were not initialized from the model checkpoint at roberta-large and are newly initialized: ['roberta.pooler.dense.bias', 'roberta.pooler.dense.weight']\n",
      "You should probably TRAIN this model on a down-stream task to be able to use it for predictions and inference.\n"
     ]
    },
    {
     "name": "stdout",
     "output_type": "stream",
     "text": [
      "T5 BertScore F1: 0.81\n",
      "7802\n",
      "a common organisation of the market in fishery and aquaculture product ( cmo ) is hereby established. it shall be comprised of the following elements. a member state may make a proposal for a price triggering the storage mechanism. the price shall be fixed on the basis of the weighted average price recorded for the product in question.\n"
     ]
    },
    {
     "name": "stderr",
     "output_type": "stream",
     "text": [
      "Some weights of RobertaModel were not initialized from the model checkpoint at roberta-large and are newly initialized: ['roberta.pooler.dense.bias', 'roberta.pooler.dense.weight']\n",
      "You should probably TRAIN this model on a down-stream task to be able to use it for predictions and inference.\n"
     ]
    },
    {
     "name": "stdout",
     "output_type": "stream",
     "text": [
      "T5 BertScore F1: 0.82\n",
      "1572\n",
      "a cohesion fund is hereby established for the purpose of strengthening the economic, social and territorial cohesion of the union. it shall support investment for growth and job goal referred to in article 89 of regulation ( eu ) no 1303/2013. the cohesion fund shall not support. the decommissioning or the construction of nuclear power station.\n"
     ]
    },
    {
     "name": "stderr",
     "output_type": "stream",
     "text": [
      "Some weights of RobertaModel were not initialized from the model checkpoint at roberta-large and are newly initialized: ['roberta.pooler.dense.bias', 'roberta.pooler.dense.weight']\n",
      "You should probably TRAIN this model on a down-stream task to be able to use it for predictions and inference.\n"
     ]
    },
    {
     "name": "stdout",
     "output_type": "stream",
     "text": [
      "T5 BertScore F1: 0.83\n",
      "4558\n",
      "erdf shall support investment for growth and job goal and eu territorial cooperation goal. it shall also support innovative action in the area of sustainable urban development. erdf shall not support the decommissioning or construction of nuclear power station.\n"
     ]
    },
    {
     "name": "stderr",
     "output_type": "stream",
     "text": [
      "Some weights of RobertaModel were not initialized from the model checkpoint at roberta-large and are newly initialized: ['roberta.pooler.dense.bias', 'roberta.pooler.dense.weight']\n",
      "You should probably TRAIN this model on a down-stream task to be able to use it for predictions and inference.\n"
     ]
    },
    {
     "name": "stdout",
     "output_type": "stream",
     "text": [
      "T5 BertScore F1: 0.81\n",
      "5572\n",
      "odr platform shall be a single point of entry for consumer and trader. it shall facilitate the out-of-court resolution of dispute between consumer and trader through the intervention of an adr entity. each adr entity shall be regarded as a controller with respect to it data processing activity under this regulation.\n"
     ]
    },
    {
     "name": "stderr",
     "output_type": "stream",
     "text": [
      "Some weights of RobertaModel were not initialized from the model checkpoint at roberta-large and are newly initialized: ['roberta.pooler.dense.bias', 'roberta.pooler.dense.weight']\n",
      "You should probably TRAIN this model on a down-stream task to be able to use it for predictions and inference.\n"
     ]
    },
    {
     "name": "stdout",
     "output_type": "stream",
     "text": [
      "T5 BertScore F1: 0.81\n",
      "4383\n",
      "greece has adopted this regulation to mitigate the difficulty caused by the insularity, small size and distance from market. the commission shall adopt implementing act concerning the minimum characteristic of the check to be carried out by greece. the amount allocated annually to finance the specific supply arrangement shall not exceed eur 23,93 million.\n"
     ]
    },
    {
     "name": "stderr",
     "output_type": "stream",
     "text": [
      "Some weights of RobertaModel were not initialized from the model checkpoint at roberta-large and are newly initialized: ['roberta.pooler.dense.bias', 'roberta.pooler.dense.weight']\n",
      "You should probably TRAIN this model on a down-stream task to be able to use it for predictions and inference.\n"
     ]
    },
    {
     "name": "stdout",
     "output_type": "stream",
     "text": [
      "T5 BertScore F1: 0.81\n",
      "2124\n",
      "each member state shall compile statistic for the union on the carriage of good by road by means of good road transport vehicle. each member state shall transmit to eurostat every quarter duly verified individual data. member state shall also forward to eurostat detail of any substantial change in the method used to collect statistical data.\n"
     ]
    },
    {
     "name": "stderr",
     "output_type": "stream",
     "text": [
      "Some weights of RobertaModel were not initialized from the model checkpoint at roberta-large and are newly initialized: ['roberta.pooler.dense.bias', 'roberta.pooler.dense.weight']\n",
      "You should probably TRAIN this model on a down-stream task to be able to use it for predictions and inference.\n"
     ]
    },
    {
     "name": "stdout",
     "output_type": "stream",
     "text": [
      "T5 BertScore F1: 0.83\n",
      "3684\n",
      "a judicial or extrajudicial document ha to be transmitted from one member state to another for service there. it shall not extend in particular to revenue, custom or administrative matter or to liability of the state for action or omission in the exercise of state authority. each member state shall designate the public officer, authority or other person, hereinafter referred to as a transmitting agency. each member state shall communicate to the commission the information referred to in article 2.\n"
     ]
    },
    {
     "name": "stderr",
     "output_type": "stream",
     "text": [
      "Some weights of RobertaModel were not initialized from the model checkpoint at roberta-large and are newly initialized: ['roberta.pooler.dense.bias', 'roberta.pooler.dense.weight']\n",
      "You should probably TRAIN this model on a down-stream task to be able to use it for predictions and inference.\n"
     ]
    },
    {
     "name": "stdout",
     "output_type": "stream",
     "text": [
      "T5 BertScore F1: 0.82\n",
      "5038\n",
      "advanced therapy medicinal product is defined in article 2 of directive 2001/83/ec. it is a product based on gene therapy or tissue engineering. product must meet essential requirement laid down in directive 93/42/eec. a marketing authorisation for advanced therapy medicinal product must be issued by the competent authority of the member state concerned.\n"
     ]
    },
    {
     "name": "stderr",
     "output_type": "stream",
     "text": [
      "Some weights of RobertaModel were not initialized from the model checkpoint at roberta-large and are newly initialized: ['roberta.pooler.dense.bias', 'roberta.pooler.dense.weight']\n",
      "You should probably TRAIN this model on a down-stream task to be able to use it for predictions and inference.\n"
     ]
    },
    {
     "name": "stdout",
     "output_type": "stream",
     "text": [
      "T5 BertScore F1: 0.80\n",
      "4904\n",
      "eu rules on access to vehicle repair and maintenance information set out in this regulation. manufacturer shall ensure that all new vehicle sold, registered or put into service in the community are type approved. in-service conformity measure shall be checked for a period of up to 100 000 km.\n"
     ]
    },
    {
     "name": "stderr",
     "output_type": "stream",
     "text": [
      "Some weights of RobertaModel were not initialized from the model checkpoint at roberta-large and are newly initialized: ['roberta.pooler.dense.bias', 'roberta.pooler.dense.weight']\n",
      "You should probably TRAIN this model on a down-stream task to be able to use it for predictions and inference.\n"
     ]
    },
    {
     "name": "stdout",
     "output_type": "stream",
     "text": [
      "T5 BertScore F1: 0.81\n",
      "2700\n",
      "this regulation shall lay down a common procedure for the assessment and authorisation of food additive. it shall not apply to smoke flavouring falling within the scope of regulation ( ec ) no 2065/2003 of the european parliament and of the council.\n"
     ]
    },
    {
     "name": "stderr",
     "output_type": "stream",
     "text": [
      "Some weights of RobertaModel were not initialized from the model checkpoint at roberta-large and are newly initialized: ['roberta.pooler.dense.bias', 'roberta.pooler.dense.weight']\n",
      "You should probably TRAIN this model on a down-stream task to be able to use it for predictions and inference.\n"
     ]
    },
    {
     "name": "stdout",
     "output_type": "stream",
     "text": [
      "T5 BertScore F1: 0.82\n",
      "5712\n",
      "the regulation shall enter into force 24 month after it is published in the official journal of the european union. a member state shall designate a body or body responsible for the enforcement of this regulation. each body shall take the measure necessary to ensure that the right of passenger are respected.\n"
     ]
    },
    {
     "name": "stderr",
     "output_type": "stream",
     "text": [
      "Some weights of RobertaModel were not initialized from the model checkpoint at roberta-large and are newly initialized: ['roberta.pooler.dense.bias', 'roberta.pooler.dense.weight']\n",
      "You should probably TRAIN this model on a down-stream task to be able to use it for predictions and inference.\n"
     ]
    },
    {
     "name": "stdout",
     "output_type": "stream",
     "text": [
      "T5 BertScore F1: 0.80\n",
      "1318\n",
      "this regulation establishes a common framework for the systematic production of community statistic in the field of education and lifelong learning. member state shall ensure that the transmitted data do not permit the direct identification of the statistical unit concerned.\n"
     ]
    },
    {
     "name": "stderr",
     "output_type": "stream",
     "text": [
      "Some weights of RobertaModel were not initialized from the model checkpoint at roberta-large and are newly initialized: ['roberta.pooler.dense.bias', 'roberta.pooler.dense.weight']\n",
      "You should probably TRAIN this model on a down-stream task to be able to use it for predictions and inference.\n"
     ]
    },
    {
     "name": "stdout",
     "output_type": "stream",
     "text": [
      "T5 BertScore F1: 0.82\n",
      "1914\n",
      "this regulation establishes a common framework for the production, transmission, evaluation and dissemination of comparable energy statistic in the community. it shall apply to statistical data concerning energy product and their aggregate in the community.\n"
     ]
    },
    {
     "name": "stderr",
     "output_type": "stream",
     "text": [
      "Some weights of RobertaModel were not initialized from the model checkpoint at roberta-large and are newly initialized: ['roberta.pooler.dense.bias', 'roberta.pooler.dense.weight']\n",
      "You should probably TRAIN this model on a down-stream task to be able to use it for predictions and inference.\n"
     ]
    },
    {
     "name": "stdout",
     "output_type": "stream",
     "text": [
      "T5 BertScore F1: 0.82\n",
      "5594\n",
      "the regulation shall apply to regular service from point situated on the territory of a member state to point of departure from such point. passenger may submit a complaint to the carrier within 3 month from the date on which the regular service was performed.\n"
     ]
    },
    {
     "name": "stderr",
     "output_type": "stream",
     "text": [
      "Some weights of RobertaModel were not initialized from the model checkpoint at roberta-large and are newly initialized: ['roberta.pooler.dense.bias', 'roberta.pooler.dense.weight']\n",
      "You should probably TRAIN this model on a down-stream task to be able to use it for predictions and inference.\n"
     ]
    },
    {
     "name": "stdout",
     "output_type": "stream",
     "text": [
      "T5 BertScore F1: 0.79\n",
      "1346\n",
      "a member state shall submit to the commission statistic on all the aquaculture activity conducted in freshwater and saltwater on their territory. member state shall use survey or other statistically validated method covering at least 90 % of the total production by volume. the remaining part of the total production may be estimated.\n"
     ]
    },
    {
     "name": "stderr",
     "output_type": "stream",
     "text": [
      "Some weights of RobertaModel were not initialized from the model checkpoint at roberta-large and are newly initialized: ['roberta.pooler.dense.bias', 'roberta.pooler.dense.weight']\n",
      "You should probably TRAIN this model on a down-stream task to be able to use it for predictions and inference.\n"
     ]
    },
    {
     "name": "stdout",
     "output_type": "stream",
     "text": [
      "T5 BertScore F1: 0.84\n",
      "4077\n",
      "application for a certificate shall be lodged within six month of the date on which the authorisation to place the product on the market is granted. application for an extension of the duration of a certificate already granted shall be lodged with the authority referred to in article 9 ( 1 ) member state may require that the certificate be subject to the payment of an annual fee.\n"
     ]
    },
    {
     "name": "stderr",
     "output_type": "stream",
     "text": [
      "Some weights of RobertaModel were not initialized from the model checkpoint at roberta-large and are newly initialized: ['roberta.pooler.dense.bias', 'roberta.pooler.dense.weight']\n",
      "You should probably TRAIN this model on a down-stream task to be able to use it for predictions and inference.\n"
     ]
    },
    {
     "name": "stdout",
     "output_type": "stream",
     "text": [
      "T5 BertScore F1: 0.80\n",
      "0.815039294797021\n"
     ]
    }
   ],
   "source": [
    "F1_t5_less_8192 = []\n",
    "\n",
    "for index, row in test_df[test_df['reference_tokens_preprocessed'] < MAX_ALLOWED_SEQUENCE].iterrows():\n",
    "    reference_text = row[\"reference\"]\n",
    "    reference_summary = row[\"summary\"]\n",
    "    print(row[\"reference_tokens_preprocessed\"])\n",
    "\n",
    "    result_summary = ReadingWithJumpingWindow(model_t5, tokenizer_t5, reference_text)\n",
    "    print(result_summary)\n",
    "    P, R, F1 = score([result_summary], [reference_summary], lang='en', verbose=False)\n",
    "    print(f\"T5 BertScore F1: {F1.item():.2f}\")\n",
    "    F1_t5_less_8192.append(F1.item())\n",
    "    torch.cuda.empty_cache()\n",
    "\n",
    "np.save('F1_t5_less_8192.npy', F1_t5_less_8192)\n",
    "\n",
    "sum = 0\n",
    "for _ in F1_t5_less_8192:\n",
    "    sum += _\n",
    "print(sum / len(F1_t5_less_8192))"
   ]
  },
  {
   "cell_type": "markdown",
   "id": "2dee2f88",
   "metadata": {},
   "source": [
    "The following test was done to assess the performance on the model on texts that it must split in chunks to perform the summarization task"
   ]
  },
  {
   "cell_type": "code",
   "execution_count": 5,
   "id": "f26507a4",
   "metadata": {
    "execution": {
     "iopub.execute_input": "2024-05-19T16:11:58.273288Z",
     "iopub.status.busy": "2024-05-19T16:11:58.272999Z",
     "iopub.status.idle": "2024-05-19T17:15:06.238520Z",
     "shell.execute_reply": "2024-05-19T17:15:06.237581Z",
     "shell.execute_reply.started": "2024-05-19T16:11:58.273263Z"
    }
   },
   "outputs": [
    {
     "name": "stdout",
     "output_type": "stream",
     "text": [
      "14373\n",
      "4\n",
      "market surveillance authority shall ensure that only compliant products are made available on the market. they shall carry out their duty independently, impartially and without bias. market surveillance authority shall ensure that product presenting a serious risk are withdrawn or recalled.\n"
     ]
    },
    {
     "name": "stderr",
     "output_type": "stream",
     "text": [
      "Some weights of RobertaModel were not initialized from the model checkpoint at roberta-large and are newly initialized: ['roberta.pooler.dense.bias', 'roberta.pooler.dense.weight']\n",
      "You should probably TRAIN this model on a down-stream task to be able to use it for predictions and inference.\n"
     ]
    },
    {
     "name": "stdout",
     "output_type": "stream",
     "text": [
      "T5 BertScore F1: 0.80\n",
      "11101\n",
      "3\n",
      "in the digital sector, only the following action shall be eligible to receive financial support under this regulation. the amount of financial support shall not exceed 50 % of the total eligible cost. the maximum co-funding rate applicable to action shall be 85 %.\n"
     ]
    },
    {
     "name": "stderr",
     "output_type": "stream",
     "text": [
      "Some weights of RobertaModel were not initialized from the model checkpoint at roberta-large and are newly initialized: ['roberta.pooler.dense.bias', 'roberta.pooler.dense.weight']\n",
      "You should probably TRAIN this model on a down-stream task to be able to use it for predictions and inference.\n"
     ]
    },
    {
     "name": "stdout",
     "output_type": "stream",
     "text": [
      "T5 BertScore F1: 0.79\n",
      "21083\n",
      "6\n",
      "horizon europe is a framework programme for research and innovation. it aims to strengthen the scientific, technological, economic and societal impact of the union's investment in r & i. eit is a centrally managed one-stop shop for implementing r & i.\n"
     ]
    },
    {
     "name": "stderr",
     "output_type": "stream",
     "text": [
      "Some weights of RobertaModel were not initialized from the model checkpoint at roberta-large and are newly initialized: ['roberta.pooler.dense.bias', 'roberta.pooler.dense.weight']\n",
      "You should probably TRAIN this model on a down-stream task to be able to use it for predictions and inference.\n"
     ]
    },
    {
     "name": "stdout",
     "output_type": "stream",
     "text": [
      "T5 BertScore F1: 0.82\n",
      "31669\n",
      "8\n",
      "eu space programme aims to provide high-quality, up-to-date and secure space data and information to member state and international organisations. esa and govsat are entrusted with the management of the programme. the service provided by egnos shall be free of charge for all users.\n"
     ]
    },
    {
     "name": "stderr",
     "output_type": "stream",
     "text": [
      "Some weights of RobertaModel were not initialized from the model checkpoint at roberta-large and are newly initialized: ['roberta.pooler.dense.bias', 'roberta.pooler.dense.weight']\n",
      "You should probably TRAIN this model on a down-stream task to be able to use it for predictions and inference.\n"
     ]
    },
    {
     "name": "stdout",
     "output_type": "stream",
     "text": [
      "T5 BertScore F1: 0.81\n",
      "8289\n",
      "3\n",
      "funding for action which do not comply with ethical requirement may be suspended, terminated or reduced at any time. programme shall be implemented under direct management, in accordance with the financial regulation.\n"
     ]
    },
    {
     "name": "stderr",
     "output_type": "stream",
     "text": [
      "Some weights of RobertaModel were not initialized from the model checkpoint at roberta-large and are newly initialized: ['roberta.pooler.dense.bias', 'roberta.pooler.dense.weight']\n",
      "You should probably TRAIN this model on a down-stream task to be able to use it for predictions and inference.\n"
     ]
    },
    {
     "name": "stdout",
     "output_type": "stream",
     "text": [
      "T5 BertScore F1: 0.78\n",
      "9686\n",
      "3\n",
      "the programme aims to improve the functioning of the internal market, the competitiveness and sustainability of enterprise. it also aims to support the development of high-quality international financial and non-financial reporting and auditing.\n"
     ]
    },
    {
     "name": "stderr",
     "output_type": "stream",
     "text": [
      "Some weights of RobertaModel were not initialized from the model checkpoint at roberta-large and are newly initialized: ['roberta.pooler.dense.bias', 'roberta.pooler.dense.weight']\n",
      "You should probably TRAIN this model on a down-stream task to be able to use it for predictions and inference.\n"
     ]
    },
    {
     "name": "stdout",
     "output_type": "stream",
     "text": [
      "T5 BertScore F1: 0.82\n",
      "10969\n",
      "3\n",
      "eets shall be provided to eets user on a single continuous service. member state may require that eets provider provide traffic data. eets provider shall be entitled to be remunerated by the toll charger.\n"
     ]
    },
    {
     "name": "stderr",
     "output_type": "stream",
     "text": [
      "Some weights of RobertaModel were not initialized from the model checkpoint at roberta-large and are newly initialized: ['roberta.pooler.dense.bias', 'roberta.pooler.dense.weight']\n",
      "You should probably TRAIN this model on a down-stream task to be able to use it for predictions and inference.\n"
     ]
    },
    {
     "name": "stdout",
     "output_type": "stream",
     "text": [
      "T5 BertScore F1: 0.80\n",
      "11563\n",
      "3\n",
      "eurojust, europol and the eppo shall use ecris-tcn to identify member states holding criminal record information on third-country nationals. each member state shall ensure that the data recorded in ecris-tcn are processed lawfully.\n"
     ]
    },
    {
     "name": "stderr",
     "output_type": "stream",
     "text": [
      "Some weights of RobertaModel were not initialized from the model checkpoint at roberta-large and are newly initialized: ['roberta.pooler.dense.bias', 'roberta.pooler.dense.weight']\n",
      "You should probably TRAIN this model on a down-stream task to be able to use it for predictions and inference.\n"
     ]
    },
    {
     "name": "stdout",
     "output_type": "stream",
     "text": [
      "T5 BertScore F1: 0.82\n",
      "31622\n",
      "8\n",
      "eu-lisa shall include a shared biometric matching service and a common identity repository. each member state shall keep log of all data processing operation in the shared bm. the log shall be protected by appropriate measure against unauthorised access and erased one year after their creation.\n"
     ]
    },
    {
     "name": "stderr",
     "output_type": "stream",
     "text": [
      "Some weights of RobertaModel were not initialized from the model checkpoint at roberta-large and are newly initialized: ['roberta.pooler.dense.bias', 'roberta.pooler.dense.weight']\n",
      "You should probably TRAIN this model on a down-stream task to be able to use it for predictions and inference.\n"
     ]
    },
    {
     "name": "stdout",
     "output_type": "stream",
     "text": [
      "T5 BertScore F1: 0.79\n",
      "27198\n",
      "7\n",
      "directive aims to promote energy from renewable source in the eu. it also sets a binding union target for the overall share of energy from renewable source in the union's gross final consumption of energy in 2030. member state shall ensure that support for electricity from renewable source is granted in an open, transparent and competitive manner.\n"
     ]
    },
    {
     "name": "stderr",
     "output_type": "stream",
     "text": [
      "Some weights of RobertaModel were not initialized from the model checkpoint at roberta-large and are newly initialized: ['roberta.pooler.dense.bias', 'roberta.pooler.dense.weight']\n",
      "You should probably TRAIN this model on a down-stream task to be able to use it for predictions and inference.\n"
     ]
    },
    {
     "name": "stdout",
     "output_type": "stream",
     "text": [
      "T5 BertScore F1: 0.83\n",
      "51813\n",
      "13\n",
      "national regulatory authority shall be responsible for implementing this directive. they shall ensure that they have adequate financial and human resource. national regulatory authority shall ensure that the information gathered is proportionate to the performance of the task. member state may choose not to restrict or withdraw right to use radio spectrum or for numbering resource before expiry of the general authorisation.\n"
     ]
    },
    {
     "name": "stderr",
     "output_type": "stream",
     "text": [
      "Some weights of RobertaModel were not initialized from the model checkpoint at roberta-large and are newly initialized: ['roberta.pooler.dense.bias', 'roberta.pooler.dense.weight']\n",
      "You should probably TRAIN this model on a down-stream task to be able to use it for predictions and inference.\n"
     ]
    },
    {
     "name": "stdout",
     "output_type": "stream",
     "text": [
      "T5 BertScore F1: 0.79\n",
      "15661\n",
      "4\n",
      "luxembourg, slovenia and sweden have adopted this regulation. it aims to safeguard the security of gas supply in the union. member states may decide to prioritize gas supply to a protected customer in the event of a crisis.\n"
     ]
    },
    {
     "name": "stderr",
     "output_type": "stream",
     "text": [
      "Some weights of RobertaModel were not initialized from the model checkpoint at roberta-large and are newly initialized: ['roberta.pooler.dense.bias', 'roberta.pooler.dense.weight']\n",
      "You should probably TRAIN this model on a down-stream task to be able to use it for predictions and inference.\n"
     ]
    },
    {
     "name": "stdout",
     "output_type": "stream",
     "text": [
      "T5 BertScore F1: 0.82\n",
      "8895\n",
      "3\n",
      "commission shall adopt a delegated act pursuant to article 16. it shall supplement this regulation by introducing a to g rescaled label. this regulation shall be binding in it entirety and directly applicable in all member states.\n"
     ]
    },
    {
     "name": "stderr",
     "output_type": "stream",
     "text": [
      "Some weights of RobertaModel were not initialized from the model checkpoint at roberta-large and are newly initialized: ['roberta.pooler.dense.bias', 'roberta.pooler.dense.weight']\n",
      "You should probably TRAIN this model on a down-stream task to be able to use it for predictions and inference.\n"
     ]
    },
    {
     "name": "stdout",
     "output_type": "stream",
     "text": [
      "T5 BertScore F1: 0.80\n",
      "34094\n",
      "9\n",
      "a data subject has the right to access, rectify, delete or limit the use of personal data. the data subject has the right to object to the processing of personal data. a data controller must ensure that personal data are processed in accordance with this regulation.\n"
     ]
    },
    {
     "name": "stderr",
     "output_type": "stream",
     "text": [
      "Some weights of RobertaModel were not initialized from the model checkpoint at roberta-large and are newly initialized: ['roberta.pooler.dense.bias', 'roberta.pooler.dense.weight']\n",
      "You should probably TRAIN this model on a down-stream task to be able to use it for predictions and inference.\n"
     ]
    },
    {
     "name": "stdout",
     "output_type": "stream",
     "text": [
      "T5 BertScore F1: 0.81\n",
      "17067\n",
      "5\n",
      "investigation period shall cover a period of no le than six month. investigation shall not hinder the procedure of customs clearance. anti-dumping measure shall remain in force a long a. period.\n"
     ]
    },
    {
     "name": "stderr",
     "output_type": "stream",
     "text": [
      "Some weights of RobertaModel were not initialized from the model checkpoint at roberta-large and are newly initialized: ['roberta.pooler.dense.bias', 'roberta.pooler.dense.weight']\n",
      "You should probably TRAIN this model on a down-stream task to be able to use it for predictions and inference.\n"
     ]
    },
    {
     "name": "stdout",
     "output_type": "stream",
     "text": [
      "T5 BertScore F1: 0.79\n",
      "15049\n",
      "4\n",
      "investigation shall cover both subsidisation and injury to the union industry. investigation shall not be initiated where there is insufficient evidence of subsidisation and injury. eu rules on countervailing duty shall be published in the official journal of the european union.\n"
     ]
    },
    {
     "name": "stderr",
     "output_type": "stream",
     "text": [
      "Some weights of RobertaModel were not initialized from the model checkpoint at roberta-large and are newly initialized: ['roberta.pooler.dense.bias', 'roberta.pooler.dense.weight']\n",
      "You should probably TRAIN this model on a down-stream task to be able to use it for predictions and inference.\n"
     ]
    },
    {
     "name": "stdout",
     "output_type": "stream",
     "text": [
      "T5 BertScore F1: 0.82\n",
      "18771\n",
      "5\n",
      "eu guarantee shall be granted an irrevocable unconditional and on demand guarantee to the implementing partner. unused amount of provisioning attributable to amount allocated by member state shall be paid back to member state. eib group shall provide an aggregate financial contribution amounting to eur 4 903 558 139.\n"
     ]
    },
    {
     "name": "stderr",
     "output_type": "stream",
     "text": [
      "Some weights of RobertaModel were not initialized from the model checkpoint at roberta-large and are newly initialized: ['roberta.pooler.dense.bias', 'roberta.pooler.dense.weight']\n",
      "You should probably TRAIN this model on a down-stream task to be able to use it for predictions and inference.\n"
     ]
    },
    {
     "name": "stdout",
     "output_type": "stream",
     "text": [
      "T5 BertScore F1: 0.78\n",
      "12982\n",
      "4\n",
      "until 31 december 2022, the commission shall make available for allocation 70 % of the amount referred to in article 6. a member state may also request technical support under the technical support instrument.\n"
     ]
    },
    {
     "name": "stderr",
     "output_type": "stream",
     "text": [
      "Some weights of RobertaModel were not initialized from the model checkpoint at roberta-large and are newly initialized: ['roberta.pooler.dense.bias', 'roberta.pooler.dense.weight']\n",
      "You should probably TRAIN this model on a down-stream task to be able to use it for predictions and inference.\n"
     ]
    },
    {
     "name": "stdout",
     "output_type": "stream",
     "text": [
      "T5 BertScore F1: 0.81\n",
      "11290\n",
      "3\n",
      "eu regulation aims to provide for effective protection of passenger. member state may exempt service operated strictly for historical or touristic use from application of this regulation. member state may require railway undertaking to offer alternative service.\n"
     ]
    },
    {
     "name": "stderr",
     "output_type": "stream",
     "text": [
      "Some weights of RobertaModel were not initialized from the model checkpoint at roberta-large and are newly initialized: ['roberta.pooler.dense.bias', 'roberta.pooler.dense.weight']\n",
      "You should probably TRAIN this model on a down-stream task to be able to use it for predictions and inference.\n"
     ]
    },
    {
     "name": "stdout",
     "output_type": "stream",
     "text": [
      "T5 BertScore F1: 0.81\n",
      "22899\n",
      "6\n",
      "efsd+ and external action guarantee shall be financed from the eu budget. unused commitment and payment appropriation shall be carried-over. by 31 december 2024, the commission shall submit a mid-term evaluation of the instrument.\n"
     ]
    },
    {
     "name": "stderr",
     "output_type": "stream",
     "text": [
      "Some weights of RobertaModel were not initialized from the model checkpoint at roberta-large and are newly initialized: ['roberta.pooler.dense.bias', 'roberta.pooler.dense.weight']\n",
      "You should probably TRAIN this model on a down-stream task to be able to use it for predictions and inference.\n"
     ]
    },
    {
     "name": "stdout",
     "output_type": "stream",
     "text": [
      "T5 BertScore F1: 0.79\n",
      "53089\n",
      "13\n",
      "the regulation establishes a european border and coast guard agency. it aims to ensure european integrated border management at the external border. it also aims to increase the efficiency of the union return policy.\n"
     ]
    },
    {
     "name": "stderr",
     "output_type": "stream",
     "text": [
      "Some weights of RobertaModel were not initialized from the model checkpoint at roberta-large and are newly initialized: ['roberta.pooler.dense.bias', 'roberta.pooler.dense.weight']\n",
      "You should probably TRAIN this model on a down-stream task to be able to use it for predictions and inference.\n"
     ]
    },
    {
     "name": "stdout",
     "output_type": "stream",
     "text": [
      "T5 BertScore F1: 0.85\n",
      "19265\n",
      "5\n",
      "enisa is the european union agency for cybersecurity. it is responsible for ensuring proper functioning of the internal market while aiming to achieve a high level of cybersecurity. a majority of two-thirds of the member state shall be required for the decision to be adopted.\n"
     ]
    },
    {
     "name": "stderr",
     "output_type": "stream",
     "text": [
      "Some weights of RobertaModel were not initialized from the model checkpoint at roberta-large and are newly initialized: ['roberta.pooler.dense.bias', 'roberta.pooler.dense.weight']\n",
      "You should probably TRAIN this model on a down-stream task to be able to use it for predictions and inference.\n"
     ]
    },
    {
     "name": "stdout",
     "output_type": "stream",
     "text": [
      "T5 BertScore F1: 0.80\n",
      "22970\n",
      "6\n",
      "eu agency for law enforcement cooperation ( europol) is established with a view to supporting cooperation among law enforcement authority in the union. each member state shall establish or designate a national unit which shall be the liaison body between europol and the competent authority of the member state concerned. eu rules on data protection apply to europol and to eurojust and olaf.\n"
     ]
    },
    {
     "name": "stderr",
     "output_type": "stream",
     "text": [
      "Some weights of RobertaModel were not initialized from the model checkpoint at roberta-large and are newly initialized: ['roberta.pooler.dense.bias', 'roberta.pooler.dense.weight']\n",
      "You should probably TRAIN this model on a down-stream task to be able to use it for predictions and inference.\n"
     ]
    },
    {
     "name": "stdout",
     "output_type": "stream",
     "text": [
      "T5 BertScore F1: 0.81\n",
      "46867\n",
      "12\n",
      "resolution college shall be composed of the competent authority of the ccp and the resolution authority of the clearing member. it shall include a framework of indicator based on the risk profile of the ccp. esma is empowered to issue guideline to promote the convergence of supervisory and resolution practice.\n"
     ]
    },
    {
     "name": "stderr",
     "output_type": "stream",
     "text": [
      "Some weights of RobertaModel were not initialized from the model checkpoint at roberta-large and are newly initialized: ['roberta.pooler.dense.bias', 'roberta.pooler.dense.weight']\n",
      "You should probably TRAIN this model on a down-stream task to be able to use it for predictions and inference.\n"
     ]
    },
    {
     "name": "stdout",
     "output_type": "stream",
     "text": [
      "T5 BertScore F1: 0.81\n",
      "12752\n",
      "4\n",
      "eu blue card holders are entitled to the same rights as nationals. they are entitled to the same rights as those granted to union citizens. the right to re-entry into the eu is subject to certain conditions. these conditions include the right to health and safety at work.\n"
     ]
    },
    {
     "name": "stderr",
     "output_type": "stream",
     "text": [
      "Some weights of RobertaModel were not initialized from the model checkpoint at roberta-large and are newly initialized: ['roberta.pooler.dense.bias', 'roberta.pooler.dense.weight']\n",
      "You should probably TRAIN this model on a down-stream task to be able to use it for predictions and inference.\n"
     ]
    },
    {
     "name": "stdout",
     "output_type": "stream",
     "text": [
      "T5 BertScore F1: 0.81\n",
      "11214\n",
      "3\n",
      "a member state may use up to 15 % of the amount allocated to it programme under article 13 ( 1 ) of this regulation to finance operating support. the commission is empowered to adopt delegated act in accordance with article 37 to amend the list of eligible expenditure. the fund shall provide financial assistance to address urgent and specific need in the event of an emergency situation.\n"
     ]
    },
    {
     "name": "stderr",
     "output_type": "stream",
     "text": [
      "Some weights of RobertaModel were not initialized from the model checkpoint at roberta-large and are newly initialized: ['roberta.pooler.dense.bias', 'roberta.pooler.dense.weight']\n",
      "You should probably TRAIN this model on a down-stream task to be able to use it for predictions and inference.\n"
     ]
    },
    {
     "name": "stdout",
     "output_type": "stream",
     "text": [
      "T5 BertScore F1: 0.80\n",
      "21660\n",
      "6\n",
      "replaces and succeeds eurojust established by decision 2002/187/jha. each member state shall appoint one or more national correspondent for eurojust. national correspondent shall be responsible for the functioning of their eurojust national coordination system.\n"
     ]
    },
    {
     "name": "stderr",
     "output_type": "stream",
     "text": [
      "Some weights of RobertaModel were not initialized from the model checkpoint at roberta-large and are newly initialized: ['roberta.pooler.dense.bias', 'roberta.pooler.dense.weight']\n",
      "You should probably TRAIN this model on a down-stream task to be able to use it for predictions and inference.\n"
     ]
    },
    {
     "name": "stdout",
     "output_type": "stream",
     "text": [
      "T5 BertScore F1: 0.81\n",
      "12667\n",
      "4\n",
      "bluefin tuna fishing is permitted in the eastern atlantic and the mediterranean. each member state shall make provision for by-catch of bluefin tuna. maximum input of wild-caught bluefin tuna shall be 80 %.\n"
     ]
    },
    {
     "name": "stderr",
     "output_type": "stream",
     "text": [
      "Some weights of RobertaModel were not initialized from the model checkpoint at roberta-large and are newly initialized: ['roberta.pooler.dense.bias', 'roberta.pooler.dense.weight']\n",
      "You should probably TRAIN this model on a down-stream task to be able to use it for predictions and inference.\n"
     ]
    },
    {
     "name": "stdout",
     "output_type": "stream",
     "text": [
      "T5 BertScore F1: 0.82\n",
      "8881\n",
      "3\n",
      "a vessel is to be considered a being injuriously priced if the export price is le than a comparable price for a like vessel. an injurious pricing charge shall be imposed on the shipbuilder. investigation shall cover both injurious pricing and injury.\n"
     ]
    },
    {
     "name": "stderr",
     "output_type": "stream",
     "text": [
      "Some weights of RobertaModel were not initialized from the model checkpoint at roberta-large and are newly initialized: ['roberta.pooler.dense.bias', 'roberta.pooler.dense.weight']\n",
      "You should probably TRAIN this model on a down-stream task to be able to use it for predictions and inference.\n"
     ]
    },
    {
     "name": "stdout",
     "output_type": "stream",
     "text": [
      "T5 BertScore F1: 0.81\n",
      "10669\n",
      "3\n",
      "the regulation shall enter into force on the twentieth day following that of its publication in the official journal of the european union. notified body shall restrict, suspend or withdraw any certificate or approval decision, a appropriate.\n"
     ]
    },
    {
     "name": "stderr",
     "output_type": "stream",
     "text": [
      "Some weights of RobertaModel were not initialized from the model checkpoint at roberta-large and are newly initialized: ['roberta.pooler.dense.bias', 'roberta.pooler.dense.weight']\n",
      "You should probably TRAIN this model on a down-stream task to be able to use it for predictions and inference.\n"
     ]
    },
    {
     "name": "stdout",
     "output_type": "stream",
     "text": [
      "T5 BertScore F1: 0.79\n",
      "10400\n",
      "3\n",
      "manufacturer shall ensure that the product is accompanied by instruction and safety information in a language which can be easily understood by end-users. eu declaration of conformity shall be accompanied by the required document.\n"
     ]
    },
    {
     "name": "stderr",
     "output_type": "stream",
     "text": [
      "Some weights of RobertaModel were not initialized from the model checkpoint at roberta-large and are newly initialized: ['roberta.pooler.dense.bias', 'roberta.pooler.dense.weight']\n",
      "You should probably TRAIN this model on a down-stream task to be able to use it for predictions and inference.\n"
     ]
    },
    {
     "name": "stdout",
     "output_type": "stream",
     "text": [
      "T5 BertScore F1: 0.80\n",
      "53521\n",
      "14\n",
      "a bti or boi decision shall cease to be valid before the end of the period referred to in article 33 ( 3 ) and article 38 ( 4 ) of the common custom tariff. a custom debt is a debt owed to the customs union by a third party. authorisation to place good under a custom procedure must be granted only if the condition laid down in article 153 doe not apply.\n"
     ]
    },
    {
     "name": "stderr",
     "output_type": "stream",
     "text": [
      "Some weights of RobertaModel were not initialized from the model checkpoint at roberta-large and are newly initialized: ['roberta.pooler.dense.bias', 'roberta.pooler.dense.weight']\n",
      "You should probably TRAIN this model on a down-stream task to be able to use it for predictions and inference.\n"
     ]
    },
    {
     "name": "stdout",
     "output_type": "stream",
     "text": [
      "T5 BertScore F1: 0.79\n",
      "11143\n",
      "3\n",
      "a good suspected of infringing an intellectual property right shall be subject to customs supervision or control in the territory of the union. the application shall be submitted using the form referred to in article 6. the competent custom department shall notify the declarant or the holder of the good of the suspension of release or detention.\n"
     ]
    },
    {
     "name": "stderr",
     "output_type": "stream",
     "text": [
      "Some weights of RobertaModel were not initialized from the model checkpoint at roberta-large and are newly initialized: ['roberta.pooler.dense.bias', 'roberta.pooler.dense.weight']\n",
      "You should probably TRAIN this model on a down-stream task to be able to use it for predictions and inference.\n"
     ]
    },
    {
     "name": "stdout",
     "output_type": "stream",
     "text": [
      "T5 BertScore F1: 0.82\n",
      "10848\n",
      "3\n",
      "esf+ support for addressing material deprivation shall be used to support the distribution of food and basic material assistance. food and/or basic material assistance shall be distributed free of charge to the most deprived person. the maximum co- easi strand aims to address material deprivation in the most deprived areas of the european union.\n"
     ]
    },
    {
     "name": "stderr",
     "output_type": "stream",
     "text": [
      "Some weights of RobertaModel were not initialized from the model checkpoint at roberta-large and are newly initialized: ['roberta.pooler.dense.bias', 'roberta.pooler.dense.weight']\n",
      "You should probably TRAIN this model on a down-stream task to be able to use it for predictions and inference.\n"
     ]
    },
    {
     "name": "stdout",
     "output_type": "stream",
     "text": [
      "T5 BertScore F1: 0.81\n",
      "17273\n",
      "5\n",
      "application shall be lodged no more than three month before the intended start of the intended visit. a visa with limited territorial validity may be issued at the border. eu rules on visas and passports shall be harmonised in all member states.\n"
     ]
    },
    {
     "name": "stderr",
     "output_type": "stream",
     "text": [
      "Some weights of RobertaModel were not initialized from the model checkpoint at roberta-large and are newly initialized: ['roberta.pooler.dense.bias', 'roberta.pooler.dense.weight']\n",
      "You should probably TRAIN this model on a down-stream task to be able to use it for predictions and inference.\n"
     ]
    },
    {
     "name": "stdout",
     "output_type": "stream",
     "text": [
      "T5 BertScore F1: 0.82\n",
      "33756\n",
      "9\n",
      "member state shall ensure that all final customer are entitled to have their electricity supplied by the supplier of their choice. member state may apply public intervention in the price setting for the supply of electricity to energy poor or vulnerable household. member state shall ensure that smart metering system are interoperable with consumer energy management system.\n"
     ]
    },
    {
     "name": "stderr",
     "output_type": "stream",
     "text": [
      "Some weights of RobertaModel were not initialized from the model checkpoint at roberta-large and are newly initialized: ['roberta.pooler.dense.bias', 'roberta.pooler.dense.weight']\n",
      "You should probably TRAIN this model on a down-stream task to be able to use it for predictions and inference.\n"
     ]
    },
    {
     "name": "stdout",
     "output_type": "stream",
     "text": [
      "T5 BertScore F1: 0.82\n",
      "12612\n",
      "4\n",
      "joint undertaking shall acquire high-end supercomputers and own them. remaining total cost of ownership of the high-end supercomputer shall be covered by the hosting entity. access time shall be proportional to the financial contribution of the union.\n"
     ]
    },
    {
     "name": "stderr",
     "output_type": "stream",
     "text": [
      "Some weights of RobertaModel were not initialized from the model checkpoint at roberta-large and are newly initialized: ['roberta.pooler.dense.bias', 'roberta.pooler.dense.weight']\n",
      "You should probably TRAIN this model on a down-stream task to be able to use it for predictions and inference.\n"
     ]
    },
    {
     "name": "stdout",
     "output_type": "stream",
     "text": [
      "T5 BertScore F1: 0.78\n",
      "10581\n",
      "3\n",
      "quota for european seabass shall be determined by member state concerned. quota for whiting in the irish sea shall be limited to 1,4 tonne per year. number of union fishing vessel fishing for bluefin tuna shall be limited to those part of the sprfmo convention area.\n"
     ]
    },
    {
     "name": "stderr",
     "output_type": "stream",
     "text": [
      "Some weights of RobertaModel were not initialized from the model checkpoint at roberta-large and are newly initialized: ['roberta.pooler.dense.bias', 'roberta.pooler.dense.weight']\n",
      "You should probably TRAIN this model on a down-stream task to be able to use it for predictions and inference.\n"
     ]
    },
    {
     "name": "stdout",
     "output_type": "stream",
     "text": [
      "T5 BertScore F1: 0.81\n",
      "13972\n",
      "4\n",
      "the european maritime, fishery and aquaculture fund is set up to support small-scale coastal fishing in the eu. emfaf may support the replacement or modernisation of a main or ancillary engine of a fishing vessel up to 24 metre in overall length. the maximum aid intensity rate per specific objective shall be 70 % of the total eligible expenditure.\n"
     ]
    },
    {
     "name": "stderr",
     "output_type": "stream",
     "text": [
      "Some weights of RobertaModel were not initialized from the model checkpoint at roberta-large and are newly initialized: ['roberta.pooler.dense.bias', 'roberta.pooler.dense.weight']\n",
      "You should probably TRAIN this model on a down-stream task to be able to use it for predictions and inference.\n"
     ]
    },
    {
     "name": "stdout",
     "output_type": "stream",
     "text": [
      "T5 BertScore F1: 0.81\n",
      "24311\n",
      "6\n",
      "a member state may apply for an authorisation to place a plant protection product on the market. the application shall be accompanied by a list of intended us in each member state and the member state where the product is intended to be used. a member state may grant a grace period for disposal, storage, placing on the market and use of existing stock.\n"
     ]
    },
    {
     "name": "stderr",
     "output_type": "stream",
     "text": [
      "Some weights of RobertaModel were not initialized from the model checkpoint at roberta-large and are newly initialized: ['roberta.pooler.dense.bias', 'roberta.pooler.dense.weight']\n",
      "You should probably TRAIN this model on a down-stream task to be able to use it for predictions and inference.\n"
     ]
    },
    {
     "name": "stdout",
     "output_type": "stream",
     "text": [
      "T5 BertScore F1: 0.81\n",
      "13961\n",
      "4\n",
      "a creditor may apply for a preservation order against a debtor in a member state. the order shall be issued in the amount justified by the evidence provided by the creditor. the order shall include any interest and cost recoverable.\n"
     ]
    },
    {
     "name": "stderr",
     "output_type": "stream",
     "text": [
      "Some weights of RobertaModel were not initialized from the model checkpoint at roberta-large and are newly initialized: ['roberta.pooler.dense.bias', 'roberta.pooler.dense.weight']\n",
      "You should probably TRAIN this model on a down-stream task to be able to use it for predictions and inference.\n"
     ]
    },
    {
     "name": "stdout",
     "output_type": "stream",
     "text": [
      "T5 BertScore F1: 0.81\n",
      "14350\n",
      "4\n",
      "the specific regulation lays down the general rule for the implementation of the regulation. the contribution from the union budget shall not exceed 75 % of the total eligible expenditure of a project. the commission shall carry out regular monitoring of this regulation and the specific regulation.\n"
     ]
    },
    {
     "name": "stderr",
     "output_type": "stream",
     "text": [
      "Some weights of RobertaModel were not initialized from the model checkpoint at roberta-large and are newly initialized: ['roberta.pooler.dense.bias', 'roberta.pooler.dense.weight']\n",
      "You should probably TRAIN this model on a down-stream task to be able to use it for predictions and inference.\n"
     ]
    },
    {
     "name": "stdout",
     "output_type": "stream",
     "text": [
      "T5 BertScore F1: 0.81\n",
      "9622\n",
      "3\n",
      "eu asylum, migration and integration fund was established in january 2014. it aims to provide financial support for eligible action in the member state. up to eur 2,5 million of the fund shall be used for technical assistance.\n"
     ]
    },
    {
     "name": "stderr",
     "output_type": "stream",
     "text": [
      "Some weights of RobertaModel were not initialized from the model checkpoint at roberta-large and are newly initialized: ['roberta.pooler.dense.bias', 'roberta.pooler.dense.weight']\n",
      "You should probably TRAIN this model on a down-stream task to be able to use it for predictions and inference.\n"
     ]
    },
    {
     "name": "stdout",
     "output_type": "stream",
     "text": [
      "T5 BertScore F1: 0.82\n",
      "9545\n",
      "3\n",
      "commission shall investigate whether there is sufficient evidence to justify temporary withdrawal of tariff preference. it may do so in case of fraud, irregularity or systematic failure to comply with the rule of origin. eba beneficiary country no longer fulfils the condition referred to in paragraph 1 of this article.\n"
     ]
    },
    {
     "name": "stderr",
     "output_type": "stream",
     "text": [
      "Some weights of RobertaModel were not initialized from the model checkpoint at roberta-large and are newly initialized: ['roberta.pooler.dense.bias', 'roberta.pooler.dense.weight']\n",
      "You should probably TRAIN this model on a down-stream task to be able to use it for predictions and inference.\n"
     ]
    },
    {
     "name": "stdout",
     "output_type": "stream",
     "text": [
      "T5 BertScore F1: 0.79\n",
      "14269\n",
      "4\n",
      "national supervisory authority and european data protection supervisor shall cooperate actively in the framework of their respective competence. each member state shall ensure that the processing of personal data by europol is carried out in accordance with this regulation. national access point and the cost for connection to the central system shall be borne by the general budget of the european union.\n"
     ]
    },
    {
     "name": "stderr",
     "output_type": "stream",
     "text": [
      "Some weights of RobertaModel were not initialized from the model checkpoint at roberta-large and are newly initialized: ['roberta.pooler.dense.bias', 'roberta.pooler.dense.weight']\n",
      "You should probably TRAIN this model on a down-stream task to be able to use it for predictions and inference.\n"
     ]
    },
    {
     "name": "stdout",
     "output_type": "stream",
     "text": [
      "T5 BertScore F1: 0.79\n",
      "13045\n",
      "4\n",
      "designation of origin and geographical indication may be used by any operator marketing a product conforming to the corresponding specification. optional quality term that describe technical product quality with the purpose of putting into effect compulsory marketing standard shall be excluded. a member state may submit an application for registration of a traditional speciality guaranteed.\n"
     ]
    },
    {
     "name": "stderr",
     "output_type": "stream",
     "text": [
      "Some weights of RobertaModel were not initialized from the model checkpoint at roberta-large and are newly initialized: ['roberta.pooler.dense.bias', 'roberta.pooler.dense.weight']\n",
      "You should probably TRAIN this model on a down-stream task to be able to use it for predictions and inference.\n"
     ]
    },
    {
     "name": "stdout",
     "output_type": "stream",
     "text": [
      "T5 BertScore F1: 0.80\n",
      "21692\n",
      "6\n",
      "european supervisory authority shall be established in each member state. it shall ensure consistency in the application of union law. authority shall submit draft implementing technical standard to the commission.\n"
     ]
    },
    {
     "name": "stderr",
     "output_type": "stream",
     "text": [
      "Some weights of RobertaModel were not initialized from the model checkpoint at roberta-large and are newly initialized: ['roberta.pooler.dense.bias', 'roberta.pooler.dense.weight']\n",
      "You should probably TRAIN this model on a down-stream task to be able to use it for predictions and inference.\n"
     ]
    },
    {
     "name": "stdout",
     "output_type": "stream",
     "text": [
      "T5 BertScore F1: 0.82\n",
      "10528\n",
      "3\n",
      "maximum amount of controlled substance that may be used for that purpose shall not exceed 130 % of the annual average of the calculated level of production. methyl bromide may only be placed on the market and used for critical us. member states shall take all precautionary measure to prevent leakage and emission of controlled substance.\n"
     ]
    },
    {
     "name": "stderr",
     "output_type": "stream",
     "text": [
      "Some weights of RobertaModel were not initialized from the model checkpoint at roberta-large and are newly initialized: ['roberta.pooler.dense.bias', 'roberta.pooler.dense.weight']\n",
      "You should probably TRAIN this model on a down-stream task to be able to use it for predictions and inference.\n"
     ]
    },
    {
     "name": "stdout",
     "output_type": "stream",
     "text": [
      "T5 BertScore F1: 0.79\n",
      "20438\n",
      "5\n",
      "emas scheme is an important instrument of sustainable consumption and production. it promotes continuous improvement in the environmental performance of an organisation. a registered organisation shall make its environmental statement and updated environmental statement accessible to the public.\n"
     ]
    },
    {
     "name": "stderr",
     "output_type": "stream",
     "text": [
      "Some weights of RobertaModel were not initialized from the model checkpoint at roberta-large and are newly initialized: ['roberta.pooler.dense.bias', 'roberta.pooler.dense.weight']\n",
      "You should probably TRAIN this model on a down-stream task to be able to use it for predictions and inference.\n"
     ]
    },
    {
     "name": "stdout",
     "output_type": "stream",
     "text": [
      "T5 BertScore F1: 0.81\n",
      "8399\n",
      "3\n",
      "jack mackerel and demersal specie are regulated under the sprfmo convention. a member state may authorise a third country fishing vessel to fish in the sprfmo convention area.\n"
     ]
    },
    {
     "name": "stderr",
     "output_type": "stream",
     "text": [
      "Some weights of RobertaModel were not initialized from the model checkpoint at roberta-large and are newly initialized: ['roberta.pooler.dense.bias', 'roberta.pooler.dense.weight']\n",
      "You should probably TRAIN this model on a down-stream task to be able to use it for predictions and inference.\n"
     ]
    },
    {
     "name": "stdout",
     "output_type": "stream",
     "text": [
      "T5 BertScore F1: 0.81\n",
      "22957\n",
      "6\n",
      "each member state shall prepare and submit a draft integrated national energy and climate plan by 31 december 2018. by 2030, the indicative trajectory shall reach a reference point of at least 43 % of the total increase in the share of energy from renewable source.\n"
     ]
    },
    {
     "name": "stderr",
     "output_type": "stream",
     "text": [
      "Some weights of RobertaModel were not initialized from the model checkpoint at roberta-large and are newly initialized: ['roberta.pooler.dense.bias', 'roberta.pooler.dense.weight']\n",
      "You should probably TRAIN this model on a down-stream task to be able to use it for predictions and inference.\n"
     ]
    },
    {
     "name": "stdout",
     "output_type": "stream",
     "text": [
      "T5 BertScore F1: 0.82\n",
      "33464\n",
      "9\n",
      "each state will provide the other with a set of standardised dna profile data. the data will be exchanged over a european wide logically closed network. each message is logged by the eucaris software application.\n"
     ]
    },
    {
     "name": "stderr",
     "output_type": "stream",
     "text": [
      "Some weights of RobertaModel were not initialized from the model checkpoint at roberta-large and are newly initialized: ['roberta.pooler.dense.bias', 'roberta.pooler.dense.weight']\n",
      "You should probably TRAIN this model on a down-stream task to be able to use it for predictions and inference.\n"
     ]
    },
    {
     "name": "stdout",
     "output_type": "stream",
     "text": [
      "T5 BertScore F1: 0.78\n",
      "50661\n",
      "13\n",
      "eu trade mark shall have a unitary character throughout the eu. it shall not be registered if it is devoid of distinctive character. eu trade mark may be surrendered in respect of some or all of the good or service for which it is registered.\n"
     ]
    },
    {
     "name": "stderr",
     "output_type": "stream",
     "text": [
      "Some weights of RobertaModel were not initialized from the model checkpoint at roberta-large and are newly initialized: ['roberta.pooler.dense.bias', 'roberta.pooler.dense.weight']\n",
      "You should probably TRAIN this model on a down-stream task to be able to use it for predictions and inference.\n"
     ]
    },
    {
     "name": "stdout",
     "output_type": "stream",
     "text": [
      "T5 BertScore F1: 0.81\n",
      "10243\n",
      "3\n",
      "competent authority concerned by widespread infringement or widespread infringement with a union dimension. may invite the trader responsible to propose commitment to cease that infringement. may also seek to obtain commitment from the trader to offer adequate remedy to consumer harmed by the infringement.\n"
     ]
    },
    {
     "name": "stderr",
     "output_type": "stream",
     "text": [
      "Some weights of RobertaModel were not initialized from the model checkpoint at roberta-large and are newly initialized: ['roberta.pooler.dense.bias', 'roberta.pooler.dense.weight']\n",
      "You should probably TRAIN this model on a down-stream task to be able to use it for predictions and inference.\n"
     ]
    },
    {
     "name": "stdout",
     "output_type": "stream",
     "text": [
      "T5 BertScore F1: 0.80\n",
      "48039\n",
      "12\n",
      "device for performance study shall be considered to be in conformity with this regulation. manufacturer shall establish, document, implement, maintain and continually improve a quality management system. device for performance study shall be considered to have been put into service.\n"
     ]
    },
    {
     "name": "stderr",
     "output_type": "stream",
     "text": [
      "Some weights of RobertaModel were not initialized from the model checkpoint at roberta-large and are newly initialized: ['roberta.pooler.dense.bias', 'roberta.pooler.dense.weight']\n",
      "You should probably TRAIN this model on a down-stream task to be able to use it for predictions and inference.\n"
     ]
    },
    {
     "name": "stdout",
     "output_type": "stream",
     "text": [
      "T5 BertScore F1: 0.80\n",
      "27202\n",
      "7\n",
      "an administrator shall not outsource function in the provision of a benchmark in such a way as to impair materially the administrator's control over the benchmark. esma shall develop draft regulatory technical standard. it shall specify the content of a benchmark statement and the case in which an update of such statement is required.\n"
     ]
    },
    {
     "name": "stderr",
     "output_type": "stream",
     "text": [
      "Some weights of RobertaModel were not initialized from the model checkpoint at roberta-large and are newly initialized: ['roberta.pooler.dense.bias', 'roberta.pooler.dense.weight']\n",
      "You should probably TRAIN this model on a down-stream task to be able to use it for predictions and inference.\n"
     ]
    },
    {
     "name": "stdout",
     "output_type": "stream",
     "text": [
      "T5 BertScore F1: 0.80\n",
      "11039\n",
      "3\n",
      "eu declaration of conformity shall be affixed visibly, legibly and indelibly. it shall not apply to appliances or fittings specifically designed for use in industrial process.\n"
     ]
    },
    {
     "name": "stderr",
     "output_type": "stream",
     "text": [
      "Some weights of RobertaModel were not initialized from the model checkpoint at roberta-large and are newly initialized: ['roberta.pooler.dense.bias', 'roberta.pooler.dense.weight']\n",
      "You should probably TRAIN this model on a down-stream task to be able to use it for predictions and inference.\n"
     ]
    },
    {
     "name": "stdout",
     "output_type": "stream",
     "text": [
      "T5 BertScore F1: 0.79\n",
      "13742\n",
      "4\n",
      "eu rules on food information aim to ensure a high level of consumer protection. mandatory nutrition declaration shall be required for certain food products. food labelled in accordance with article 30 to 35 of this regulation may be placed on the market before 13 december 2014.\n"
     ]
    },
    {
     "name": "stderr",
     "output_type": "stream",
     "text": [
      "Some weights of RobertaModel were not initialized from the model checkpoint at roberta-large and are newly initialized: ['roberta.pooler.dense.bias', 'roberta.pooler.dense.weight']\n",
      "You should probably TRAIN this model on a down-stream task to be able to use it for predictions and inference.\n"
     ]
    },
    {
     "name": "stdout",
     "output_type": "stream",
     "text": [
      "T5 BertScore F1: 0.80\n",
      "28131\n",
      "7\n",
      "the european maritime and fishery fund (emff) aims to promote environmentally sustainable, resource efficient, innovative and knowledge-based fishery and aquaculture. it is to be co-financed by member states in accordance with the principle of shared management between the union and member state. emff may support measures to reduce the impact of fishing on the environment. it may also support the design and implementation of conservation measures.\n"
     ]
    },
    {
     "name": "stderr",
     "output_type": "stream",
     "text": [
      "Some weights of RobertaModel were not initialized from the model checkpoint at roberta-large and are newly initialized: ['roberta.pooler.dense.bias', 'roberta.pooler.dense.weight']\n",
      "You should probably TRAIN this model on a down-stream task to be able to use it for predictions and inference.\n"
     ]
    },
    {
     "name": "stdout",
     "output_type": "stream",
     "text": [
      "T5 BertScore F1: 0.83\n",
      "9506\n",
      "3\n",
      "eiopa shall monitor the market for insurance-based investment product. it shall provide a key information document to enable retail investor to understand and compare the key feature and risk of a priip. it shall ensure that action taken is proportionate and dissuasive.\n"
     ]
    },
    {
     "name": "stderr",
     "output_type": "stream",
     "text": [
      "Some weights of RobertaModel were not initialized from the model checkpoint at roberta-large and are newly initialized: ['roberta.pooler.dense.bias', 'roberta.pooler.dense.weight']\n",
      "You should probably TRAIN this model on a down-stream task to be able to use it for predictions and inference.\n"
     ]
    },
    {
     "name": "stdout",
     "output_type": "stream",
     "text": [
      "T5 BertScore F1: 0.82\n",
      "45219\n",
      "12\n",
      "a single resolution mechanism (srm) is established by this regulation. it is supported by a single resolution fund. the use of the fund shall be contingent upon an agreement among the participating member state.\n"
     ]
    },
    {
     "name": "stderr",
     "output_type": "stream",
     "text": [
      "Some weights of RobertaModel were not initialized from the model checkpoint at roberta-large and are newly initialized: ['roberta.pooler.dense.bias', 'roberta.pooler.dense.weight']\n",
      "You should probably TRAIN this model on a down-stream task to be able to use it for predictions and inference.\n"
     ]
    },
    {
     "name": "stdout",
     "output_type": "stream",
     "text": [
      "T5 BertScore F1: 0.81\n",
      "17843\n",
      "5\n",
      "insolvency practitioner appointed by a court which ha jurisdiction to open main insolvency proceeding. debtor in possession may request that information referred to in paragraph 1 be published in another member state. information shall be made available free of charge via the european e-justice portal.\n"
     ]
    },
    {
     "name": "stderr",
     "output_type": "stream",
     "text": [
      "Some weights of RobertaModel were not initialized from the model checkpoint at roberta-large and are newly initialized: ['roberta.pooler.dense.bias', 'roberta.pooler.dense.weight']\n",
      "You should probably TRAIN this model on a down-stream task to be able to use it for predictions and inference.\n"
     ]
    },
    {
     "name": "stdout",
     "output_type": "stream",
     "text": [
      "T5 BertScore F1: 0.80\n",
      "24884\n",
      "7\n",
      "a member state may become responsible only if the insured person has made a claim for a pension under the legislation of that member state. criterion for determining whether a self-employed person pursues an activity in another member state shall be that of the actual nature of the activity.\n"
     ]
    },
    {
     "name": "stderr",
     "output_type": "stream",
     "text": [
      "Some weights of RobertaModel were not initialized from the model checkpoint at roberta-large and are newly initialized: ['roberta.pooler.dense.bias', 'roberta.pooler.dense.weight']\n",
      "You should probably TRAIN this model on a down-stream task to be able to use it for predictions and inference.\n"
     ]
    },
    {
     "name": "stdout",
     "output_type": "stream",
     "text": [
      "T5 BertScore F1: 0.80\n",
      "8593\n",
      "3\n",
      "operator shall ensure that service is offered on a non-discriminatory basis. tariff for network access shall be non-discriminatory and transparent. it shall not restrict market liquidity nor distort trade across border.\n"
     ]
    },
    {
     "name": "stderr",
     "output_type": "stream",
     "text": [
      "Some weights of RobertaModel were not initialized from the model checkpoint at roberta-large and are newly initialized: ['roberta.pooler.dense.bias', 'roberta.pooler.dense.weight']\n",
      "You should probably TRAIN this model on a down-stream task to be able to use it for predictions and inference.\n"
     ]
    },
    {
     "name": "stdout",
     "output_type": "stream",
     "text": [
      "T5 BertScore F1: 0.81\n",
      "16146\n",
      "4\n",
      "a statutory auditor or audit firm carrying out statutory audit of public-interest entity shall make an annual transparency report. the report shall be published on the website of the statutory auditor or the audit firm and remain available on that website for at least five year. the ceaob shall be composed of one member from each member state.\n"
     ]
    },
    {
     "name": "stderr",
     "output_type": "stream",
     "text": [
      "Some weights of RobertaModel were not initialized from the model checkpoint at roberta-large and are newly initialized: ['roberta.pooler.dense.bias', 'roberta.pooler.dense.weight']\n",
      "You should probably TRAIN this model on a down-stream task to be able to use it for predictions and inference.\n"
     ]
    },
    {
     "name": "stdout",
     "output_type": "stream",
     "text": [
      "T5 BertScore F1: 0.81\n",
      "15259\n",
      "4\n",
      "cfp shall aim to ensure that exploitation of living marine biological resource is environmentally sustainable. member state may adopt emergency measure to alleviate a serious threat to the conservation of marine biological resource. failure to comply with the condition set out in paragraph 1 may result in proportionate suspension or interruption of relevant union financial assistance.\n"
     ]
    },
    {
     "name": "stderr",
     "output_type": "stream",
     "text": [
      "Some weights of RobertaModel were not initialized from the model checkpoint at roberta-large and are newly initialized: ['roberta.pooler.dense.bias', 'roberta.pooler.dense.weight']\n",
      "You should probably TRAIN this model on a down-stream task to be able to use it for predictions and inference.\n"
     ]
    },
    {
     "name": "stdout",
     "output_type": "stream",
     "text": [
      "T5 BertScore F1: 0.80\n",
      "29336\n",
      "8\n",
      "esma is responsible for authorising and supervising csds in the eu. a csd established in the union may establish a link with a third-country csd. a csd may refuse to provide service to an issuer based on a comprehensive risk assessment.\n"
     ]
    },
    {
     "name": "stderr",
     "output_type": "stream",
     "text": [
      "Some weights of RobertaModel were not initialized from the model checkpoint at roberta-large and are newly initialized: ['roberta.pooler.dense.bias', 'roberta.pooler.dense.weight']\n",
      "You should probably TRAIN this model on a down-stream task to be able to use it for predictions and inference.\n"
     ]
    },
    {
     "name": "stdout",
     "output_type": "stream",
     "text": [
      "T5 BertScore F1: 0.82\n",
      "9965\n",
      "3\n",
      "erdf shall support a maximum of 74,05 % of the global budgetary commitment. it shall also support the investment priority set out in article 5 of the eni. erdf support to cooperation programme shall be limited to 6 % of the total amount allocated to the programme.\n"
     ]
    },
    {
     "name": "stderr",
     "output_type": "stream",
     "text": [
      "Some weights of RobertaModel were not initialized from the model checkpoint at roberta-large and are newly initialized: ['roberta.pooler.dense.bias', 'roberta.pooler.dense.weight']\n",
      "You should probably TRAIN this model on a down-stream task to be able to use it for predictions and inference.\n"
     ]
    },
    {
     "name": "stdout",
     "output_type": "stream",
     "text": [
      "T5 BertScore F1: 0.79\n",
      "12491\n",
      "4\n",
      "project promoter shall submit a concept for public participation to the competent authority within three month of the start of the permit granting process. a project of common interest falls under the category set out in annex ii.1 to iii.2. it is eligible for financial assistance in the form of grant for study and work. national regulatory authority may decide to allocate cost among a package of several project of common interest.\n"
     ]
    },
    {
     "name": "stderr",
     "output_type": "stream",
     "text": [
      "Some weights of RobertaModel were not initialized from the model checkpoint at roberta-large and are newly initialized: ['roberta.pooler.dense.bias', 'roberta.pooler.dense.weight']\n",
      "You should probably TRAIN this model on a down-stream task to be able to use it for predictions and inference.\n"
     ]
    },
    {
     "name": "stdout",
     "output_type": "stream",
     "text": [
      "T5 BertScore F1: 0.79\n",
      "31347\n",
      "8\n",
      "croatia may use the special national de-mining reserve to allocate payment entitlement to farmer on the basis of eligible hectare. romania may also use the complementary national direct payment. total amount of payment entitlement under the basic payment scheme shall not exceed the national ceiling set out in annex ii.\n"
     ]
    },
    {
     "name": "stderr",
     "output_type": "stream",
     "text": [
      "Some weights of RobertaModel were not initialized from the model checkpoint at roberta-large and are newly initialized: ['roberta.pooler.dense.bias', 'roberta.pooler.dense.weight']\n",
      "You should probably TRAIN this model on a down-stream task to be able to use it for predictions and inference.\n"
     ]
    },
    {
     "name": "stdout",
     "output_type": "stream",
     "text": [
      "T5 BertScore F1: 0.79\n",
      "27912\n",
      "7\n",
      "eafrd is a europe-wide programme of support for rural development. it aims to help farmers in croatia achieve their rural development objectives. each measure shall be programmed to address one or more union priority for rural development. support shall be limited to the maximum support rate laid down in annex ii.\n"
     ]
    },
    {
     "name": "stderr",
     "output_type": "stream",
     "text": [
      "Some weights of RobertaModel were not initialized from the model checkpoint at roberta-large and are newly initialized: ['roberta.pooler.dense.bias', 'roberta.pooler.dense.weight']\n",
      "You should probably TRAIN this model on a down-stream task to be able to use it for predictions and inference.\n"
     ]
    },
    {
     "name": "stdout",
     "output_type": "stream",
     "text": [
      "T5 BertScore F1: 0.80\n",
      "8436\n",
      "3\n",
      "market surveillance authority shall ensure that those product fulfil requirement providing a high level of protection of public interest. they shall do so by carrying out appropriate check on the characteristic of product on an adequate scale.\n"
     ]
    },
    {
     "name": "stderr",
     "output_type": "stream",
     "text": [
      "Some weights of RobertaModel were not initialized from the model checkpoint at roberta-large and are newly initialized: ['roberta.pooler.dense.bias', 'roberta.pooler.dense.weight']\n",
      "You should probably TRAIN this model on a down-stream task to be able to use it for predictions and inference.\n"
     ]
    },
    {
     "name": "stdout",
     "output_type": "stream",
     "text": [
      "T5 BertScore F1: 0.82\n",
      "8645\n",
      "3\n",
      "the agreement shall not apply where the requested person enjoys a privilege or immunity regarding jurisdiction or execution in the executing state. a request for consent to surrender must be made in accordance with the law of the executing state. a person who ha been surrendered pursuant to an arrest warrant shall not be extradited to a third state without the consent of the executing state.\n"
     ]
    },
    {
     "name": "stderr",
     "output_type": "stream",
     "text": [
      "Some weights of RobertaModel were not initialized from the model checkpoint at roberta-large and are newly initialized: ['roberta.pooler.dense.bias', 'roberta.pooler.dense.weight']\n",
      "You should probably TRAIN this model on a down-stream task to be able to use it for predictions and inference.\n"
     ]
    },
    {
     "name": "stdout",
     "output_type": "stream",
     "text": [
      "T5 BertScore F1: 0.79\n",
      "9774\n",
      "3\n",
      "neafc is a non-governmental organisation established by the european union. each inspection shall be documented by the completion of an inspection report. landing and transhipments from a non-contracting party vessel which ha been inspected pursuant to article 41 shall be prohibited in the port and water of all member state.\n"
     ]
    },
    {
     "name": "stderr",
     "output_type": "stream",
     "text": [
      "Some weights of RobertaModel were not initialized from the model checkpoint at roberta-large and are newly initialized: ['roberta.pooler.dense.bias', 'roberta.pooler.dense.weight']\n",
      "You should probably TRAIN this model on a down-stream task to be able to use it for predictions and inference.\n"
     ]
    },
    {
     "name": "stdout",
     "output_type": "stream",
     "text": [
      "T5 BertScore F1: 0.81\n",
      "8391\n",
      "3\n",
      "eu criterion shall be based on the best product available on the community market in term of environmental performance. it shall correspond indicatively to the best 10-20 % of the product available on the community market. eu criterion must be effective, proportionate and dissuasive.\n"
     ]
    },
    {
     "name": "stderr",
     "output_type": "stream",
     "text": [
      "Some weights of RobertaModel were not initialized from the model checkpoint at roberta-large and are newly initialized: ['roberta.pooler.dense.bias', 'roberta.pooler.dense.weight']\n",
      "You should probably TRAIN this model on a down-stream task to be able to use it for predictions and inference.\n"
     ]
    },
    {
     "name": "stdout",
     "output_type": "stream",
     "text": [
      "T5 BertScore F1: 0.80\n",
      "16042\n",
      "4\n",
      "judgment given in a state bound by this convention shall be enforced in another state bound by this convention. no charge, duty or fee calculated by reference to the value of the matter at issue shall be levied in the state in which enforcement is sought. the convention shall be open for signature by the european community. it shall enter into force on the first day of the third month following the deposit of the instrument of accession.\n"
     ]
    },
    {
     "name": "stderr",
     "output_type": "stream",
     "text": [
      "Some weights of RobertaModel were not initialized from the model checkpoint at roberta-large and are newly initialized: ['roberta.pooler.dense.bias', 'roberta.pooler.dense.weight']\n",
      "You should probably TRAIN this model on a down-stream task to be able to use it for predictions and inference.\n"
     ]
    },
    {
     "name": "stdout",
     "output_type": "stream",
     "text": [
      "T5 BertScore F1: 0.79\n",
      "0.8053786158561707\n"
     ]
    }
   ],
   "source": [
    "F1_t5_more_8192 = []\n",
    "\n",
    "for index, row in test_df[test_df['reference_tokens_preprocessed'] > MAX_ALLOWED_SEQUENCE].iterrows():\n",
    "    reference_text = row[\"reference\"]\n",
    "    reference_summary = row[\"summary\"]\n",
    "    print(row[\"reference_tokens_preprocessed\"])\n",
    "\n",
    "    result_summary = ReadingWithJumpingWindow(model_t5, tokenizer_t5, reference_text)\n",
    "    print(result_summary)\n",
    "    P, R, F1 = score([result_summary], [reference_summary], lang='en', verbose=False)\n",
    "    print(f\"T5 BertScore F1: {F1.item():.2f}\")\n",
    "    F1_t5_more_8192.append(F1.item())\n",
    "    torch.cuda.empty_cache()\n",
    "\n",
    "np.save('F1_t5_more_8192.npy', F1_t5_more_8192)\n",
    "\n",
    "sum = 0\n",
    "for _ in F1_t5_more_8192:\n",
    "    sum += _\n",
    "print(sum / len(F1_t5_more_8192))"
   ]
  }
 ],
 "metadata": {
  "kaggle": {
   "accelerator": "gpu",
   "dataSources": [
    {
     "datasetId": 5040437,
     "sourceId": 8456865,
     "sourceType": "datasetVersion"
    }
   ],
   "dockerImageVersionId": 30699,
   "isGpuEnabled": true,
   "isInternetEnabled": true,
   "language": "python",
   "sourceType": "notebook"
  },
  "kernelspec": {
   "display_name": "Python 3 (ipykernel)",
   "language": "python",
   "name": "python3"
  },
  "language_info": {
   "codemirror_mode": {
    "name": "ipython",
    "version": 3
   },
   "file_extension": ".py",
   "mimetype": "text/x-python",
   "name": "python",
   "nbconvert_exporter": "python",
   "pygments_lexer": "ipython3",
   "version": "3.12.1"
  }
 },
 "nbformat": 4,
 "nbformat_minor": 5
}
