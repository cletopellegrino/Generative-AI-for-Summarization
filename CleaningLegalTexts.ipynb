{
 "cells": [
  {
   "cell_type": "code",
   "execution_count": 1,
   "id": "36b36ca6-80d0-4c85-b5d9-bffe50007f30",
   "metadata": {},
   "outputs": [],
   "source": [
    "import pandas as pd\n",
    "\n",
    "import nltk\n",
    "from nltk.tokenize import word_tokenize\n",
    "from nltk.stem import WordNetLemmatizer\n",
    "import re\n",
    "\n",
    "import matplotlib.pyplot as plt"
   ]
  },
  {
   "cell_type": "code",
   "execution_count": 2,
   "id": "5e84b34f-bcdf-43ec-b6b6-2d37b6478d81",
   "metadata": {},
   "outputs": [
    {
     "data": {
      "text/plain": [
       "(1129, 187, 188)"
      ]
     },
     "execution_count": 2,
     "metadata": {},
     "output_type": "execute_result"
    }
   ],
   "source": [
    "train_df = pd.read_json(\"dataset/train.json\", encoding=\"utf-8\", lines=True)\n",
    "validation_df = pd.read_json(\"dataset/validation.json\", encoding=\"utf-8\", lines=True)\n",
    "test_df = pd.read_json(\"dataset/test.json\", encoding=\"utf-8\", lines=True)\n",
    "\n",
    "len(train_df), len(validation_df), len(test_df)"
   ]
  },
  {
   "cell_type": "code",
   "execution_count": 3,
   "id": "3edd96d4-3e7a-4e02-8898-a528bef4dc3f",
   "metadata": {},
   "outputs": [],
   "source": [
    "def preprocess_text(text):\n",
    "    text = text.lower()\n",
    "    \n",
    "    tokens = word_tokenize(text, language='english')\n",
    "    \n",
    "    lemmatizer = WordNetLemmatizer()\n",
    "    lemmatized_tokens = [lemmatizer.lemmatize(word) for word in tokens]\n",
    "    \n",
    "    preprocessed_text = ' '.join(lemmatized_tokens)\n",
    "    \n",
    "    return preprocessed_text"
   ]
  },
  {
   "cell_type": "markdown",
   "id": "9c47f9ac-9bca-4f55-b5fc-4d8490592bfd",
   "metadata": {},
   "source": [
    "The following procedure is built to:\n",
    "- Find the frequent patterns that frame the main content of the text (preamble and sign/annex);\n",
    "- Take the resulting text and apply the preprocessing phase;\n",
    "\n",
    "For the texts that does not follow the previous rules, we just mark them as None."
   ]
  },
  {
   "cell_type": "code",
   "execution_count": 4,
   "id": "b3053b58-c265-436d-8fd7-5ded7f00f5cb",
   "metadata": {},
   "outputs": [],
   "source": [
    "patterns = [\n",
    "    r\"HAS ADOPTED THIS REGULATION:\",\n",
    "    r\"HAVE ADOPTED THIS REGULATION:\",\n",
    "    r\"HAS ADOPTED THESE RULES OF PROCEDURE:\",\n",
    "    r\"HEREBY ADOPT THIS RESOLUTION:\",\n",
    "    r\"HAVE ADOPTED THIS DIRECTIVE:\",\n",
    "    r\"HAD ADOPTED THIS DIRECTIVE:\",\n",
    "    r\"The Parties have agreed as follows:\",\n",
    "    r\"HAVE ADOPTED THIS DECISION:\",\n",
    "    r\"HAS ADOPTED THIS DECISION:\",\n",
    "    r\"HAVE AGREED ON THE FOLLOWING PROVISIONS:\",\n",
    "    r\"RECOMMENDS THAT MEMBER STATES:\",\n",
    "    r\"RECOMMEND THAT MEMBER STATES:\",\n",
    "    r\"HAS ADOPTED THIS JOINT ACTION:\",\n",
    "    r\"HAS ADOPTED THIS DIRECTIVE:\",\n",
    "    r\"HAS ADOPTED THIS DIRECTIVE\",\n",
    "    r\"HAVE ADOPTED THIS DIRECTIVE;\",\n",
    "    r\"HAS ADOPTED THIS COMMON POSITION:\",\n",
    "    r\"HAS ADOPTED THESE RULES:\",\n",
    "    r\"HAS ADOPTED THIS RECOMMENDATION:\",\n",
    "    r\"HAS ADOPTED THIS RECOMMMENDATION:\",\n",
    "    r\"HAVE AGREED AS FOLLOWS:\",\n",
    "    r\"HAVE AGREED as follows:\",\n",
    "    r\"HAVE DECIDED to conclude the following Convention:\",\n",
    "    r\"AGREE AS FOLLOWS:\",\n",
    "    r\"HAVE DECIDED TO CREATE A TRANSPORT COMMUNITY:\",\n",
    "    r\"HAVE DECIDED TO CONCLUDE THIS AGREEMENT:\",\n",
    "    r\"HAVE DECIDED AS FOLLOWS:\",\n",
    "    r\"HAS DECIDED AS FOLLOWS:\",\n",
    "    r\"HEREBY RECOMMENDS MEMBER STATES:\",\n",
    "    r\"HEREBY RECOMMENDS THAT THE MEMBER STATES:\",\n",
    "    r\"HEREBY RECOMMENDS THAT THE MEMBER STATES SHOULD:\",\n",
    "    r\"HEREBY RECOMMENDS:\",\n",
    "    r\"HEREBY RECOMMENDS AS FOLLOWS:\",\n",
    "    r\"HEREBY AGREE:\",\n",
    "    r\"HEREBY RECOMMENDS THAT MEMBER STATES SHOULD:\",\n",
    "    r\"HAVE AGREED THE FOLLOWING:\",\n",
    "    r\"The following intergovernmental organizations were represented at the session:\",\n",
    "    r\"HAS ADOPTED THIS FRAMEWORK DECISION:\",\n",
    "    r\"HAS ADOPTED THIS GUIDELINE:\",\n",
    "    r\"DECIDES:\"\n",
    "]\n",
    "\n",
    "def article_finder(text):\n",
    "    starting_index = -1\n",
    "    for pattern in patterns:\n",
    "        match = re.search(pattern, text)\n",
    "        if match:\n",
    "            starting_index = match.start()\n",
    "        \n",
    "    if starting_index == -1:\n",
    "        return None \n",
    "\n",
    "    text_without_the_preamble = text[starting_index:]\n",
    "    ending_index = text_without_the_preamble.rfind(r\"Done at\")\n",
    "    if ending_index == -1:\n",
    "        ending_index = text_without_the_preamble.rfind(r\"Adopted in\")    \n",
    "        if ending_index == -1:\n",
    "            ending_index = text_without_the_preamble.rfind(r\"ANNEX\") \n",
    "            if ending_index == -1:\n",
    "                ending_index = text_without_the_preamble.rfind(r\"IN WITNESS WHEREOF\") \n",
    "                if ending_index == -1:\n",
    "                    return preprocess_text(text_without_the_preamble)\n",
    "    text_without_the_sign = text_without_the_preamble[:ending_index]\n",
    "\n",
    "    return preprocess_text(text_without_the_sign)"
   ]
  },
  {
   "cell_type": "markdown",
   "id": "ee55a653-fd26-47b5-beb9-338a21072c2c",
   "metadata": {},
   "source": [
    "The following columns were added for possible tokens analysis in order to understand how to setup a fine-tuning process (even thought it's not possible to do it currently)."
   ]
  },
  {
   "cell_type": "code",
   "execution_count": 5,
   "id": "66ec33c9-0c78-48e9-9677-6b6984b60fd0",
   "metadata": {},
   "outputs": [],
   "source": [
    "new_columns = ['reference_tokens', 'summary_tokens']\n",
    "\n",
    "for column in new_columns:\n",
    "    train_df[column] = 0\n",
    "    validation_df[column] = 0\n",
    "    test_df[column] = 0\n"
   ]
  },
  {
   "cell_type": "markdown",
   "id": "7d39cd09-b76f-407a-b165-0912583f03e4",
   "metadata": {},
   "source": [
    "At the end of the next cell the values indicates how many instances remained after marking as None the cells that were not compliant with the preprocessing procedure"
   ]
  },
  {
   "cell_type": "code",
   "execution_count": 6,
   "id": "27a34e65-c97d-42c0-a459-b541c96f30d0",
   "metadata": {},
   "outputs": [
    {
     "data": {
      "text/plain": [
       "(1074, 186, 187)"
      ]
     },
     "execution_count": 6,
     "metadata": {},
     "output_type": "execute_result"
    }
   ],
   "source": [
    "for index, row in train_df.iterrows():\n",
    "    train_df.loc[index, \"reference\"] = article_finder(train_df.loc[index, \"reference\"])\n",
    "    if train_df.loc[index, \"reference\"] is not None:\n",
    "        train_df.loc[index, \"reference_tokens\"] = len(word_tokenize(train_df.loc[index, \"reference\"], language='english'))\n",
    "    train_df.loc[index, \"summary_tokens\"] = len(word_tokenize(train_df.loc[index, \"summary\"], language='english'))\n",
    "    \n",
    "for index, _ in train_df.iterrows():\n",
    "    if _[\"reference\"] is None:\n",
    "        train_df = train_df.drop(index, axis=0)\n",
    "\n",
    "for index, row in validation_df.iterrows():\n",
    "    validation_df.loc[index, \"reference\"] = article_finder(validation_df.loc[index, \"reference\"])\n",
    "    if validation_df.loc[index, \"reference\"] is not None:\n",
    "        validation_df.loc[index, \"reference_tokens\"] = len(word_tokenize(validation_df.loc[index, \"reference\"], language='english'))\n",
    "    validation_df.loc[index, \"summary_tokens\"] = len(word_tokenize(validation_df.loc[index, \"summary\"], language='english'))\n",
    "    \n",
    "for index, _ in validation_df.iterrows():\n",
    "    if _[\"reference\"] is None:\n",
    "        validation_df = validation_df.drop(index, axis=0)\n",
    "\n",
    "for index, row in test_df.iterrows():\n",
    "    test_df.loc[index, \"reference\"] = article_finder(test_df.loc[index, \"reference\"])\n",
    "    if test_df.loc[index, \"reference\"] is not None:\n",
    "        test_df.loc[index, \"reference_tokens\"] = len(word_tokenize(test_df.loc[index, \"reference\"], language='english'))\n",
    "    test_df.loc[index, \"summary_tokens\"] = len(word_tokenize(test_df.loc[index, \"summary\"], language='english'))\n",
    "    \n",
    "for index, _ in test_df.iterrows():\n",
    "    if _[\"reference\"] is None:\n",
    "        test_df = test_df.drop(index, axis=0)\n",
    "\n",
    "len(train_df), len(validation_df), len(test_df)"
   ]
  },
  {
   "cell_type": "code",
   "execution_count": 7,
   "id": "12cd485d-25ef-43e0-92b7-8451c7563fe1",
   "metadata": {},
   "outputs": [],
   "source": [
    "train_df.to_csv('dataset/train_processed.csv', index=False)\n",
    "validation_df.to_csv('dataset/validation_processed.csv', index=False)\n",
    "test_df.to_csv('dataset/test_processed.csv', index=False)"
   ]
  },
  {
   "cell_type": "code",
   "execution_count": 8,
   "id": "3838c14d-8364-4c77-92db-213c5174d7a0",
   "metadata": {},
   "outputs": [],
   "source": [
    "new_train_df = pd.read_csv(\"dataset/train_processed.csv\")\n",
    "new_validation_df = pd.read_csv(\"dataset/validation_processed.csv\")\n",
    "new_test_df = pd.read_csv(\"dataset/test_processed.csv\")"
   ]
  },
  {
   "cell_type": "code",
   "execution_count": 9,
   "id": "6267222d-1cda-430c-9241-05212b597e8e",
   "metadata": {},
   "outputs": [
    {
     "data": {
      "image/png": "[encoded data removed]",
      "text/plain": [
       "<Figure size 400x300 with 1 Axes>"
      ]
     },
     "metadata": {},
     "output_type": "display_data"
    },
    {
     "data": {
      "image/png": "[encoded data removed]",
      "text/plain": [
       "<Figure size 400x300 with 1 Axes>"
      ]
     },
     "metadata": {},
     "output_type": "display_data"
    },
    {
     "data": {
      "image/png": "[encoded data removed]",
      "text/plain": [
       "<Figure size 400x300 with 1 Axes>"
      ]
     },
     "metadata": {},
     "output_type": "display_data"
    }
   ],
   "source": [
    "plt.figure(figsize=(4, 3))\n",
    "plt.hist(new_train_df[\"reference_tokens\"], label=\"Reference Tokens\", bins=30)\n",
    "plt.title(\"Reference Tokens\")\n",
    "plt.ylabel(\"Count\")\n",
    "plt.xlabel(\"N° of tokens\")\n",
    "plt.grid(True)\n",
    "plt.tight_layout()\n",
    "plt.savefig(\"reftokens_train.jpg\")\n",
    "plt.show()\n",
    "\n",
    "plt.figure(figsize=(4, 3))\n",
    "plt.hist(new_validation_df[\"reference_tokens\"], label=\"Reference Tokens\", bins=30)\n",
    "plt.title(\"Reference Tokens\")\n",
    "plt.ylabel(\"Count\")\n",
    "plt.xlabel(\"N° of tokens\")\n",
    "plt.grid(True)\n",
    "plt.tight_layout()\n",
    "plt.savefig(\"reftokens_validation.jpg\")\n",
    "plt.show()\n",
    "\n",
    "plt.figure(figsize=(4, 3))\n",
    "plt.hist(new_test_df[\"reference_tokens\"], label=\"Reference Tokens\", bins=30)\n",
    "plt.title(\"Reference Tokens\")\n",
    "plt.ylabel(\"Count\")\n",
    "plt.xlabel(\"N° of tokens\")\n",
    "plt.grid(True)\n",
    "plt.tight_layout()\n",
    "plt.savefig(\"reftokens_test.jpg\")\n",
    "plt.show()"
   ]
  },
  {
   "cell_type": "code",
   "execution_count": 10,
   "id": "12b3ebfd-9045-4e4d-88eb-35170b90c22f",
   "metadata": {},
   "outputs": [
    {
     "name": "stdout",
     "output_type": "stream",
     "text": [
      "ha adopted this regulation : chapter i definition article 1 definition for the purpose of this regulation , the following definition shall apply : ( a ) ‘ asset-backed security ’ mean non-equity security which either : ( i ) represent an interest in asset , including any right intended to ensure the servicing of those asset , the receipt or the timely receipt by holder of those asset of the amount payable under those asset ; ( ii ) are secured by asset and the term of the security provide for payment calculated by reference to those asset ; ( b ) ‘ equivalent third country market ’ mean a third country market which ha been deemed equivalent to a regulated market in accordance with the requirement set out in third and fourth subparagraphs of article 25 ( 4 ) of directive 2014/65/eu of the european parliament and of the council ( 3 ) ; ( c ) ‘ profit estimate ’ mean a profit forecast for a financial period which ha expired and for which result have not yet been published ; ( d ) ‘ profit 32019R0980\n",
      "---------\n",
      "ha adopted this decision : article 1 the purpose of this decision is to harmonise the technical condition for the availability and efficient use of radio spectrum by equipment using ultra-wideband technology in the union . article 2 for the purpose of this decision , the following definition shall apply : ( a ) ‘ equipment using ultra-wideband technology ’ mean equipment incorporating , a an integral part or a an accessory , technology for short-range radiocommunication , involving the intentional generation and transmission of radio-frequency energy that spread over a frequency range wider than 50 mhz , which may overlap several frequency band allocated to radiocommunication service ; ( b ) ‘ non-interference and non-protected basis ’ mean that no harmful interference may be caused to any radiocommunication service and that no claim may be made for protection of these device against interference originating from radiocommunication service ; ( c ) ‘ indoors ’ mean inside building or pl 32019D0785\n",
      "---------\n",
      "ha adopted this regulation : title i general provision chapter 1 subject matter , scope and definition article 1 subject matter this regulation lay down general , operational and maintenance requirement concerning the union registry and the independent transaction log provided for in article 20 ( 1 ) of directive 2003/87/ec . article 2 scope this regulation applies to allowance created for the purpose of the european union emission trading system ( eu ets ) . article 3 definition for the purpose of this regulation , the definition in article 3 of regulation ( eu ) no 1031/2010 and in article 3 of commission delegated regulation ( eu ) 2019/331 ( 17 ) shall apply . the following definition shall also apply : ( 1 ) ‘ central administrator ’ mean the person designated by the commission pursuant to article 20 of directive 2003/87/ec ; ( 2 ) ‘ national administrator ’ mean the entity responsible for administering on behalf of a member state a set of user account under the jurisdiction of a  32019R1122\n",
      "---------\n"
     ]
    }
   ],
   "source": [
    "# Some examples of the preprocessing\n",
    "\n",
    "for index, _ in new_train_df[:3].iterrows():\n",
    "    print(_[\"reference\"][:1000], _[\"celex_id\"])\n",
    "    print(\"---------\")"
   ]
  }
 ],
 "metadata": {
  "kernelspec": {
   "display_name": "Python 3 (ipykernel)",
   "language": "python",
   "name": "python3"
  },
  "language_info": {
   "codemirror_mode": {
    "name": "ipython",
    "version": 3
   },
   "file_extension": ".py",
   "mimetype": "text/x-python",
   "name": "python",
   "nbconvert_exporter": "python",
   "pygments_lexer": "ipython3",
   "version": "3.12.1"
  }
 },
 "nbformat": 4,
 "nbformat_minor": 5
}
