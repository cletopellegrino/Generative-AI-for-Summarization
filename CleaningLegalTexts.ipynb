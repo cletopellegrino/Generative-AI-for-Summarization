{
 "cells": [
  {
   "cell_type": "code",
   "execution_count": 1,
   "id": "36b36ca6-80d0-4c85-b5d9-bffe50007f30",
   "metadata": {},
   "outputs": [],
   "source": [
    "import pandas as pd\n",
    "\n",
    "import nltk\n",
    "from nltk.tokenize import word_tokenize\n",
    "from nltk.stem import WordNetLemmatizer\n",
    "import re\n",
    "\n",
    "import matplotlib.pyplot as plt"
   ]
  },
  {
   "cell_type": "markdown",
   "id": "2b6c8099-62ad-4eb1-8191-09ff74dffa52",
   "metadata": {},
   "source": [
    "The following preprocessing was done by considering all the json files, although the final test was performed only on the test set."
   ]
  },
  {
   "cell_type": "code",
   "execution_count": 2,
   "id": "5e84b34f-bcdf-43ec-b6b6-2d37b6478d81",
   "metadata": {},
   "outputs": [
    {
     "data": {
      "text/plain": [
       "188"
      ]
     },
     "execution_count": 2,
     "metadata": {},
     "output_type": "execute_result"
    }
   ],
   "source": [
    "# train_df = pd.read_json(\"dataset/train.json\", encoding=\"utf-8\", lines=True)\n",
    "# validation_df = pd.read_json(\"dataset/validation.json\", encoding=\"utf-8\", lines=True)\n",
    "test_df = pd.read_json(\"dataset/test.json\", encoding=\"utf-8\", lines=True)\n",
    "\n",
    "len(test_df)"
   ]
  },
  {
   "cell_type": "code",
   "execution_count": 3,
   "id": "3edd96d4-3e7a-4e02-8898-a528bef4dc3f",
   "metadata": {},
   "outputs": [],
   "source": [
    "def preprocess_text(text):\n",
    "    text = text.lower()\n",
    "    \n",
    "    tokens = word_tokenize(text, language='english')\n",
    "    \n",
    "    lemmatizer = WordNetLemmatizer()\n",
    "    lemmatized_tokens = [lemmatizer.lemmatize(word) for word in tokens]\n",
    "    \n",
    "    preprocessed_text = ' '.join(lemmatized_tokens)\n",
    "    \n",
    "    return preprocessed_text"
   ]
  },
  {
   "cell_type": "markdown",
   "id": "9c47f9ac-9bca-4f55-b5fc-4d8490592bfd",
   "metadata": {},
   "source": [
    "The following procedure is built to:\n",
    "- Find the frequent patterns that frame the main content of the text (preamble and sign/annex);\n",
    "- Take the resulting text and apply the preprocessing phase;\n",
    "\n",
    "For the texts that does not follow the previous rules, we just mark them as None."
   ]
  },
  {
   "cell_type": "code",
   "execution_count": 4,
   "id": "b3053b58-c265-436d-8fd7-5ded7f00f5cb",
   "metadata": {},
   "outputs": [],
   "source": [
    "patterns = [\n",
    "    r\"HAS ADOPTED THIS REGULATION:\",\n",
    "    r\"HAVE ADOPTED THIS REGULATION:\",\n",
    "    r\"HAS ADOPTED THESE RULES OF PROCEDURE:\",\n",
    "    r\"HEREBY ADOPT THIS RESOLUTION:\",\n",
    "    r\"HAVE ADOPTED THIS DIRECTIVE:\",\n",
    "    r\"HAD ADOPTED THIS DIRECTIVE:\",\n",
    "    r\"The Parties have agreed as follows:\",\n",
    "    r\"HAVE ADOPTED THIS DECISION:\",\n",
    "    r\"HAS ADOPTED THIS DECISION:\",\n",
    "    r\"HAVE AGREED ON THE FOLLOWING PROVISIONS:\",\n",
    "    r\"RECOMMENDS THAT MEMBER STATES:\",\n",
    "    r\"RECOMMEND THAT MEMBER STATES:\",\n",
    "    r\"HAS ADOPTED THIS JOINT ACTION:\",\n",
    "    r\"HAS ADOPTED THIS DIRECTIVE:\",\n",
    "    r\"HAS ADOPTED THIS DIRECTIVE\",\n",
    "    r\"HAVE ADOPTED THIS DIRECTIVE;\",\n",
    "    r\"HAS ADOPTED THIS COMMON POSITION:\",\n",
    "    r\"HAS ADOPTED THESE RULES:\",\n",
    "    r\"HAS ADOPTED THIS RECOMMENDATION:\",\n",
    "    r\"HAS ADOPTED THIS RECOMMMENDATION:\",\n",
    "    r\"HAVE AGREED AS FOLLOWS:\",\n",
    "    r\"HAVE AGREED as follows:\",\n",
    "    r\"HAVE DECIDED to conclude the following Convention:\",\n",
    "    r\"AGREE AS FOLLOWS:\",\n",
    "    r\"HAVE DECIDED TO CREATE A TRANSPORT COMMUNITY:\",\n",
    "    r\"HAVE DECIDED TO CONCLUDE THIS AGREEMENT:\",\n",
    "    r\"HAVE DECIDED AS FOLLOWS:\",\n",
    "    r\"HAS DECIDED AS FOLLOWS:\",\n",
    "    r\"HEREBY RECOMMENDS MEMBER STATES:\",\n",
    "    r\"HEREBY RECOMMENDS THAT THE MEMBER STATES:\",\n",
    "    r\"HEREBY RECOMMENDS THAT THE MEMBER STATES SHOULD:\",\n",
    "    r\"HEREBY RECOMMENDS:\",\n",
    "    r\"HEREBY RECOMMENDS AS FOLLOWS:\",\n",
    "    r\"HEREBY AGREE:\",\n",
    "    r\"HEREBY RECOMMENDS THAT MEMBER STATES SHOULD:\",\n",
    "    r\"HAVE AGREED THE FOLLOWING:\",\n",
    "    r\"The following intergovernmental organizations were represented at the session:\",\n",
    "    r\"HAS ADOPTED THIS FRAMEWORK DECISION:\",\n",
    "    r\"HAS ADOPTED THIS GUIDELINE:\",\n",
    "    r\"DECIDES:\"\n",
    "]\n",
    "\n",
    "def article_finder(text):\n",
    "    starting_index = -1\n",
    "    for pattern in patterns:\n",
    "        match = re.search(pattern, text)\n",
    "        if match:\n",
    "            starting_index = match.start()\n",
    "        \n",
    "    if starting_index == -1:\n",
    "        return None \n",
    "\n",
    "    text_without_the_preamble = text[starting_index:]\n",
    "    ending_index = text_without_the_preamble.rfind(r\"Done at\")\n",
    "    if ending_index == -1:\n",
    "        ending_index = text_without_the_preamble.rfind(r\"Adopted in\")    \n",
    "        if ending_index == -1:\n",
    "            ending_index = text_without_the_preamble.rfind(r\"ANNEX\") \n",
    "            if ending_index == -1:\n",
    "                ending_index = text_without_the_preamble.rfind(r\"IN WITNESS WHEREOF\") \n",
    "                if ending_index == -1:\n",
    "                    return preprocess_text(text_without_the_preamble)\n",
    "    text_without_the_sign = text_without_the_preamble[:ending_index]\n",
    "\n",
    "    return preprocess_text(text_without_the_sign)"
   ]
  },
  {
   "cell_type": "code",
   "execution_count": 5,
   "id": "66ec33c9-0c78-48e9-9677-6b6984b60fd0",
   "metadata": {},
   "outputs": [],
   "source": [
    "new_columns = ['reference_tokens', 'summary_tokens']\n",
    "\n",
    "for column in new_columns:\n",
    "    # train_df[colonna] = 0\n",
    "    # validation_df[colonna] = 0\n",
    "    test_df[column] = 0\n",
    "\n",
    "# This information will be usefull as stopping criterion for the reading algorithms"
   ]
  },
  {
   "cell_type": "code",
   "execution_count": 6,
   "id": "f6bcdea7-8b18-4ee8-a308-298f6d6dbb93",
   "metadata": {},
   "outputs": [
    {
     "data": {
      "text/html": [
       "<div>\n",
       "<style scoped>\n",
       "    .dataframe tbody tr th:only-of-type {\n",
       "        vertical-align: middle;\n",
       "    }\n",
       "\n",
       "    .dataframe tbody tr th {\n",
       "        vertical-align: top;\n",
       "    }\n",
       "\n",
       "    .dataframe thead th {\n",
       "        text-align: right;\n",
       "    }\n",
       "</style>\n",
       "<table border=\"1\" class=\"dataframe\">\n",
       "  <thead>\n",
       "    <tr style=\"text-align: right;\">\n",
       "      <th></th>\n",
       "      <th>celex_id</th>\n",
       "      <th>reference</th>\n",
       "      <th>summary</th>\n",
       "      <th>reference_tokens</th>\n",
       "      <th>summary_tokens</th>\n",
       "    </tr>\n",
       "  </thead>\n",
       "  <tbody>\n",
       "    <tr>\n",
       "      <th>0</th>\n",
       "      <td>32019R1156</td>\n",
       "      <td>12.7.2019\\nEN\\nOfficial Journal of the Europea...</td>\n",
       "      <td>Cross-border distribution of collective invest...</td>\n",
       "      <td>0</td>\n",
       "      <td>0</td>\n",
       "    </tr>\n",
       "    <tr>\n",
       "      <th>1</th>\n",
       "      <td>32019R1020</td>\n",
       "      <td>25.6.2019\\nEN\\nOfficial Journal of the Europea...</td>\n",
       "      <td>Market surveillance and compliance of products...</td>\n",
       "      <td>0</td>\n",
       "      <td>0</td>\n",
       "    </tr>\n",
       "    <tr>\n",
       "      <th>2</th>\n",
       "      <td>32019L0789</td>\n",
       "      <td>17.5.2019\\nEN\\nOfficial Journal of the Europea...</td>\n",
       "      <td>Copyright — broadcasters’ online transmissions...</td>\n",
       "      <td>0</td>\n",
       "      <td>0</td>\n",
       "    </tr>\n",
       "    <tr>\n",
       "      <th>3</th>\n",
       "      <td>32019R0515</td>\n",
       "      <td>29.3.2019\\nEN\\nOfficial Journal of the Europea...</td>\n",
       "      <td>Mutual recognition of goods\\nMutual recognitio...</td>\n",
       "      <td>0</td>\n",
       "      <td>0</td>\n",
       "    </tr>\n",
       "    <tr>\n",
       "      <th>4</th>\n",
       "      <td>32019R0517</td>\n",
       "      <td>29.3.2019\\nEN\\nOfficial Journal of the Europea...</td>\n",
       "      <td>The .eu top-level domain\\nThe .eu top-level do...</td>\n",
       "      <td>0</td>\n",
       "      <td>0</td>\n",
       "    </tr>\n",
       "    <tr>\n",
       "      <th>...</th>\n",
       "      <td>...</td>\n",
       "      <td>...</td>\n",
       "      <td>...</td>\n",
       "      <td>...</td>\n",
       "      <td>...</td>\n",
       "    </tr>\n",
       "    <tr>\n",
       "      <th>183</th>\n",
       "      <td>32008R0762</td>\n",
       "      <td>13.8.2008\\nEN\\nOfficial Journal of the Europea...</td>\n",
       "      <td>Aquaculture statistics\\nAquaculture statistics...</td>\n",
       "      <td>0</td>\n",
       "      <td>0</td>\n",
       "    </tr>\n",
       "    <tr>\n",
       "      <th>184</th>\n",
       "      <td>32010R1236</td>\n",
       "      <td>31.12.2010\\nEN\\nOfficial Journal of the Europe...</td>\n",
       "      <td>Future international cooperation in north-east...</td>\n",
       "      <td>0</td>\n",
       "      <td>0</td>\n",
       "    </tr>\n",
       "    <tr>\n",
       "      <th>185</th>\n",
       "      <td>32010R0066</td>\n",
       "      <td>30.1.2010\\nEN\\nOfficial Journal of the Europea...</td>\n",
       "      <td>Ecolabel\\nEcolabel\\nSUMMARY OF:\\nRegulation (E...</td>\n",
       "      <td>0</td>\n",
       "      <td>0</td>\n",
       "    </tr>\n",
       "    <tr>\n",
       "      <th>186</th>\n",
       "      <td>32009R0469</td>\n",
       "      <td>16.6.2009\\nEN\\nOfficial Journal of the Europea...</td>\n",
       "      <td>Supplementary protection certificates for medi...</td>\n",
       "      <td>0</td>\n",
       "      <td>0</td>\n",
       "    </tr>\n",
       "    <tr>\n",
       "      <th>187</th>\n",
       "      <td>22009A0610(01)</td>\n",
       "      <td>10.6.2009\\nEN\\nOfficial Journal of the Europea...</td>\n",
       "      <td>Strengthening cooperation with Switzerland, No...</td>\n",
       "      <td>0</td>\n",
       "      <td>0</td>\n",
       "    </tr>\n",
       "  </tbody>\n",
       "</table>\n",
       "<p>188 rows × 5 columns</p>\n",
       "</div>"
      ],
      "text/plain": [
       "           celex_id                                          reference  \\\n",
       "0        32019R1156  12.7.2019\\nEN\\nOfficial Journal of the Europea...   \n",
       "1        32019R1020  25.6.2019\\nEN\\nOfficial Journal of the Europea...   \n",
       "2        32019L0789  17.5.2019\\nEN\\nOfficial Journal of the Europea...   \n",
       "3        32019R0515  29.3.2019\\nEN\\nOfficial Journal of the Europea...   \n",
       "4        32019R0517  29.3.2019\\nEN\\nOfficial Journal of the Europea...   \n",
       "..              ...                                                ...   \n",
       "183      32008R0762  13.8.2008\\nEN\\nOfficial Journal of the Europea...   \n",
       "184      32010R1236  31.12.2010\\nEN\\nOfficial Journal of the Europe...   \n",
       "185      32010R0066  30.1.2010\\nEN\\nOfficial Journal of the Europea...   \n",
       "186      32009R0469  16.6.2009\\nEN\\nOfficial Journal of the Europea...   \n",
       "187  22009A0610(01)  10.6.2009\\nEN\\nOfficial Journal of the Europea...   \n",
       "\n",
       "                                               summary  reference_tokens  \\\n",
       "0    Cross-border distribution of collective invest...                 0   \n",
       "1    Market surveillance and compliance of products...                 0   \n",
       "2    Copyright — broadcasters’ online transmissions...                 0   \n",
       "3    Mutual recognition of goods\\nMutual recognitio...                 0   \n",
       "4    The .eu top-level domain\\nThe .eu top-level do...                 0   \n",
       "..                                                 ...               ...   \n",
       "183  Aquaculture statistics\\nAquaculture statistics...                 0   \n",
       "184  Future international cooperation in north-east...                 0   \n",
       "185  Ecolabel\\nEcolabel\\nSUMMARY OF:\\nRegulation (E...                 0   \n",
       "186  Supplementary protection certificates for medi...                 0   \n",
       "187  Strengthening cooperation with Switzerland, No...                 0   \n",
       "\n",
       "     summary_tokens  \n",
       "0                 0  \n",
       "1                 0  \n",
       "2                 0  \n",
       "3                 0  \n",
       "4                 0  \n",
       "..              ...  \n",
       "183               0  \n",
       "184               0  \n",
       "185               0  \n",
       "186               0  \n",
       "187               0  \n",
       "\n",
       "[188 rows x 5 columns]"
      ]
     },
     "execution_count": 6,
     "metadata": {},
     "output_type": "execute_result"
    }
   ],
   "source": [
    "test_df"
   ]
  },
  {
   "cell_type": "code",
   "execution_count": 7,
   "id": "27a34e65-c97d-42c0-a459-b541c96f30d0",
   "metadata": {},
   "outputs": [
    {
     "data": {
      "text/plain": [
       "187"
      ]
     },
     "execution_count": 7,
     "metadata": {},
     "output_type": "execute_result"
    }
   ],
   "source": [
    "# for index, row in train_df.iterrows():\n",
    "#    train_df.loc[index, \"reference\"] = article_finder(train_df.loc[index, \"reference\"])\n",
    "#    if train_df.loc[index, \"reference\"] is not None:\n",
    "#        train_df.loc[index, \"reference_tokens\"] = len(word_tokenize(train_df.loc[index, \"reference\"], language='english'))\n",
    "#    train_df.loc[index, \"summary_tokens\"] = len(word_tokenize(train_df.loc[index, \"summary\"], language='english'))\n",
    "    \n",
    "# for index, _ in train_df.iterrows():\n",
    "#    if _[\"reference\"] is None:\n",
    "#        train_df = train_df.drop(index, axis=0)\n",
    "\n",
    "# for index, row in validation_df.iterrows():\n",
    "#    validation_df.loc[index, \"reference\"] = article_finder(validation_df.loc[index, \"reference\"])\n",
    "#    if validation_df.loc[index, \"reference\"] is not None:\n",
    "#        validation_df.loc[index, \"reference_tokens\"] = len(word_tokenize(validation_df.loc[index, \"reference\"], language='english'))\n",
    "#    validation_df.loc[index, \"summary_tokens\"] = len(word_tokenize(validation_df.loc[index, \"summary\"], language='english'))\n",
    "    \n",
    "# for index, _ in validation_df.iterrows():\n",
    "#    if _[\"reference\"] is None:\n",
    "#        validation_df = validation_df.drop(index, axis=0)\n",
    "\n",
    "for index, row in test_df.iterrows():\n",
    "    test_df.loc[index, \"reference\"] = article_finder(test_df.loc[index, \"reference\"])\n",
    "    if test_df.loc[index, \"reference\"] is not None:\n",
    "        test_df.loc[index, \"reference_tokens\"] = len(word_tokenize(test_df.loc[index, \"reference\"], language='english'))\n",
    "    test_df.loc[index, \"summary_tokens\"] = len(word_tokenize(test_df.loc[index, \"summary\"], language='english'))\n",
    "    \n",
    "for index, _ in test_df.iterrows():\n",
    "    if _[\"reference\"] is None:\n",
    "        test_df = test_df.drop(index, axis=0)\n",
    "\n",
    "len(test_df)"
   ]
  },
  {
   "cell_type": "code",
   "execution_count": 8,
   "id": "12cd485d-25ef-43e0-92b7-8451c7563fe1",
   "metadata": {},
   "outputs": [],
   "source": [
    "# train_df.to_csv('dataset/train_processed.csv', index=False)\n",
    "# validation_df.to_csv('dataset/validation_processed.csv', index=False)\n",
    "test_df.to_csv('dataset/test_processed.csv', index=False)"
   ]
  },
  {
   "cell_type": "markdown",
   "id": "58de7a05-e9c9-4ec3-b3f0-8fc9a8332ff4",
   "metadata": {},
   "source": [
    "The following plots were meant for fine-tuning purposes (in order to set the appropriate max_tokens in the tokenizer):"
   ]
  },
  {
   "cell_type": "code",
   "execution_count": 9,
   "id": "3838c14d-8364-4c77-92db-213c5174d7a0",
   "metadata": {},
   "outputs": [],
   "source": [
    "new_test_df = pd.read_csv(\"dataset/test_processed.csv\")"
   ]
  },
  {
   "cell_type": "code",
   "execution_count": 10,
   "id": "6267222d-1cda-430c-9241-05212b597e8e",
   "metadata": {},
   "outputs": [
    {
     "data": {
      "image/png": "[encoded data removed]",
      "text/plain": [
       "<Figure size 400x300 with 1 Axes>"
      ]
     },
     "metadata": {},
     "output_type": "display_data"
    },
    {
     "data": {
      "text/plain": [
       "count      187.000000\n",
       "mean     10355.090909\n",
       "std      10941.703042\n",
       "min        100.000000\n",
       "25%       3670.000000\n",
       "50%       5760.000000\n",
       "75%      12639.500000\n",
       "max      53521.000000\n",
       "Name: reference_tokens, dtype: float64"
      ]
     },
     "execution_count": 10,
     "metadata": {},
     "output_type": "execute_result"
    }
   ],
   "source": [
    "reference_tokens = new_test_df[\"reference_tokens\"]\n",
    "\n",
    "plt.figure(figsize=(4, 3))\n",
    "plt.hist(reference_tokens, label=\"Reference Tokens\", bins=30)\n",
    "plt.title(\"Reference Tokens\")\n",
    "plt.ylabel(\"Count\")\n",
    "plt.xlabel(\"N° of tokens\")\n",
    "plt.grid(True)\n",
    "plt.tight_layout()\n",
    "plt.savefig(\"reftokens.jpg\")\n",
    "plt.show()\n",
    "\n",
    "new_test_df[\"reference_tokens\"].describe()"
   ]
  },
  {
   "cell_type": "code",
   "execution_count": 11,
   "id": "bff416da-043f-4bf9-9c01-8d55e9b82300",
   "metadata": {},
   "outputs": [
    {
     "data": {
      "image/png": "[encoded data removed]",
      "text/plain": [
       "<Figure size 400x300 with 1 Axes>"
      ]
     },
     "metadata": {},
     "output_type": "display_data"
    },
    {
     "data": {
      "text/plain": [
       "count     187.000000\n",
       "mean     1119.540107\n",
       "std       439.898623\n",
       "min       414.000000\n",
       "25%       806.000000\n",
       "50%      1054.000000\n",
       "75%      1375.000000\n",
       "max      3493.000000\n",
       "Name: summary_tokens, dtype: float64"
      ]
     },
     "execution_count": 11,
     "metadata": {},
     "output_type": "execute_result"
    }
   ],
   "source": [
    "summary_tokens = new_test_df[\"summary_tokens\"]\n",
    "\n",
    "plt.figure(figsize=(4, 3))\n",
    "plt.hist(summary_tokens, label=\"Summary Tokens\", bins=30)\n",
    "plt.title(\"Summary Tokens\")\n",
    "plt.ylabel(\"Count\")\n",
    "plt.xlabel(\"N° of tokens\")\n",
    "plt.grid(True)\n",
    "plt.show()\n",
    "\n",
    "new_test_df[\"summary_tokens\"].describe()"
   ]
  },
  {
   "cell_type": "code",
   "execution_count": 12,
   "id": "12b3ebfd-9045-4e4d-88eb-35170b90c22f",
   "metadata": {},
   "outputs": [
    {
     "name": "stdout",
     "output_type": "stream",
     "text": [
      "have adopted this regulation : article 1 subject matter this regulation establishes uniform rule on the publication of national provision concerning marketing requirement for collective investment undertaking and on marketing communication addressed to investor , a well a common principle concerning fee and charge levied on manager of collective investment undertaking in relation to their cross-border activity . it also provides for the establishment of a central database on the cross-border marketing of collective investment undertaking . article 2 scope this regulation shall apply to : ( a ) alternative investment fund manager ; ( b ) ucits management company , including any ucits which ha not designated a ucits management company ; ( c ) euveca manager ; and ( d ) eusef manager . article 3 definition for the purpose of this regulation , the following definition apply : ( a ) ‘ alternative investment fund ’ or ‘ aifs ’ mean aifs a defined in point ( a ) of article 4 ( 1 ) of directiv 32019R1156\n",
      "---------\n",
      "have adopted this regulation : chapter i general provision article 1 subject matter 1. the objective of this regulation is to improve the functioning of the internal market by strengthening the market surveillance of product covered by the union harmonisation legislation referred to in article 2 , with a view to ensuring that only compliant product that fulfil requirement providing a high level of protection of public interest , such a health and safety in general , health and safety in the workplace , the protection of consumer , the protection of the environment and public security and any other public interest protected by that legislation , are made available on the union market . 2. this regulation lay down rule and procedure for economic operator regarding product subject to certain union harmonisation legislation and establishes a framework for cooperation with economic operator . 3. this regulation also provides a framework for control on product entering the union market . art 32019R1020\n",
      "---------\n",
      "have adopted this directive : chapter i general provision article 1 subject matter this directive lay down rule that aim to enhance cross-border access to a greater number of television and radio programme , by facilitating the clearance of right for the provision of online service that are ancillary to the broadcast of certain type of television and radio programme , and for the retransmission of television and radio programme . it also lay down rule for the transmission of television and radio programme through the process of direct injection . article 2 definition for the purpose of this directive , the following definition apply : ( 1 ) ‘ ancillary online service ’ mean an online service consisting in the provision to the public , by or under the control and responsibility of a broadcasting organisation , of television or radio programme simultaneously with or for a defined period of time after their broadcast by the broadcasting organisation , a well a of any material which is anc 32019L0789\n",
      "---------\n"
     ]
    }
   ],
   "source": [
    "# Some examples of the preprocessing\n",
    "\n",
    "for index, _ in new_test_df[:3].iterrows():\n",
    "    print(_[\"reference\"][:1000], _[\"celex_id\"])\n",
    "    print(\"---------\")"
   ]
  }
 ],
 "metadata": {
  "kernelspec": {
   "display_name": "Python 3 (ipykernel)",
   "language": "python",
   "name": "python3"
  },
  "language_info": {
   "codemirror_mode": {
    "name": "ipython",
    "version": 3
   },
   "file_extension": ".py",
   "mimetype": "text/x-python",
   "name": "python",
   "nbconvert_exporter": "python",
   "pygments_lexer": "ipython3",
   "version": "3.12.1"
  }
 },
 "nbformat": 4,
 "nbformat_minor": 5
}
